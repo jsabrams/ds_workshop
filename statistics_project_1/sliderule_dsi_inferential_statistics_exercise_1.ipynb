{
 "cells": [
  {
   "cell_type": "markdown",
   "metadata": {},
   "source": [
    "## What is the true normal human body temperature? \n",
    "\n",
    "#### Background\n",
    "\n",
    "The mean normal body temperature was held to be 37$^{\\circ}$C or 98.6$^{\\circ}$F for more than 120 years since it was first conceptualized and reported by Carl Wunderlich in a famous 1868 book. In 1992, this value was revised to 36.8$^{\\circ}$C or 98.2$^{\\circ}$F. \n",
    "\n",
    "#### Exercise\n",
    "In this exercise, you will analyze a dataset of human body temperatures and employ the concepts of hypothesis testing, confidence intervals, and statistical significance.\n",
    "\n",
    "Answer the following questions **in this notebook below and submit to your Github account**. \n",
    "\n",
    "1.  Is the distribution of body temperatures normal? \n",
    "    - Remember that this is a condition for the CLT, and hence the statistical tests we are using, to apply. \n",
    "2.  Is the true population mean really 98.6 degrees F?\n",
    "    - Bring out the one sample hypothesis test! In this situation, is it approriate to apply a z-test or a t-test? How will the result be different?\n",
    "3.  At what temperature should we consider someone's temperature to be \"abnormal\"?\n",
    "    - Start by computing the margin of error and confidence interval.\n",
    "4.  Is there a significant difference between males and females in normal temperature?\n",
    "    - Set up and solve for a two sample hypothesis testing.\n",
    "\n",
    "You can include written notes in notebook cells using Markdown: \n",
    "   - In the control panel at the top, choose Cell > Cell Type > Markdown\n",
    "   - Markdown syntax: http://nestacms.com/docs/creating-content/markdown-cheat-sheet\n",
    "\n",
    "#### Resources\n",
    "\n",
    "+ Information and data sources: http://www.amstat.org/publications/jse/datasets/normtemp.txt, http://www.amstat.org/publications/jse/jse_data_archive.htm\n",
    "+ Markdown syntax: http://nestacms.com/docs/creating-content/markdown-cheat-sheet\n",
    "\n",
    "****"
   ]
  },
  {
   "cell_type": "code",
   "execution_count": 8,
   "metadata": {
    "collapsed": true
   },
   "outputs": [],
   "source": [
    "import pandas as pd\n",
    "import scipy.stats as stats\n",
    "import matplotlib.pyplot as plt\n",
    "%matplotlib inline\n",
    "import numpy as np"
   ]
  },
  {
   "cell_type": "code",
   "execution_count": 9,
   "metadata": {
    "collapsed": false
   },
   "outputs": [],
   "source": [
    "df = pd.read_csv('data/human_body_temperature.csv')"
   ]
  },
  {
   "cell_type": "markdown",
   "metadata": {},
   "source": [
    "Question 1: Is the distribution of body temperatures normal?"
   ]
  },
  {
   "cell_type": "code",
   "execution_count": 10,
   "metadata": {
    "collapsed": false
   },
   "outputs": [
    {
     "data": {
      "text/plain": [
       "<matplotlib.axes.AxesSubplot at 0x10f414890>"
      ]
     },
     "execution_count": 10,
     "metadata": {},
     "output_type": "execute_result"
    },
    {
     "data": {
      "image/png": "[encoded data removed]",
      "text/plain": [
       "<matplotlib.figure.Figure at 0x10f414150>"
      ]
     },
     "metadata": {},
     "output_type": "display_data"
    }
   ],
   "source": [
    "df.temperature.hist()"
   ]
  },
  {
   "cell_type": "markdown",
   "metadata": {},
   "source": [
    "It looks a bit skewed from the histogram, but otherwise normal. I am making a qqplot to get a better sense."
   ]
  },
  {
   "cell_type": "code",
   "execution_count": 11,
   "metadata": {
    "collapsed": false
   },
   "outputs": [
    {
     "data": {
      "text/plain": [
       "((array([-2.55445479, -2.22902648, -2.0419783 , -1.90719589, -1.80015121,\n",
       "         -1.71047373, -1.63275826, -1.56381343, -1.50159038, -1.44469181,\n",
       "         -1.39212017, -1.3431372 , -1.29718048, -1.2538112 , -1.21268003,\n",
       "         -1.17350409, -1.13605091, -1.10012698, -1.06556939, -1.03223961,\n",
       "         -1.00001877, -0.96880405, -0.93850586, -0.90904562, -0.88035396,\n",
       "         -0.85236935, -0.82503685, -0.79830725, -0.77213622, -0.74648367,\n",
       "         -0.72131321, -0.69659166, -0.67228871, -0.64837651, -0.62482945,\n",
       "         -0.60162387, -0.57873784, -0.55615102, -0.53384444, -0.51180041,\n",
       "         -0.49000234, -0.46843466, -0.44708273, -0.42593273, -0.40497157,\n",
       "         -0.38418687, -0.36356684, -0.34310027, -0.32277642, -0.30258504,\n",
       "         -0.28251629, -0.2625607 , -0.24270913, -0.22295275, -0.20328303,\n",
       "         -0.18369165, -0.16417053, -0.14471177, -0.12530767, -0.10595063,\n",
       "         -0.08663321, -0.06734807, -0.04808795, -0.02884566, -0.00961403,\n",
       "          0.00961403,  0.02884566,  0.04808795,  0.06734807,  0.08663321,\n",
       "          0.10595063,  0.12530767,  0.14471177,  0.16417053,  0.18369165,\n",
       "          0.20328303,  0.22295275,  0.24270913,  0.2625607 ,  0.28251629,\n",
       "          0.30258504,  0.32277642,  0.34310027,  0.36356684,  0.38418687,\n",
       "          0.40497157,  0.42593273,  0.44708273,  0.46843466,  0.49000234,\n",
       "          0.51180041,  0.53384444,  0.55615102,  0.57873784,  0.60162387,\n",
       "          0.62482945,  0.64837651,  0.67228871,  0.69659166,  0.72131321,\n",
       "          0.74648367,  0.77213622,  0.79830725,  0.82503685,  0.85236935,\n",
       "          0.88035396,  0.90904562,  0.93850586,  0.96880405,  1.00001877,\n",
       "          1.03223961,  1.06556939,  1.10012698,  1.13605091,  1.17350409,\n",
       "          1.21268003,  1.2538112 ,  1.29718048,  1.3431372 ,  1.39212017,\n",
       "          1.44469181,  1.50159038,  1.56381343,  1.63275826,  1.71047373,\n",
       "          1.80015121,  1.90719589,  2.0419783 ,  2.22902648,  2.55445479]),\n",
       "  array([  96.3,   96.4,   96.7,   96.7,   96.8,   96.9,   97. ,   97.1,\n",
       "           97.1,   97.1,   97.2,   97.2,   97.2,   97.3,   97.4,   97.4,\n",
       "           97.4,   97.4,   97.4,   97.5,   97.5,   97.6,   97.6,   97.6,\n",
       "           97.6,   97.7,   97.7,   97.7,   97.8,   97.8,   97.8,   97.8,\n",
       "           97.8,   97.8,   97.8,   97.9,   97.9,   97.9,   97.9,   97.9,\n",
       "           98. ,   98. ,   98. ,   98. ,   98. ,   98. ,   98. ,   98. ,\n",
       "           98. ,   98. ,   98. ,   98.1,   98.1,   98.1,   98.2,   98.2,\n",
       "           98.2,   98.2,   98.2,   98.2,   98.2,   98.2,   98.2,   98.2,\n",
       "           98.3,   98.3,   98.3,   98.3,   98.3,   98.4,   98.4,   98.4,\n",
       "           98.4,   98.4,   98.4,   98.4,   98.4,   98.4,   98.5,   98.5,\n",
       "           98.5,   98.6,   98.6,   98.6,   98.6,   98.6,   98.6,   98.6,\n",
       "           98.6,   98.6,   98.6,   98.7,   98.7,   98.7,   98.7,   98.7,\n",
       "           98.7,   98.7,   98.7,   98.8,   98.8,   98.8,   98.8,   98.8,\n",
       "           98.8,   98.8,   98.8,   98.8,   98.8,   98.9,   98.9,   99. ,\n",
       "           99. ,   99. ,   99. ,   99. ,   99.1,   99.1,   99.1,   99.2,\n",
       "           99.2,   99.2,   99.3,   99.3,   99.4,   99.4,   99.5,   99.9,\n",
       "          100. ,  100.8])),\n",
       " (0.73603123655066427, 98.249230769230763, 0.99157200365856779))"
      ]
     },
     "execution_count": 11,
     "metadata": {},
     "output_type": "execute_result"
    },
    {
     "data": {
      "image/png": "[encoded data removed]",
      "text/plain": [
       "<matplotlib.figure.Figure at 0x10f436050>"
      ]
     },
     "metadata": {},
     "output_type": "display_data"
    }
   ],
   "source": [
    "stats.probplot(df.temperature, dist=\"norm\", plot=plt)"
   ]
  },
  {
   "cell_type": "markdown",
   "metadata": {},
   "source": [
    "The ordered values are on the unity line with the theoretical quantiles. The distribution of body temperatures in this data set appears normal."
   ]
  },
  {
   "cell_type": "markdown",
   "metadata": {},
   "source": [
    "Question 2: Is the true population mean really 98.6 degrees F?\n",
    "We do not know the population standard deviation, but we have enough samples (>30) to estimate the population standard deviation. With a sample larger than 30 and knowledge of the true population standard deviation, a z-statistic is appropriate. "
   ]
  },
  {
   "cell_type": "code",
   "execution_count": 15,
   "metadata": {
    "collapsed": false
   },
   "outputs": [
    {
     "data": {
      "text/plain": [
       "-5.4548232924008921"
      ]
     },
     "execution_count": 15,
     "metadata": {},
     "output_type": "execute_result"
    }
   ],
   "source": [
    "#Single sample Student's t-test\n",
    "t_stat = (df.temperature.mean() - 98.6) / (df.temperature.std() / (float(df.temperature.size) ** 0.5))\n",
    "t_stat"
   ]
  },
  {
   "cell_type": "code",
   "execution_count": 16,
   "metadata": {
    "collapsed": false
   },
   "outputs": [
    {
     "data": {
      "text/plain": [
       "2.410632041155355e-07"
      ]
     },
     "execution_count": 16,
     "metadata": {},
     "output_type": "execute_result"
    }
   ],
   "source": [
    "#Look up the p-value\n",
    "pval = stats.t.sf(np.abs(t_stat), df.temperature.size-1)*2\n",
    "pval"
   ]
  },
  {
   "cell_type": "markdown",
   "metadata": {},
   "source": [
    "The p-value is quite small in this case (pval < 0.0001). It is very unlikely to have observed these data, given a true population mean of 98.6. Therefore, we may reject the null hypothesis that the mean body temperature of the population is 98.6."
   ]
  },
  {
   "cell_type": "markdown",
   "metadata": {},
   "source": [
    "Question 3: At what temperature should we consider someone's temperature to be \"abnormal\"?\n",
    "I will consider a temperature outside of the 95% confidence interval to be abnormal."
   ]
  },
  {
   "cell_type": "code",
   "execution_count": 18,
   "metadata": {
    "collapsed": false
   },
   "outputs": [
    {
     "data": {
      "text/plain": [
       "0.12603665700141578"
      ]
     },
     "execution_count": 18,
     "metadata": {},
     "output_type": "execute_result"
    }
   ],
   "source": [
    "#Calculate a margin of error\n",
    "#z* is ~1.96 for a 95% confidence interval\n",
    "me = 1.96 * (df.temperature.std() / (float(df.temperature.size) ** 0.5))\n",
    "me"
   ]
  },
  {
   "cell_type": "code",
   "execution_count": 19,
   "metadata": {
    "collapsed": false
   },
   "outputs": [
    {
     "data": {
      "text/plain": [
       "98.123194112229356"
      ]
     },
     "execution_count": 19,
     "metadata": {},
     "output_type": "execute_result"
    }
   ],
   "source": [
    "low_ci = df.temperature.mean() - me\n",
    "low_ci"
   ]
  },
  {
   "cell_type": "code",
   "execution_count": 20,
   "metadata": {
    "collapsed": false
   },
   "outputs": [
    {
     "data": {
      "text/plain": [
       "98.375267426232199"
      ]
     },
     "execution_count": 20,
     "metadata": {},
     "output_type": "execute_result"
    }
   ],
   "source": [
    "high_ci = df.temperature.mean() + me\n",
    "high_ci"
   ]
  },
  {
   "cell_type": "markdown",
   "metadata": {},
   "source": [
    "By this metric, a temperature below 98.12 or above 98.38 is abnormal."
   ]
  },
  {
   "cell_type": "markdown",
   "metadata": {},
   "source": [
    "Question 4: Is there a significant difference between males and females in normal temperature?\n",
    "First, I will check that both distributions have the same n"
   ]
  },
  {
   "cell_type": "code",
   "execution_count": 22,
   "metadata": {
    "collapsed": false
   },
   "outputs": [],
   "source": [
    "male = df[df.gender == 'M']\n",
    "female = df[df.gender == 'F']"
   ]
  },
  {
   "cell_type": "code",
   "execution_count": 30,
   "metadata": {
    "collapsed": false
   },
   "outputs": [
    {
     "data": {
      "text/plain": [
       "65"
      ]
     },
     "execution_count": 30,
     "metadata": {},
     "output_type": "execute_result"
    }
   ],
   "source": [
    "male.temperature.size"
   ]
  },
  {
   "cell_type": "code",
   "execution_count": 31,
   "metadata": {
    "collapsed": false
   },
   "outputs": [
    {
     "data": {
      "text/plain": [
       "65"
      ]
     },
     "execution_count": 31,
     "metadata": {},
     "output_type": "execute_result"
    }
   ],
   "source": [
    "female.temperature.size"
   ]
  },
  {
   "cell_type": "markdown",
   "metadata": {},
   "source": [
    "Now I will check if they are both normal"
   ]
  },
  {
   "cell_type": "code",
   "execution_count": 27,
   "metadata": {
    "collapsed": false
   },
   "outputs": [
    {
     "data": {
      "text/plain": [
       "((array([-2.3041488 , -1.9474555 , -1.73875672, -1.58628365, -1.46371296,\n",
       "         -1.35987397, -1.26892666, -1.1874133 , -1.11310799, -1.04448844,\n",
       "         -0.98046451, -0.92022672, -0.86315599, -0.8087671 , -0.75667176,\n",
       "         -0.70655357, -0.65815059, -0.61124291, -0.56564343, -0.52119116,\n",
       "         -0.47774596, -0.4351846 , -0.39339758, -0.35228669, -0.31176295,\n",
       "         -0.271745  , -0.23215772, -0.1929311 , -0.15399923, -0.11529947,\n",
       "         -0.07677169, -0.03835758,  0.        ,  0.03835758,  0.07677169,\n",
       "          0.11529947,  0.15399923,  0.1929311 ,  0.23215772,  0.271745  ,\n",
       "          0.31176295,  0.35228669,  0.39339758,  0.4351846 ,  0.47774596,\n",
       "          0.52119116,  0.56564343,  0.61124291,  0.65815059,  0.70655357,\n",
       "          0.75667176,  0.8087671 ,  0.86315599,  0.92022672,  0.98046451,\n",
       "          1.04448844,  1.11310799,  1.1874133 ,  1.26892666,  1.35987397,\n",
       "          1.46371296,  1.58628365,  1.73875672,  1.9474555 ,  2.3041488 ]),\n",
       "  array([ 96.3,  96.7,  96.9,  97. ,  97.1,  97.1,  97.1,  97.2,  97.3,\n",
       "          97.4,  97.4,  97.4,  97.4,  97.5,  97.5,  97.6,  97.6,  97.6,\n",
       "          97.7,  97.8,  97.8,  97.8,  97.8,  97.9,  97.9,  98. ,  98. ,\n",
       "          98. ,  98. ,  98. ,  98. ,  98.1,  98.1,  98.2,  98.2,  98.2,\n",
       "          98.2,  98.3,  98.3,  98.4,  98.4,  98.4,  98.4,  98.5,  98.5,\n",
       "          98.6,  98.6,  98.6,  98.6,  98.6,  98.6,  98.7,  98.7,  98.8,\n",
       "          98.8,  98.8,  98.9,  99. ,  99. ,  99. ,  99.1,  99.2,  99.3,\n",
       "          99.4,  99.5])),\n",
       " (0.71096398627924362, 98.1046153846154, 0.99599714066005907))"
      ]
     },
     "execution_count": 27,
     "metadata": {},
     "output_type": "execute_result"
    },
    {
     "data": {
      "image/png": "[encoded data removed]",
      "text/plain": [
       "<matplotlib.figure.Figure at 0x10f516d90>"
      ]
     },
     "metadata": {},
     "output_type": "display_data"
    }
   ],
   "source": [
    "stats.probplot(male.temperature, dist=\"norm\", plot=plt)"
   ]
  },
  {
   "cell_type": "code",
   "execution_count": 28,
   "metadata": {
    "collapsed": false
   },
   "outputs": [
    {
     "data": {
      "text/plain": [
       "((array([-2.3041488 , -1.9474555 , -1.73875672, -1.58628365, -1.46371296,\n",
       "         -1.35987397, -1.26892666, -1.1874133 , -1.11310799, -1.04448844,\n",
       "         -0.98046451, -0.92022672, -0.86315599, -0.8087671 , -0.75667176,\n",
       "         -0.70655357, -0.65815059, -0.61124291, -0.56564343, -0.52119116,\n",
       "         -0.47774596, -0.4351846 , -0.39339758, -0.35228669, -0.31176295,\n",
       "         -0.271745  , -0.23215772, -0.1929311 , -0.15399923, -0.11529947,\n",
       "         -0.07677169, -0.03835758,  0.        ,  0.03835758,  0.07677169,\n",
       "          0.11529947,  0.15399923,  0.1929311 ,  0.23215772,  0.271745  ,\n",
       "          0.31176295,  0.35228669,  0.39339758,  0.4351846 ,  0.47774596,\n",
       "          0.52119116,  0.56564343,  0.61124291,  0.65815059,  0.70655357,\n",
       "          0.75667176,  0.8087671 ,  0.86315599,  0.92022672,  0.98046451,\n",
       "          1.04448844,  1.11310799,  1.1874133 ,  1.26892666,  1.35987397,\n",
       "          1.46371296,  1.58628365,  1.73875672,  1.9474555 ,  2.3041488 ]),\n",
       "  array([  96.4,   96.7,   96.8,   97.2,   97.2,   97.4,   97.6,   97.7,\n",
       "           97.7,   97.8,   97.8,   97.8,   97.9,   97.9,   97.9,   98. ,\n",
       "           98. ,   98. ,   98. ,   98. ,   98.1,   98.2,   98.2,   98.2,\n",
       "           98.2,   98.2,   98.2,   98.3,   98.3,   98.3,   98.4,   98.4,\n",
       "           98.4,   98.4,   98.4,   98.5,   98.6,   98.6,   98.6,   98.6,\n",
       "           98.7,   98.7,   98.7,   98.7,   98.7,   98.7,   98.8,   98.8,\n",
       "           98.8,   98.8,   98.8,   98.8,   98.8,   98.9,   99. ,   99. ,\n",
       "           99.1,   99.1,   99.2,   99.2,   99.3,   99.4,   99.9,  100. ,\n",
       "          100.8])),\n",
       " (0.74363827899241952, 98.393846153846155, 0.97909269426515888))"
      ]
     },
     "execution_count": 28,
     "metadata": {},
     "output_type": "execute_result"
    },
    {
     "data": {
      "image/png": "[encoded data removed]",
      "text/plain": [
       "<matplotlib.figure.Figure at 0x10f4f9390>"
      ]
     },
     "metadata": {},
     "output_type": "display_data"
    }
   ],
   "source": [
    "stats.probplot(female.temperature, dist=\"norm\", plot=plt)"
   ]
  },
  {
   "cell_type": "markdown",
   "metadata": {},
   "source": [
    "Both seem to be normally distributed, so we can proceed with a t-test."
   ]
  },
  {
   "cell_type": "code",
   "execution_count": 34,
   "metadata": {
    "collapsed": false
   },
   "outputs": [
    {
     "data": {
      "text/plain": [
       "-2.2854345381652541"
      ]
     },
     "execution_count": 34,
     "metadata": {},
     "output_type": "execute_result"
    }
   ],
   "source": [
    "mean_diff = male.temperature.mean() - female.temperature.mean()\n",
    "pooled_std = ((male.temperature.std() ** 2) + (female.temperature.std() ** 2)) ** 0.5\n",
    "n = float(female.temperature.size)\n",
    "t_stat = mean_diff / (pooled_std * ((1 / n) ** 0.5))\n",
    "t_stat"
   ]
  },
  {
   "cell_type": "code",
   "execution_count": 35,
   "metadata": {
    "collapsed": false
   },
   "outputs": [
    {
     "data": {
      "text/plain": [
       "0.025609613391863906"
      ]
     },
     "execution_count": 35,
     "metadata": {},
     "output_type": "execute_result"
    }
   ],
   "source": [
    "pval = stats.t.sf(np.abs(t_stat), male.temperature.size-1)*2\n",
    "pval"
   ]
  },
  {
   "cell_type": "code",
   "execution_count": 36,
   "metadata": {
    "collapsed": false
   },
   "outputs": [
    {
     "data": {
      "text/plain": [
       "98.1046153846154"
      ]
     },
     "execution_count": 36,
     "metadata": {},
     "output_type": "execute_result"
    }
   ],
   "source": [
    "male.temperature.mean()"
   ]
  },
  {
   "cell_type": "code",
   "execution_count": 37,
   "metadata": {
    "collapsed": false
   },
   "outputs": [
    {
     "data": {
      "text/plain": [
       "98.393846153846127"
      ]
     },
     "execution_count": 37,
     "metadata": {},
     "output_type": "execute_result"
    }
   ],
   "source": [
    "female.temperature.mean()"
   ]
  },
  {
   "cell_type": "markdown",
   "metadata": {},
   "source": [
    "The p-value is less that 0.05, so, at that level, we can reject the null hypothesis that males and females have the same body temperature. Instead, it appears that females have a slightly higher body temperature than males."
   ]
  },
  {
   "cell_type": "code",
   "execution_count": null,
   "metadata": {
    "collapsed": true
   },
   "outputs": [],
   "source": []
  },
  {
   "cell_type": "code",
   "execution_count": null,
   "metadata": {
    "collapsed": true
   },
   "outputs": [],
   "source": []
  },
  {
   "cell_type": "code",
   "execution_count": null,
   "metadata": {
    "collapsed": true
   },
   "outputs": [],
   "source": []
  },
  {
   "cell_type": "code",
   "execution_count": null,
   "metadata": {
    "collapsed": true
   },
   "outputs": [],
   "source": []
  },
  {
   "cell_type": "code",
   "execution_count": null,
   "metadata": {
    "collapsed": true
   },
   "outputs": [],
   "source": []
  },
  {
   "cell_type": "code",
   "execution_count": null,
   "metadata": {
    "collapsed": true
   },
   "outputs": [],
   "source": []
  }
 ],
 "metadata": {
  "kernelspec": {
   "display_name": "Python 2",
   "language": "python",
   "name": "python2"
  },
  "language_info": {
   "codemirror_mode": {
    "name": "ipython",
    "version": 2
   },
   "file_extension": ".py",
   "mimetype": "text/x-python",
   "name": "python",
   "nbconvert_exporter": "python",
   "pygments_lexer": "ipython2",
   "version": "2.7.10"
  }
 },
 "nbformat": 4,
 "nbformat_minor": 0
}
