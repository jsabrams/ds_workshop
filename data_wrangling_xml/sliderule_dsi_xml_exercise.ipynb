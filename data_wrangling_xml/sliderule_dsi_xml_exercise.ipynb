{
 "cells": [
  {
   "cell_type": "markdown",
   "metadata": {},
   "source": [
    "# XML example and exercise\n",
    "****\n",
    "+ study examples of accessing nodes in XML tree structure  \n",
    "+ work on exercise to be completed and submitted\n",
    "****\n",
    "+ reference: https://docs.python.org/2.7/library/xml.etree.elementtree.html\n",
    "+ data source: http://www.dbis.informatik.uni-goettingen.de/Mondial\n",
    "****"
   ]
  },
  {
   "cell_type": "code",
   "execution_count": 1,
   "metadata": {
    "collapsed": true
   },
   "outputs": [],
   "source": [
    "from xml.etree import ElementTree as ET"
   ]
  },
  {
   "cell_type": "markdown",
   "metadata": {},
   "source": [
    "## XML example\n",
    "\n",
    "+ for details about tree traversal and iterators, see https://docs.python.org/2.7/library/xml.etree.elementtree.html"
   ]
  },
  {
   "cell_type": "code",
   "execution_count": 2,
   "metadata": {
    "collapsed": true
   },
   "outputs": [],
   "source": [
    "document_tree = ET.parse( './data/mondial_database_less.xml' )"
   ]
  },
  {
   "cell_type": "code",
   "execution_count": 3,
   "metadata": {
    "collapsed": false
   },
   "outputs": [
    {
     "name": "stdout",
     "output_type": "stream",
     "text": [
      "Albania\n",
      "Greece\n",
      "Macedonia\n",
      "Serbia\n",
      "Montenegro\n",
      "Kosovo\n",
      "Andorra\n"
     ]
    }
   ],
   "source": [
    "# print names of all countries\n",
    "for child in document_tree.getroot():\n",
    "    print child.find('name').text"
   ]
  },
  {
   "cell_type": "code",
   "execution_count": 4,
   "metadata": {
    "collapsed": false
   },
   "outputs": [
    {
     "name": "stdout",
     "output_type": "stream",
     "text": [
      "* Albania: Tirana, Shkodër, Durrës, Vlorë, Elbasan, Korçë\n",
      "* Greece: Komotini, Kavala, Athina, Peiraias, Peristeri, Acharnes, Patra, Kozani, Kerkyra, Ioannina, Thessaloniki, Iraklio, Chania, Ermoupoli, Rhodes, Tripoli, Lamia, Chalkida, Larissa, Volos, Mytilini, Karyes\n",
      "* Macedonia: Skopje, Kumanovo\n",
      "* Serbia: Beograd, Novi Sad, Niš\n",
      "* Montenegro: Podgorica\n",
      "* Kosovo: Prishtine\n",
      "* Andorra: Andorra la Vella\n"
     ]
    }
   ],
   "source": [
    "# print names of all countries and their cities\n",
    "for element in document_tree.iterfind('country'):\n",
    "    print '* ' + element.find('name').text + ':',\n",
    "    capitals_string = ''\n",
    "    for subelement in element.getiterator('city'):\n",
    "        capitals_string += subelement.find('name').text + ', '\n",
    "    print capitals_string[:-2]"
   ]
  },
  {
   "cell_type": "markdown",
   "metadata": {},
   "source": [
    "****\n",
    "## XML exercise\n",
    "\n",
    "Using data in 'data/mondial_database.xml', the examples above, and refering to https://docs.python.org/2.7/library/xml.etree.elementtree.html, find\n",
    "\n",
    "1. 10 countries with the lowest infant mortality rates\n",
    "2. 10 cities with the largest population\n",
    "3. 10 ethnic groups with the largest overall populations (sum of best/latest estimates over all countries)\n",
    "4. name and country of a) longest river, b) largest lake and c) airport at highest elevation"
   ]
  },
  {
   "cell_type": "code",
   "execution_count": null,
   "metadata": {
    "collapsed": false
   },
   "outputs": [],
   "source": []
  },
  {
   "cell_type": "code",
   "execution_count": 137,
   "metadata": {
    "collapsed": false
   },
   "outputs": [],
   "source": [
    "import numpy as np\n",
    "import pandas as pd\n",
    "document = ET.parse( './data/mondial_database.xml' )\n",
    "#Make some empty lists to store things\n",
    "country = []\n",
    "inf_mort = []\n",
    "city = []\n",
    "city_pop = []\n",
    "for element in document.iterfind('country'):                            #Iterate through the countries\n",
    "    country.append(element.find('name').text)                           #Store each name\n",
    "    if element.find('infant_mortality') is not None:\n",
    "         inf_mort.append(element.find('infant_mortality').text)         #Store each infant mortality\n",
    "    else:\n",
    "        inf_mort.append(np.nan)\n",
    "    for subelement in element.getiterator('city'):                      #Iterate through the cities\n",
    "        city.append(subelement.find('name').text)                       #Store the city name\n",
    "        if len(subelement.findall('population')):                       #Store the city population from the latest entry\n",
    "            city_pop.append(subelement.findall('population')[-1].text)\n",
    "        else:\n",
    "            city_pop.append(np.nan)\n",
    " \n",
    "        "
   ]
  },
  {
   "cell_type": "code",
   "execution_count": 96,
   "metadata": {
    "collapsed": false
   },
   "outputs": [
    {
     "data": {
      "text/html": [
       "<div>\n",
       "<table border=\"1\" class=\"dataframe\">\n",
       "  <thead>\n",
       "    <tr style=\"text-align: right;\">\n",
       "      <th></th>\n",
       "      <th>country</th>\n",
       "      <th>inf_mort</th>\n",
       "    </tr>\n",
       "  </thead>\n",
       "  <tbody>\n",
       "    <tr>\n",
       "      <th>38</th>\n",
       "      <td>Monaco</td>\n",
       "      <td>1.809570</td>\n",
       "    </tr>\n",
       "    <tr>\n",
       "      <th>98</th>\n",
       "      <td>Japan</td>\n",
       "      <td>2.130859</td>\n",
       "    </tr>\n",
       "    <tr>\n",
       "      <th>117</th>\n",
       "      <td>Bermuda</td>\n",
       "      <td>2.480469</td>\n",
       "    </tr>\n",
       "    <tr>\n",
       "      <th>36</th>\n",
       "      <td>Norway</td>\n",
       "      <td>2.480469</td>\n",
       "    </tr>\n",
       "    <tr>\n",
       "      <th>106</th>\n",
       "      <td>Singapore</td>\n",
       "      <td>2.529297</td>\n",
       "    </tr>\n",
       "    <tr>\n",
       "      <th>37</th>\n",
       "      <td>Sweden</td>\n",
       "      <td>2.599609</td>\n",
       "    </tr>\n",
       "    <tr>\n",
       "      <th>10</th>\n",
       "      <td>Czech Republic</td>\n",
       "      <td>2.630859</td>\n",
       "    </tr>\n",
       "    <tr>\n",
       "      <th>78</th>\n",
       "      <td>Hong Kong</td>\n",
       "      <td>2.730469</td>\n",
       "    </tr>\n",
       "    <tr>\n",
       "      <th>79</th>\n",
       "      <td>Macao</td>\n",
       "      <td>3.130859</td>\n",
       "    </tr>\n",
       "    <tr>\n",
       "      <th>44</th>\n",
       "      <td>Iceland</td>\n",
       "      <td>3.150391</td>\n",
       "    </tr>\n",
       "  </tbody>\n",
       "</table>\n",
       "</div>"
      ],
      "text/plain": [
       "            country  inf_mort\n",
       "38           Monaco  1.809570\n",
       "98            Japan  2.130859\n",
       "117         Bermuda  2.480469\n",
       "36           Norway  2.480469\n",
       "106       Singapore  2.529297\n",
       "37           Sweden  2.599609\n",
       "10   Czech Republic  2.630859\n",
       "78        Hong Kong  2.730469\n",
       "79            Macao  3.130859\n",
       "44          Iceland  3.150391"
      ]
     },
     "execution_count": 96,
     "metadata": {},
     "output_type": "execute_result"
    }
   ],
   "source": [
    "#Question 1: 10 countries with lowest infant mortality rates\n",
    "data = {'country': country, 'inf_mort': inf_mort}               #Make a data dict\n",
    "mortality = pd.DataFrame(data)                                  #Turn the dict into a dataframe\n",
    "mortality['inf_mort'] = mortality['inf_mort'].astype('float16') #Change inf_mortality from 'object' to a float\n",
    "mortality.sort('inf_mort').head(10)                             #Sort by inf_mortalilty and return the top ten"
   ]
  },
  {
   "cell_type": "code",
   "execution_count": 146,
   "metadata": {
    "collapsed": false
   },
   "outputs": [
    {
     "data": {
      "text/html": [
       "<div>\n",
       "<table border=\"1\" class=\"dataframe\">\n",
       "  <thead>\n",
       "    <tr style=\"text-align: right;\">\n",
       "      <th></th>\n",
       "      <th>city</th>\n",
       "      <th>city_pop</th>\n",
       "    </tr>\n",
       "  </thead>\n",
       "  <tbody>\n",
       "    <tr>\n",
       "      <th>1341</th>\n",
       "      <td>Shanghai</td>\n",
       "      <td>22315474</td>\n",
       "    </tr>\n",
       "    <tr>\n",
       "      <th>771</th>\n",
       "      <td>Istanbul</td>\n",
       "      <td>13710512</td>\n",
       "    </tr>\n",
       "    <tr>\n",
       "      <th>1527</th>\n",
       "      <td>Mumbai</td>\n",
       "      <td>12442373</td>\n",
       "    </tr>\n",
       "    <tr>\n",
       "      <th>479</th>\n",
       "      <td>Moskva</td>\n",
       "      <td>11979529</td>\n",
       "    </tr>\n",
       "    <tr>\n",
       "      <th>1340</th>\n",
       "      <td>Beijing</td>\n",
       "      <td>11716620</td>\n",
       "    </tr>\n",
       "    <tr>\n",
       "      <th>2810</th>\n",
       "      <td>São Paulo</td>\n",
       "      <td>11152344</td>\n",
       "    </tr>\n",
       "    <tr>\n",
       "      <th>1342</th>\n",
       "      <td>Tianjin</td>\n",
       "      <td>11090314</td>\n",
       "    </tr>\n",
       "    <tr>\n",
       "      <th>1064</th>\n",
       "      <td>Guangzhou</td>\n",
       "      <td>11071424</td>\n",
       "    </tr>\n",
       "    <tr>\n",
       "      <th>1582</th>\n",
       "      <td>Delhi</td>\n",
       "      <td>11034555</td>\n",
       "    </tr>\n",
       "    <tr>\n",
       "      <th>1067</th>\n",
       "      <td>Shenzhen</td>\n",
       "      <td>10358381</td>\n",
       "    </tr>\n",
       "  </tbody>\n",
       "</table>\n",
       "</div>"
      ],
      "text/plain": [
       "           city  city_pop\n",
       "1341   Shanghai  22315474\n",
       "771    Istanbul  13710512\n",
       "1527     Mumbai  12442373\n",
       "479      Moskva  11979529\n",
       "1340    Beijing  11716620\n",
       "2810  São Paulo  11152344\n",
       "1342    Tianjin  11090314\n",
       "1064  Guangzhou  11071424\n",
       "1582      Delhi  11034555\n",
       "1067   Shenzhen  10358381"
      ]
     },
     "execution_count": 146,
     "metadata": {},
     "output_type": "execute_result"
    }
   ],
   "source": [
    "#Question 2: 10 cities with the largest population\n",
    "data = {'city': city, 'city_pop': city_pop}                     #Make a data dict\n",
    "pop = pd.DataFrame(data)                                        #Turn the dict into a dataframe\n",
    "pop['city_pop'] = pop['city_pop'].astype('float32')             #Change city_pop from 'object' to a float\n",
    "pop.sort('city_pop', ascending = False).head(10)                #Sort by city_pop in descending order and return the top ten"
   ]
  },
  {
   "cell_type": "code",
   "execution_count": 179,
   "metadata": {
    "collapsed": false
   },
   "outputs": [
    {
     "data": {
      "text/plain": [
       "Han Chinese    1.245059e+09\n",
       "Indo-Aryan     8.718156e+08\n",
       "European       4.948722e+08\n",
       "African        3.183251e+08\n",
       "Dravidian      3.027137e+08\n",
       "Mestizo        1.577344e+08\n",
       "Bengali        1.467769e+08\n",
       "Russian        1.318570e+08\n",
       "Japanese       1.265342e+08\n",
       "Malay          1.219936e+08\n",
       "dtype: float64"
      ]
     },
     "execution_count": 179,
     "metadata": {},
     "output_type": "execute_result"
    }
   ],
   "source": [
    "#Question 3: 10 ethnic groups with the largest overall populations (sum of best/latest estimates over all countries)\n",
    "eth_dict = {}\n",
    "#Populate an ethnicity dictionary with groups as names and populations as values\n",
    "for element in document.iterfind('country'):               #For each country\n",
    "    pop = float(element.findall('population')[-1].text)    #Get the population of the country\n",
    "    for group in element.findall('ethnicgroup'):           #For each ethnic group\n",
    "        percent = float(group.attrib['percentage']) / 100  #Get the percent of the poulation of that group\n",
    "        name = group.text                                  #Get the name of the group\n",
    "        group_pop = pop * percent                          #Get the population of the group\n",
    "        if name in eth_dict:                               #Add the population to the dictionary\n",
    "            eth_dict[name] = eth_dict[name] + group_pop\n",
    "        else:\n",
    "            eth_dict[name] = group_pop\n",
    "\n",
    "eth_pop = pd.Series(eth_dict).order(ascending = False)    #Convert the dictionary to a series and sort it in descending order\n",
    "eth_pop[0:10]                                             #Return the first ten elements"
   ]
  },
  {
   "cell_type": "code",
   "execution_count": 181,
   "metadata": {
    "collapsed": false
   },
   "outputs": [],
   "source": [
    "#Question 4: name and country of a) longest river, b) largest lake and c) airport at highest elevation\n",
    "#Make a country code dictionary with country code keys and country name values\n",
    "country_code = {}\n",
    "\n",
    "for element in document.iterfind('country'):\n",
    "    country_code[element.attrib['car_code']] = element.find('name').text "
   ]
  },
  {
   "cell_type": "code",
   "execution_count": 198,
   "metadata": {
    "collapsed": false
   },
   "outputs": [
    {
     "data": {
      "text/html": [
       "<div>\n",
       "<table border=\"1\" class=\"dataframe\">\n",
       "  <thead>\n",
       "    <tr style=\"text-align: right;\">\n",
       "      <th></th>\n",
       "      <th>countries</th>\n",
       "      <th>length</th>\n",
       "      <th>name</th>\n",
       "    </tr>\n",
       "  </thead>\n",
       "  <tbody>\n",
       "    <tr>\n",
       "      <th>174</th>\n",
       "      <td>Colombia, Brazil, Peru</td>\n",
       "      <td>6448</td>\n",
       "      <td>Amazonas</td>\n",
       "    </tr>\n",
       "  </tbody>\n",
       "</table>\n",
       "</div>"
      ],
      "text/plain": [
       "                  countries  length      name\n",
       "174  Colombia, Brazil, Peru    6448  Amazonas"
      ]
     },
     "execution_count": 198,
     "metadata": {},
     "output_type": "execute_result"
    }
   ],
   "source": [
    "#a) longest river\n",
    "name = []\n",
    "country = []\n",
    "length = []\n",
    "\n",
    "for element in document.iterfind('river'):                   #Iterate through rivers\n",
    "    name.append(element.find('name').text)                   #Store the name\n",
    "    countries = element.attrib['country']                    #Get the country codes string\n",
    "    country_str = ''                                         #Start a string for the country\n",
    "    for word in countries.split():                           #Go through the country codes\n",
    "        country_str += country_code[word] + ', '             #Add to the country string\n",
    "    country.append(country_str[:-2])                         #Store the country string\n",
    "    if element.find('length') is not None:                   #Store the length\n",
    "        length.append(float(element.find('length').text))\n",
    "    else:\n",
    "        length.append(np.nan)\n",
    "\n",
    "data = {'name': name, 'countries': country, 'length': length} #Make a data dict\n",
    "rivers = pd.DataFrame(data)                                   #Convert to a dataframe\n",
    "rivers.sort('length', ascending = False).head(1)              #Sort and get the longest river"
   ]
  },
  {
   "cell_type": "code",
   "execution_count": 200,
   "metadata": {
    "collapsed": false
   },
   "outputs": [
    {
     "data": {
      "text/html": [
       "<div>\n",
       "<table border=\"1\" class=\"dataframe\">\n",
       "  <thead>\n",
       "    <tr style=\"text-align: right;\">\n",
       "      <th></th>\n",
       "      <th>area</th>\n",
       "      <th>countries</th>\n",
       "      <th>name</th>\n",
       "    </tr>\n",
       "  </thead>\n",
       "  <tbody>\n",
       "    <tr>\n",
       "      <th>54</th>\n",
       "      <td>386400</td>\n",
       "      <td>Russia, Azerbaijan, Kazakhstan, Iran, Turkmeni...</td>\n",
       "      <td>Caspian Sea</td>\n",
       "    </tr>\n",
       "  </tbody>\n",
       "</table>\n",
       "</div>"
      ],
      "text/plain": [
       "      area                                          countries         name\n",
       "54  386400  Russia, Azerbaijan, Kazakhstan, Iran, Turkmeni...  Caspian Sea"
      ]
     },
     "execution_count": 200,
     "metadata": {},
     "output_type": "execute_result"
    }
   ],
   "source": [
    "#b) largest lake\n",
    "name = []\n",
    "country = []\n",
    "area = []\n",
    "\n",
    "for element in document.iterfind('lake'):                    #Iterate through the lakes\n",
    "    name.append(element.find('name').text)                   #Store the name\n",
    "    countries = element.attrib['country']                    #Get the country codes string\n",
    "    country_str = ''                                         #Start a string for the country\n",
    "    for word in countries.split():                           #Go through the country codes\n",
    "        country_str += country_code[word] + ', '             #Add to the country string\n",
    "    country.append(country_str[:-2])                         #Store the country string\n",
    "    if element.find('area') is not None:                     #Store the area\n",
    "        area.append(float(element.find('area').text))\n",
    "    else:\n",
    "        area.append(np.nan)\n",
    "\n",
    "data = {'name': name, 'countries': country, 'area': area}     #Make a data dict\n",
    "lakes = pd.DataFrame(data)                                    #Convert to a dataframe\n",
    "lakes.sort('area', ascending = False).head(1)                 #Sort and get the largest lake"
   ]
  },
  {
   "cell_type": "code",
   "execution_count": 203,
   "metadata": {
    "collapsed": false
   },
   "outputs": [
    {
     "data": {
      "text/html": [
       "<div>\n",
       "<table border=\"1\" class=\"dataframe\">\n",
       "  <thead>\n",
       "    <tr style=\"text-align: right;\">\n",
       "      <th></th>\n",
       "      <th>country</th>\n",
       "      <th>elevation</th>\n",
       "      <th>name</th>\n",
       "    </tr>\n",
       "  </thead>\n",
       "  <tbody>\n",
       "    <tr>\n",
       "      <th>80</th>\n",
       "      <td>Bolivia</td>\n",
       "      <td>4063</td>\n",
       "      <td>El Alto Intl</td>\n",
       "    </tr>\n",
       "  </tbody>\n",
       "</table>\n",
       "</div>"
      ],
      "text/plain": [
       "    country  elevation          name\n",
       "80  Bolivia       4063  El Alto Intl"
      ]
     },
     "execution_count": 203,
     "metadata": {},
     "output_type": "execute_result"
    }
   ],
   "source": [
    "#c) airport at highest elevation\n",
    "name = []\n",
    "country = []\n",
    "elevation = []\n",
    "\n",
    "for element in document.iterfind('airport'):                 #Iterate through the airports\n",
    "    name.append(element.find('name').text)                   #Store the name\n",
    "    code = element.attrib['country']                         #Get the country code\n",
    "    country.append(country_code[code])                       #Store the country \n",
    "    if element.find('elevation') is not None:                #Store the elevation\n",
    "        if element.find('elevation').text is not None:\n",
    "            elevation.append(float(element.find('elevation').text))\n",
    "        else:\n",
    "            elevation.append(np.nan)\n",
    "    else:\n",
    "        elevation.append(np.nan)\n",
    "\n",
    "data = {'name': name, 'country': country, 'elevation': elevation} #Make a data dict\n",
    "airports = pd.DataFrame(data)                                     #Convert to a dataframe\n",
    "airports.sort('elevation', ascending = False).head(1)             #Sort and get the largest lake"
   ]
  },
  {
   "cell_type": "code",
   "execution_count": null,
   "metadata": {
    "collapsed": true
   },
   "outputs": [],
   "source": []
  }
 ],
 "metadata": {
  "kernelspec": {
   "display_name": "Python 2",
   "language": "python",
   "name": "python2"
  },
  "language_info": {
   "codemirror_mode": {
    "name": "ipython",
    "version": 2
   },
   "file_extension": ".py",
   "mimetype": "text/x-python",
   "name": "python",
   "nbconvert_exporter": "python",
   "pygments_lexer": "ipython2",
   "version": "2.7.10"
  }
 },
 "nbformat": 4,
 "nbformat_minor": 0
}
