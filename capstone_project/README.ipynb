{
 "cells": [
  {
   "cell_type": "markdown",
   "metadata": {},
   "source": [
    "Predicting default risk in the Lending Club loan data\n",
    "\n",
    "The Lending Club provides peer-to-peer loans, allowing individual lenders to invest in a portfolio of loans. The Lending Club provides it's own risk assessment and funds a loan at an internally selected interest rate. Lenders can then purchase part of the loan for their portfolio. To inform lender decisions, the Lending Club provides information about the borrower and makes historic loan data available. Here, I develop a series of models to predict default risk in the Lending Club's historic loan data."
   ]
  },
  {
   "cell_type": "markdown",
   "metadata": {},
   "source": [
    "0: Raw data files\n",
    "\n",
    "LoanStats3a.csv.zip, LoanStats3b.csv.zip, LoanStats3c.csv.zip, and LoanStats3d.csv.zip \n",
    "\n",
    "These are the raw csv data tables provided by the Lending Club. These files contain all funded loans from 2007 until the end of 2015. "
   ]
  },
  {
   "cell_type": "markdown",
   "metadata": {},
   "source": [
    "1: Data cleaning and processing\n",
    "\n",
    "data_cleaning_processing.ipynb, utils.py, anon_avg_irs_data.pkl\n",
    "\n",
    "Data fields were cleaned/formatted and missing data were imputed as outlined in the data_cleaning_processing notebook. Charged off and defaulted loans are both considered to be \"Default\" for this analysis, whereas paid loans are considered \"Paid.\" Loans in progress are not considered.\n",
    "\n",
    "Additionally, IRS tax data for listed zip codes were joined to the data table, as the data for individual zip codes was sparse. Zip code data were processed using the zip_code_processing notebook and the following files:\n",
    "\n",
    "09zpallnoagi.csv, 10zpallnoagi.csv, 11zpallnoagi.csv, 12zpallnoagi.csv, 13zpallnoagi.csv\n",
    "\n",
    "Additional zip code data are available at https://www.irs.gov/uac/SOI-Tax-Stats-Individual-Income-Tax-Statistics-ZIP-Code-Data-(SOI)\n",
    "\n",
    "\n",
    "After this process, features were all normalized.\n",
    "\n",
    "Data were then randomly sampled and divided into training, validation, and test sets. "
   ]
  },
  {
   "cell_type": "markdown",
   "metadata": {},
   "source": [
    "2: Training, validation, and test data\n",
    "\n",
    "data_files.zip\n",
    "\n",
    "These data are compressed in data_files as pandas dataframes. Models were trained on the training set with cross-validation and selected based on performance on the validation set. Final performance was evaluated on the test set."
   ]
  },
  {
   "cell_type": "markdown",
   "metadata": {},
   "source": [
    "3: Feature analysis\n",
    "\n",
    "lending_club_feature_analysis.ipynb, model_fitting.py\n",
    "\n",
    "On the training data, I evaluated the statistical relationship between the various features and the labels. I report effect sizes and tests of statistical significant with correction for multiple comparisons. I also report the correlations between the features. This facilitated my selection of a subset of features to be used for modeling."
   ]
  },
  {
   "cell_type": "markdown",
   "metadata": {},
   "source": [
    "4: Model selection\n",
    "\n",
    "lending_club_modeling.ipynb, model_fitting.py, loan_roi.py\n",
    "\n",
    "The following procedure was applied to several models: First, models were fit to the training data, one feature at a time, in order of effect size for the features. Next, performance evaluated on the validation set as the area under the ROC curve (AUC). Then, a number of features were selected and performance was evaluated as ROI for a hypothetical portfolio of loans with the model's estimates of default probability used as a rejection criterion. This performance was compared a model that rejected a random set of loans.\n",
    "\n",
    "Models were selected based on AUC from cross-validation and predicted ROI based on the validation set."
   ]
  },
  {
   "cell_type": "markdown",
   "metadata": {},
   "source": [
    "5: Model performance\n",
    "\n",
    "model_performance.ipynb, model_fitting.py, loan_roi.py\n",
    "\n",
    "A decision tree, an AdaBoost ensemble of trees, and a stacked ensemble learner were tested on the test set. Performance was measured as AUC on the test set and ROI on the test set. The three models were selected to represent the span between simpler and more complex models.\n",
    "\n",
    "Additionally, I presented the performance of the models when the loan amount and interest rate were included as features. This is to illustrate how high performance can get. However, I do not recommend using these features if the goal is to generate a risk model to set interest rates and loan amounts. The reason is that these features are based on the Lending Club's in-house risk-assessment tools, so these features limit our ability to objectively assess the risk of default outside of the Lending Club context."
   ]
  },
  {
   "cell_type": "markdown",
   "metadata": {},
   "source": [
    "6: Final prediction code\n",
    "\n",
    "prediction_workflow.ipynb, loan_prediction.py, train_ensemble.py, test_loans.pkl\n",
    "\n",
    "Two models are considered for prediction: a decision tree and a stacked ensemble learner. Unnormalized loan data can be found in test_loans (a pandas dataframe). A single loan or batch of loans can be passed to either predict_default_tree or predict_default_ensemble, and those functions will output a probability of default. Note that the classifier files are saved and uploaded for the decision tree. The classifier files for the stacked ensemble learner are too big to be uploaded to GitHub. As such, I have included train_ensemble.py. When run, that function will generate all of the files for the stacked ensemble learner."
   ]
  },
  {
   "cell_type": "code",
   "execution_count": null,
   "metadata": {
    "collapsed": true
   },
   "outputs": [],
   "source": []
  },
  {
   "cell_type": "code",
   "execution_count": null,
   "metadata": {
    "collapsed": true
   },
   "outputs": [],
   "source": []
  }
 ],
 "metadata": {
  "kernelspec": {
   "display_name": "Python 2",
   "language": "python",
   "name": "python2"
  },
  "language_info": {
   "codemirror_mode": {
    "name": "ipython",
    "version": 2
   },
   "file_extension": ".py",
   "mimetype": "text/x-python",
   "name": "python",
   "nbconvert_exporter": "python",
   "pygments_lexer": "ipython2",
   "version": "2.7.3"
  }
 },
 "nbformat": 4,
 "nbformat_minor": 0
}
