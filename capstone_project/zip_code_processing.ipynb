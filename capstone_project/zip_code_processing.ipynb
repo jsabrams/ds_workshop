{
 "cells": [
  {
   "cell_type": "code",
   "execution_count": 41,
   "metadata": {
    "collapsed": false
   },
   "outputs": [],
   "source": [
    "import pandas as pd\n",
    "import numpy as np\n",
    "import utils as ut\n",
    "\n",
    "#Load in the IRS data for the different years w/desired columns\n",
    "irs13 = pd.read_csv('13zpallnoagi.csv',\n",
    "                   usecols = ['ZIPCODE', 'N1', 'A00100', 'N19300', 'A19300', 'N04470', 'A04470',\n",
    "                             'N03210', 'A03210', 'N03230', 'A03230', 'N02500', 'A02500', 'N02300', \n",
    "                              'A02300', 'SCHF'])\n",
    "irs12 = pd.read_csv('12zpallnoagi.csv',\n",
    "                   usecols = ['ZIPCODE', 'N1', 'A00100', 'N19300', 'A19300', 'N04470', 'A04470',\n",
    "                             'N02500', 'A02500', 'N02300', 'A02300', 'SCHF'])\n",
    "irs11 = pd.read_csv('11zpallnoagi.csv',\n",
    "                   usecols = ['ZIPCODE', 'N1', 'A00100', 'N19300', 'A19300', 'N04470', 'A04470',\n",
    "                             'N02500', 'A02500', 'N02300', 'A02300', 'SCHF'])\n",
    "irs10 = pd.read_csv('10zpallnoagi.csv',\n",
    "                   usecols = ['ZIPCODE', 'N1', 'A00100', 'N19300', 'A19300', 'N04470', 'A04470',\n",
    "                             'N02500', 'A02500', 'N02300', 'A02300', 'SCHF'])\n",
    "irs09 = pd.read_csv('09zpallnoagi.csv',\n",
    "                   usecols = ['ZIPCODE', 'N1', 'A00100', 'N19300', 'A19300', 'N04470', 'A04470',\n",
    "                             'N02500', 'A02500', 'N02300', 'A02300', 'SCHF'])\n",
    "\n",
    "#Rename the columns\n",
    "irs13.rename(columns = {'ZIPCODE': 'zipcd', 'N1': 'n_returns', 'A00100': 'adj_gross_inc', \n",
    "                        'N19300': 'n_mort_intr', 'A19300': 'amt_mort_intr', 'N04470': 'n_itemized', \n",
    "                        'A04470': 'amt_itemized', 'N03210': 'n_st_loans', 'A03210': 'amt_st_loans', \n",
    "                        'N03230': 'n_edu', 'A03230': 'amt_edu', 'N02500': 'n_SS', 'A02500': 'amt_SS', \n",
    "                        'N02300': 'n_unemp', 'A02300': 'amt_unemp', 'SCHF': 'n_farm'}, inplace = True)\n",
    "irs12.rename(columns = {'ZIPCODE': 'zipcd', 'N1': 'n_returns', 'A00100': 'adj_gross_inc', \n",
    "                        'N19300': 'n_mort_intr', 'A19300': 'amt_mort_intr', 'N04470': 'n_itemized', \n",
    "                        'A04470': 'amt_itemized', 'N02500': 'n_SS', 'A02500': 'amt_SS', \n",
    "                        'N02300': 'n_unemp', 'A02300': 'amt_unemp', 'SCHF': 'n_farm'}, inplace = True)\n",
    "irs11.rename(columns = {'ZIPCODE': 'zipcd', 'N1': 'n_returns', 'A00100': 'adj_gross_inc', \n",
    "                        'N19300': 'n_mort_intr', 'A19300': 'amt_mort_intr', 'N04470': 'n_itemized', \n",
    "                        'A04470': 'amt_itemized', 'N02500': 'n_SS', 'A02500': 'amt_SS', \n",
    "                        'N02300': 'n_unemp', 'A02300': 'amt_unemp', 'SCHF': 'n_farm'}, inplace = True)\n",
    "irs10.rename(columns = {'ZIPCODE': 'zipcd', 'N1': 'n_returns', 'A00100': 'adj_gross_inc', \n",
    "                        'N19300': 'n_mort_intr', 'A19300': 'amt_mort_intr', 'N04470': 'n_itemized', \n",
    "                        'A04470': 'amt_itemized', 'N02500': 'n_SS', 'A02500': 'amt_SS', \n",
    "                        'N02300': 'n_unemp', 'A02300': 'amt_unemp', 'SCHF': 'n_farm'}, inplace = True)\n",
    "irs09.rename(columns = {'ZIPCODE': 'zipcd', 'N1': 'n_returns', 'A00100': 'adj_gross_inc', \n",
    "                        'N19300': 'n_mort_intr', 'A19300': 'amt_mort_intr', 'N04470': 'n_itemized', \n",
    "                        'A04470': 'amt_itemized', 'N02500': 'n_SS', 'A02500': 'amt_SS', \n",
    "                        'N02300': 'n_unemp', 'A02300': 'amt_unemp', 'SCHF': 'n_farm'}, inplace = True)\n",
    "\n",
    "##Set the zipcode as the index\n",
    "#irs13.set_index(irs13.zipcd, inplace = True)\n",
    "#irs12.set_index(irs12.zipcd, inplace = True)\n",
    "#irs11.set_index(irs11.zipcd, inplace = True)\n",
    "#irs10.set_index(irs10.zipcd, inplace = True)\n",
    "#irs09.set_index(irs09.zipcd, inplace = True)"
   ]
  },
  {
   "cell_type": "code",
   "execution_count": 49,
   "metadata": {
    "collapsed": false
   },
   "outputs": [],
   "source": [
    "#Get anonymized zipcode data for each year (anonymized means that the last two numbers have been stripped)\n",
    "anon_irs13 = ut.zipcode_processor(irs13, ['n_returns', 'adj_gross_inc', 'n_mort_intr', 'amt_mort_intr',\n",
    "                                        'n_itemized', 'amt_itemized', 'n_st_loans', 'amt_st_loans', \n",
    "                                        'n_edu', 'amt_edu', 'n_SS', 'amt_SS', 'n_unemp', 'amt_unemp', 'n_farm'])\n",
    "anon_irs12 = ut.zipcode_processor(irs12, ['n_returns', 'adj_gross_inc', 'n_mort_intr', 'amt_mort_intr',\n",
    "                                        'n_itemized', 'amt_itemized', 'n_SS', 'amt_SS', 'n_unemp', \n",
    "                                        'amt_unemp', 'n_farm'])\n",
    "anon_irs11 = ut.zipcode_processor(irs11, ['n_returns', 'adj_gross_inc', 'n_mort_intr', 'amt_mort_intr',\n",
    "                                        'n_itemized', 'amt_itemized', 'n_SS', 'amt_SS', 'n_unemp', \n",
    "                                        'amt_unemp', 'n_farm'])\n",
    "anon_irs10 = ut.zipcode_processor(irs10, ['n_returns', 'adj_gross_inc', 'n_mort_intr', 'amt_mort_intr',\n",
    "                                        'n_itemized', 'amt_itemized', 'n_SS', 'amt_SS', 'n_unemp', \n",
    "                                        'amt_unemp', 'n_farm'])\n",
    "anon_irs09 = ut.zipcode_processor(irs10, ['n_returns', 'adj_gross_inc', 'n_mort_intr', 'amt_mort_intr',\n",
    "                                        'n_itemized', 'amt_itemized', 'n_SS', 'amt_SS', 'n_unemp', \n",
    "                                        'amt_unemp', 'n_farm'])"
   ]
  },
  {
   "cell_type": "code",
   "execution_count": 93,
   "metadata": {
    "collapsed": false
   },
   "outputs": [],
   "source": [
    "#Get average of anonymized zipcode data together\n",
    "aggr_data = anon_irs13.add(\n",
    "    anon_irs12, fill_value = 0).add(\n",
    "    anon_irs11, fill_value = 0).add(\n",
    "    anon_irs10, fill_value = 0).add(\n",
    "    anon_irs09, fill_value = 0)\n",
    "aggr_data = aggr_data / 5\n",
    "#Undo the average for the fields that only exist in 2013\n",
    "aggr_data['n_st_loans'] = aggr_data['n_st_loans'] * 5\n",
    "aggr_data['amt_st_loans'] = aggr_data['amt_st_loans'] * 5\n",
    "aggr_data['n_edu'] = aggr_data['n_edu'] * 5\n",
    "aggr_data['amt_edu'] = aggr_data['amt_edu'] * 5\n",
    "#Put the zipcodes back into the dataframe\n",
    "aggr_data['zipcd'] = aggr_data.index\n",
    "\n",
    "#Add new fields with per captia values and proportions of returns\n",
    "#Get \"average income,\" average SS amount (when claimed), average itemized deductions amount,\n",
    "#average unemployment compensation amount, average mortgage interest amount, average educational credit\n",
    "#amount, and average student loan amount\n",
    "aggr_data['avg_inc'] = aggr_data['adj_gross_inc'] / aggr_data['n_returns']\n",
    "\n",
    "aggr_data['avg_SS'] = aggr_data['amt_SS'] / aggr_data['n_SS']\n",
    "aggr_data['avg_itemized'] = aggr_data['amt_itemized'] / aggr_data['n_itemized']\n",
    "aggr_data['avg_unemp'] = aggr_data['amt_unemp'] / aggr_data['n_unemp']\n",
    "aggr_data['avg_mort_intr'] = aggr_data['amt_mort_intr'] / aggr_data['n_mort_intr']\n",
    "aggr_data['avg_edu'] = aggr_data['amt_edu'] / aggr_data['n_edu']\n",
    "aggr_data['avg_st_loans'] = aggr_data['amt_st_loans'] / aggr_data['n_st_loans']\n",
    "\n",
    "#Get proportions of SS returns, itemized returns, unemployment compensation returns, farm returns,\n",
    "#mortgage interest returns, educational credit returns, and student loan returns\n",
    "aggr_data['prop_SS'] = aggr_data['n_SS'] / aggr_data['n_returns']\n",
    "aggr_data['prop_itemized'] = aggr_data['n_itemized'] / aggr_data['n_returns']\n",
    "aggr_data['prop_unemp'] = aggr_data['n_unemp'] / aggr_data['n_returns']\n",
    "aggr_data['prop_farm'] = aggr_data['n_farm'] / aggr_data['n_returns']\n",
    "aggr_data['prop_mort_intr'] = aggr_data['n_mort_intr'] / aggr_data['n_returns']\n",
    "aggr_data['prop_edu'] = aggr_data['n_edu'] / aggr_data['n_returns']\n",
    "aggr_data['prop_st_loans'] = aggr_data['n_st_loans'] / aggr_data['n_returns']"
   ]
  },
  {
   "cell_type": "code",
   "execution_count": 95,
   "metadata": {
    "collapsed": false
   },
   "outputs": [],
   "source": [
    "#Save it\n",
    "aggr_data.to_pickle('anon_avg_irs_data.pkl')"
   ]
  },
  {
   "cell_type": "code",
   "execution_count": null,
   "metadata": {
    "collapsed": true
   },
   "outputs": [],
   "source": []
  }
 ],
 "metadata": {
  "kernelspec": {
   "display_name": "Python 2",
   "language": "python",
   "name": "python2"
  },
  "language_info": {
   "codemirror_mode": {
    "name": "ipython",
    "version": 2
   },
   "file_extension": ".py",
   "mimetype": "text/x-python",
   "name": "python",
   "nbconvert_exporter": "python",
   "pygments_lexer": "ipython2",
   "version": "2.7.10"
  }
 },
 "nbformat": 4,
 "nbformat_minor": 0
}
