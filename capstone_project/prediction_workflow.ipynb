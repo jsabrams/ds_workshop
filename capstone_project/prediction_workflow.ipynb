{
 "cells": [
  {
   "cell_type": "code",
   "execution_count": 1,
   "metadata": {
    "collapsed": true
   },
   "outputs": [],
   "source": [
    "import pandas as pd\n",
    "import numpy as np\n",
    "from sklearn.externals import joblib\n",
    "import loan_prediction as pred"
   ]
  },
  {
   "cell_type": "code",
   "execution_count": 2,
   "metadata": {
    "collapsed": false
   },
   "outputs": [
    {
     "data": {
      "text/html": [
       "<div>\n",
       "<table border=\"1\" class=\"dataframe\">\n",
       "  <thead>\n",
       "    <tr style=\"text-align: right;\">\n",
       "      <th></th>\n",
       "      <th>loan_amnt</th>\n",
       "      <th>int_rate</th>\n",
       "      <th>emp_length</th>\n",
       "      <th>annual_inc</th>\n",
       "      <th>dti</th>\n",
       "      <th>delinq_2yrs</th>\n",
       "      <th>inq_last_6mths</th>\n",
       "      <th>open_acc</th>\n",
       "      <th>pub_rec</th>\n",
       "      <th>revol_bal</th>\n",
       "      <th>...</th>\n",
       "      <th>mnths_since_derog_2nd</th>\n",
       "      <th>mnths_since_derog_3rd</th>\n",
       "      <th>mnths_since_derog_4th</th>\n",
       "      <th>mnths_since_derog_5th</th>\n",
       "      <th>mnths_since_derog_6th</th>\n",
       "      <th>mnths_since_derog_7th</th>\n",
       "      <th>mnths_since_derog_8th</th>\n",
       "      <th>mnths_since_derog_9th</th>\n",
       "      <th>mnths_since_derog_10th</th>\n",
       "      <th>has_coll</th>\n",
       "    </tr>\n",
       "  </thead>\n",
       "  <tbody>\n",
       "    <tr>\n",
       "      <th>303928</th>\n",
       "      <td>8400.0</td>\n",
       "      <td>6.49</td>\n",
       "      <td>7</td>\n",
       "      <td>50000.0</td>\n",
       "      <td>22.03</td>\n",
       "      <td>0.0</td>\n",
       "      <td>0.0</td>\n",
       "      <td>4.0</td>\n",
       "      <td>0.0</td>\n",
       "      <td>9969.0</td>\n",
       "      <td>...</td>\n",
       "      <td>False</td>\n",
       "      <td>True</td>\n",
       "      <td>False</td>\n",
       "      <td>False</td>\n",
       "      <td>False</td>\n",
       "      <td>False</td>\n",
       "      <td>False</td>\n",
       "      <td>False</td>\n",
       "      <td>False</td>\n",
       "      <td>False</td>\n",
       "    </tr>\n",
       "  </tbody>\n",
       "</table>\n",
       "<p>1 rows × 79 columns</p>\n",
       "</div>"
      ],
      "text/plain": [
       "        loan_amnt  int_rate  emp_length  annual_inc    dti  delinq_2yrs  \\\n",
       "303928     8400.0      6.49           7     50000.0  22.03          0.0   \n",
       "\n",
       "        inq_last_6mths  open_acc  pub_rec  revol_bal    ...     \\\n",
       "303928             0.0       4.0      0.0     9969.0    ...      \n",
       "\n",
       "        mnths_since_derog_2nd  mnths_since_derog_3rd  mnths_since_derog_4th  \\\n",
       "303928                  False                   True                  False   \n",
       "\n",
       "        mnths_since_derog_5th  mnths_since_derog_6th  mnths_since_derog_7th  \\\n",
       "303928                  False                  False                  False   \n",
       "\n",
       "        mnths_since_derog_8th  mnths_since_derog_9th  mnths_since_derog_10th  \\\n",
       "303928                  False                  False                   False   \n",
       "\n",
       "        has_coll  \n",
       "303928     False  \n",
       "\n",
       "[1 rows x 79 columns]"
      ]
     },
     "execution_count": 2,
     "metadata": {},
     "output_type": "execute_result"
    }
   ],
   "source": [
    "#Load the data and look at the first item\n",
    "#Note that not all columns are used for the prediction (e.g., loan_amnt, int_rate)\n",
    "X = pd.read_pickle('test_loans')\n",
    "X.head(1)"
   ]
  },
  {
   "cell_type": "code",
   "execution_count": 3,
   "metadata": {
    "collapsed": false
   },
   "outputs": [
    {
     "data": {
      "text/plain": [
       "0.10061276729935269"
      ]
     },
     "execution_count": 3,
     "metadata": {},
     "output_type": "execute_result"
    }
   ],
   "source": [
    "#Predict the probability of default with a decision tree\n",
    "prob = pred.predict_default_tree(X)\n",
    "prob[1]"
   ]
  },
  {
   "cell_type": "code",
   "execution_count": null,
   "metadata": {
    "collapsed": true
   },
   "outputs": [],
   "source": [
    "#If you need to generate the files for the ensemble classifier, run this cell\n",
    "import train_ensemble as te\n",
    "te.train_ensemble()"
   ]
  },
  {
   "cell_type": "code",
   "execution_count": 4,
   "metadata": {
    "collapsed": false
   },
   "outputs": [
    {
     "name": "stdout",
     "output_type": "stream",
     "text": [
      "Estimating probabilities for test set\n",
      "Classifier 0\n",
      "Classifier 1\n",
      "Classifier 2\n",
      "Classifier 3\n",
      "Classifier 4\n",
      "Classifier 5\n",
      "Classifier 6\n"
     ]
    },
    {
     "data": {
      "text/plain": [
       "0.27035290191292055"
      ]
     },
     "execution_count": 4,
     "metadata": {},
     "output_type": "execute_result"
    }
   ],
   "source": [
    "#Predict the probability of default with an ensemble\n",
    "#Note that this classifier is too big to put up on github, the files must be generated\n",
    "prob = pred.predict_default_ensemble(X)\n",
    "prob[1]"
   ]
  },
  {
   "cell_type": "code",
   "execution_count": null,
   "metadata": {
    "collapsed": true
   },
   "outputs": [],
   "source": []
  }
 ],
 "metadata": {
  "kernelspec": {
   "display_name": "Python 2",
   "language": "python",
   "name": "python2"
  },
  "language_info": {
   "codemirror_mode": {
    "name": "ipython",
    "version": 2
   },
   "file_extension": ".py",
   "mimetype": "text/x-python",
   "name": "python",
   "nbconvert_exporter": "python",
   "pygments_lexer": "ipython2",
   "version": "2.7.3"
  }
 },
 "nbformat": 4,
 "nbformat_minor": 0
}
