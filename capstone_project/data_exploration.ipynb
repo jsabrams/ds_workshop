{
 "cells": [
  {
   "cell_type": "markdown",
   "metadata": {},
   "source": [
    "List of variables that have a reliable relationship with the default rate:\n",
    "annual_inc, dti, delinq_2yrs, inq_last_6mths, total_acc, open_acc, collections_12_mths_ex_med,\n",
    "home_ownership (MORTGAGE, RENT),\n",
    "purpose (car, credit_card, debt_consolidation (very small effect), home_improvement, major_purchase, medical,\n",
    "moving, other, small_business, wedding)"
   ]
  },
  {
   "cell_type": "code",
   "execution_count": 1,
   "metadata": {
    "collapsed": false
   },
   "outputs": [
    {
     "name": "stderr",
     "output_type": "stream",
     "text": [
      "/Library/Python/2.7/site-packages/pandas/io/parsers.py:648: ParserWarning: Falling back to the 'python' engine because the 'c' engine does not support skip_footer; you can avoid this warning by specifying engine='python'.\n",
      "  ParserWarning)\n"
     ]
    }
   ],
   "source": [
    "#Import some modules\n",
    "%matplotlib inline\n",
    "import numpy as np\n",
    "import pandas as pd\n",
    "import utils as ut\n",
    "\n",
    "\n",
    "#Load in the data\n",
    "#loans = pd.read_csv('LoanStats3a.csv', skiprows = 1, \n",
    "#                  parse_dates = ['issue_d', 'earliest_cr_line', 'last_pymnt_d', 'last_credit_pull_d'],\n",
    "#                 skipfooter = 2)\n",
    "\n",
    "df1 = pd.read_csv('LoanStats3a.csv', skiprows = 1, \n",
    "                  parse_dates = ['issue_d', 'earliest_cr_line', 'last_pymnt_d', 'last_credit_pull_d'],\n",
    "                 skipfooter = 2)\n",
    "df2 = pd.read_csv('LoanStats3b.csv', skiprows = 1, \n",
    "                  parse_dates = ['issue_d', 'earliest_cr_line', 'last_pymnt_d', 'last_credit_pull_d'],\n",
    "                 skipfooter = 2, infer_datetime_format=True)\n",
    "df3 = pd.read_csv('LoanStats3c.csv', skiprows = 1, \n",
    "                  parse_dates = ['issue_d', 'earliest_cr_line', 'last_pymnt_d', 'last_credit_pull_d'],\n",
    "                 skipfooter = 2, infer_datetime_format=True)\n",
    "df4 = pd.read_csv('LoanStats3d.csv', skiprows = 1, \n",
    "                  parse_dates = ['issue_d', 'earliest_cr_line', 'last_pymnt_d', 'last_credit_pull_d'],\n",
    "                 skipfooter = 2, infer_datetime_format=True)\n",
    "\n",
    "loans = pd.concat([df1, df2, df3, df4], ignore_index = True)\n",
    "\n",
    "del df1\n",
    "del df2\n",
    "del df3\n",
    "del df4"
   ]
  },
  {
   "cell_type": "code",
   "execution_count": 2,
   "metadata": {
    "collapsed": false
   },
   "outputs": [
    {
     "data": {
      "text/plain": [
       "Current                                                0.652293\n",
       "Fully Paid                                             0.261470\n",
       "Charged Off                                            0.057966\n",
       "Late (31-120 days)                                     0.014763\n",
       "In Grace Period                                        0.006518\n",
       "Late (16-30 days)                                      0.002723\n",
       "Does not meet the credit policy. Status:Fully Paid     0.002621\n",
       "Does not meet the credit policy. Status:Charged Off    0.001005\n",
       "Default                                                0.000634\n",
       "Does not meet the credit policy. Status:Current        0.000005\n",
       "dtype: float64"
      ]
     },
     "execution_count": 2,
     "metadata": {},
     "output_type": "execute_result"
    }
   ],
   "source": [
    "#Begin by cleaning up the data a bit\n",
    "#Percentages of the different loan statuses\n",
    "loans.loan_status.value_counts(normalize = True)\n"
   ]
  },
  {
   "cell_type": "code",
   "execution_count": 3,
   "metadata": {
    "collapsed": false
   },
   "outputs": [
    {
     "data": {
      "text/plain": [
       "Current                                            0.652293\n",
       "Fully Paid                                         0.264091\n",
       "Charged Off                                        0.059605\n",
       "Late (31-120 days)                                 0.014763\n",
       "In Grace Period                                    0.006518\n",
       "Late (16-30 days)                                  0.002723\n",
       "Does not meet the credit policy. Status:Current    0.000005\n",
       "dtype: float64"
      ]
     },
     "execution_count": 3,
     "metadata": {},
     "output_type": "execute_result"
    }
   ],
   "source": [
    "loans.replace(to_replace = 'Does not meet the credit policy. Status:Fully Paid', value = 'Fully Paid', inplace = True)\n",
    "loans.replace(to_replace = 'Does not meet the credit policy. Status:Charged Off', value = 'Charged Off', inplace = True)\n",
    "#Assign default to charged off? They seem equivalent from the lenders perspective\n",
    "loans.replace(to_replace = 'Default', value = 'Charged Off', inplace = True)\n",
    "\n",
    "loans.loan_status.value_counts(normalize = True)"
   ]
  },
  {
   "cell_type": "code",
   "execution_count": 4,
   "metadata": {
    "collapsed": true
   },
   "outputs": [],
   "source": [
    "#Filter out everything but 'fully paid' and 'charged off' and plot\n",
    "#We're just going to consider those two categories to simplify the analysis\n",
    "loans = loans[(loans.loan_status == 'Fully Paid') | (loans.loan_status == 'Charged Off')]"
   ]
  },
  {
   "cell_type": "code",
   "execution_count": 16,
   "metadata": {
    "collapsed": false
   },
   "outputs": [
    {
     "data": {
      "text/plain": [
       "Index([u'id', u'member_id', u'loan_amnt', u'funded_amnt', u'funded_amnt_inv',\n",
       "       u'term', u'int_rate', u'installment', u'grade', u'sub_grade',\n",
       "       u'emp_title', u'emp_length', u'home_ownership', u'annual_inc',\n",
       "       u'verification_status', u'issue_d', u'loan_status', u'pymnt_plan',\n",
       "       u'url', u'desc', u'purpose', u'title', u'zip_code', u'addr_state',\n",
       "       u'dti', u'delinq_2yrs', u'earliest_cr_line', u'inq_last_6mths',\n",
       "       u'mths_since_last_delinq', u'mths_since_last_record', u'open_acc',\n",
       "       u'pub_rec', u'revol_bal', u'revol_util', u'total_acc',\n",
       "       u'initial_list_status', u'out_prncp', u'out_prncp_inv', u'total_pymnt',\n",
       "       u'total_pymnt_inv', u'total_rec_prncp', u'total_rec_int',\n",
       "       u'total_rec_late_fee', u'recoveries', u'collection_recovery_fee',\n",
       "       u'last_pymnt_d', u'last_pymnt_amnt', u'next_pymnt_d',\n",
       "       u'last_credit_pull_d', u'collections_12_mths_ex_med',\n",
       "       u'mths_since_last_major_derog', u'policy_code', u'application_type',\n",
       "       u'annual_inc_joint', u'dti_joint', u'verification_status_joint',\n",
       "       u'acc_now_delinq', u'tot_coll_amt', u'tot_cur_bal', u'open_acc_6m',\n",
       "       u'open_il_6m', u'open_il_12m', u'open_il_24m', u'mths_since_rcnt_il',\n",
       "       u'total_bal_il', u'il_util', u'open_rv_12m', u'open_rv_24m',\n",
       "       u'max_bal_bc', u'all_util', u'total_credit_rv', u'inq_fi',\n",
       "       u'total_fi_tl', u'inq_last_12m'],\n",
       "      dtype='object')"
      ]
     },
     "execution_count": 16,
     "metadata": {},
     "output_type": "execute_result"
    }
   ],
   "source": [
    "loans.columns"
   ]
  },
  {
   "cell_type": "markdown",
   "metadata": {},
   "source": [
    "Inferential statistics on the various features of this data set. Begin with the numeric fields that have little to no missing data and do not require any processing."
   ]
  },
  {
   "cell_type": "code",
   "execution_count": 17,
   "metadata": {
    "collapsed": false
   },
   "outputs": [
    {
     "data": {
      "text/plain": [
       "loan_status\n",
       "Charged Off    56000\n",
       "Fully Paid     64000\n",
       "Name: annual_inc, dtype: float64"
      ]
     },
     "execution_count": 17,
     "metadata": {},
     "output_type": "execute_result"
    }
   ],
   "source": [
    "#Check out the effect of annual income\n",
    "#Get the annual income for the charged off and fully paid categories\n",
    "#Get the median incomes\n",
    "inc_paid_med = loans[loans.loan_status == 'Fully Paid'].annual_inc.median()\n",
    "inc_chrg_med = loans[loans.loan_status == 'Charged Off'].annual_inc.median()\n",
    "\n",
    "loans.groupby('loan_status').annual_inc.median()"
   ]
  },
  {
   "cell_type": "code",
   "execution_count": 19,
   "metadata": {
    "collapsed": false
   },
   "outputs": [
    {
     "data": {
      "text/plain": [
       "1.1428571428571428"
      ]
     },
     "execution_count": 19,
     "metadata": {},
     "output_type": "execute_result"
    }
   ],
   "source": [
    "#Look at the effect size for the incomes\n",
    "inc_paid_med / inc_chrg_med\n",
    "#Modest effect size"
   ]
  },
  {
   "cell_type": "code",
   "execution_count": 20,
   "metadata": {
    "collapsed": false
   },
   "outputs": [
    {
     "data": {
      "text/plain": [
       "[7024.9849999999997, 8773.0099999999984]"
      ]
     },
     "execution_count": 20,
     "metadata": {},
     "output_type": "execute_result"
    }
   ],
   "source": [
    "#Bootstrap the median incomes for the two categories and see if that effect is significant\n",
    "prct = ut.med_diff_bootstrap(loans[loans.loan_status == 'Fully Paid'].annual_inc,\n",
    "                             loans[loans.loan_status == 'Charged Off'].annual_inc, 99.5, 0.5)\n",
    "prct\n",
    "#Reliable"
   ]
  },
  {
   "cell_type": "code",
   "execution_count": 21,
   "metadata": {
    "collapsed": false
   },
   "outputs": [
    {
     "data": {
      "text/plain": [
       "loan_status\n",
       "Charged Off    18.27\n",
       "Fully Paid     15.69\n",
       "Name: dti, dtype: float64"
      ]
     },
     "execution_count": 21,
     "metadata": {},
     "output_type": "execute_result"
    }
   ],
   "source": [
    "#Check out the effect of dti\n",
    "#Get the dti for the charged off and fully paid categories\n",
    "#Get the median dtis\n",
    "dti_paid_med = loans[loans.loan_status == 'Fully Paid'].dti.median()\n",
    "dti_chrg_med = loans[loans.loan_status == 'Charged Off'].dti.median()\n",
    "\n",
    "loans.groupby('loan_status').dti.median() "
   ]
  },
  {
   "cell_type": "code",
   "execution_count": 22,
   "metadata": {
    "collapsed": false
   },
   "outputs": [
    {
     "data": {
      "text/plain": [
       "1.1644359464627152"
      ]
     },
     "execution_count": 22,
     "metadata": {},
     "output_type": "execute_result"
    }
   ],
   "source": [
    "#Look at the effect size for the dtis\n",
    "dti_chrg_med / dti_paid_med\n",
    "#Modest effect size"
   ]
  },
  {
   "cell_type": "code",
   "execution_count": 23,
   "metadata": {
    "collapsed": false
   },
   "outputs": [
    {
     "data": {
      "text/plain": [
       "[2.4400000000000013, 2.7000000000000011]"
      ]
     },
     "execution_count": 23,
     "metadata": {},
     "output_type": "execute_result"
    }
   ],
   "source": [
    "#Bootstrap the dti for the two categories and see if that effect is significant\n",
    "prct = ut.med_diff_bootstrap(loans[loans.loan_status == 'Charged Off'].dti,\n",
    "                             loans[loans.loan_status == 'Fully Paid'].dti, 99.5, 0.5)\n",
    "prct\n",
    "#Reliable"
   ]
  },
  {
   "cell_type": "code",
   "execution_count": 24,
   "metadata": {
    "collapsed": false
   },
   "outputs": [
    {
     "data": {
      "text/plain": [
       "loan_status\n",
       "Charged Off    0.27490\n",
       "Fully Paid     0.24146\n",
       "Name: delinq_2yrs, dtype: float64"
      ]
     },
     "execution_count": 24,
     "metadata": {},
     "output_type": "execute_result"
    }
   ],
   "source": [
    "#Check out the effect of delinquencies in the last two years\n",
    "#Get the number of delinquencies for the charged off and fully paid categories\n",
    "#Get the mean delinquencies\n",
    "dlq_paid_mn = loans[loans.loan_status == 'Fully Paid'].delinq_2yrs.mean()\n",
    "dlq_chrg_mn = loans[loans.loan_status == 'Charged Off'].delinq_2yrs.mean()\n",
    "\n",
    "loans.groupby('loan_status').delinq_2yrs.mean() "
   ]
  },
  {
   "cell_type": "code",
   "execution_count": 26,
   "metadata": {
    "collapsed": false
   },
   "outputs": [
    {
     "data": {
      "text/plain": [
       "1.1384884893215346"
      ]
     },
     "execution_count": 26,
     "metadata": {},
     "output_type": "execute_result"
    }
   ],
   "source": [
    "#Look at the effect size for the delinquencies\n",
    "dlq_chrg_mn / dlq_paid_mn\n",
    "#Modest effect size"
   ]
  },
  {
   "cell_type": "code",
   "execution_count": 27,
   "metadata": {
    "collapsed": false
   },
   "outputs": [
    {
     "data": {
      "text/plain": [
       "[0.022954457309100756, 0.043943470247482859]"
      ]
     },
     "execution_count": 27,
     "metadata": {},
     "output_type": "execute_result"
    }
   ],
   "source": [
    "#Bootstrap the delinquencies for the two categories and see if that effect is significant\n",
    "prct = ut.mean_diff_bootstrap(loans[loans.loan_status == 'Charged Off'].delinq_2yrs,\n",
    "                              loans[loans.loan_status == 'Fully Paid'].delinq_2yrs, 99.5, 0.5)\n",
    "prct\n",
    "#Reliable"
   ]
  },
  {
   "cell_type": "code",
   "execution_count": 28,
   "metadata": {
    "collapsed": false
   },
   "outputs": [
    {
     "data": {
      "text/plain": [
       "loan_status\n",
       "Charged Off    1.047217\n",
       "Fully Paid     0.858365\n",
       "Name: inq_last_6mths, dtype: float64"
      ]
     },
     "execution_count": 28,
     "metadata": {},
     "output_type": "execute_result"
    }
   ],
   "source": [
    "#Check out the effect of inquiries in the last six months\n",
    "#Get the inquiries for the charged off and fully paid categories\n",
    "#Get the mean inquiries\n",
    "inq_paid_mn = loans[loans.loan_status == 'Fully Paid'].inq_last_6mths.mean()\n",
    "inq_chrg_mn = loans[loans.loan_status == 'Charged Off'].inq_last_6mths.mean()\n",
    "\n",
    "loans.groupby('loan_status').inq_last_6mths.mean() "
   ]
  },
  {
   "cell_type": "code",
   "execution_count": 30,
   "metadata": {
    "collapsed": false
   },
   "outputs": [
    {
     "data": {
      "text/plain": [
       "1.2200132638223962"
      ]
     },
     "execution_count": 30,
     "metadata": {},
     "output_type": "execute_result"
    }
   ],
   "source": [
    "#Look at the effect size for the inquiries\n",
    "inq_chrg_mn / inq_paid_mn\n",
    "#Moderate effect"
   ]
  },
  {
   "cell_type": "code",
   "execution_count": 31,
   "metadata": {
    "collapsed": false
   },
   "outputs": [
    {
     "data": {
      "text/plain": [
       "[0.17240098985823846, 0.2063343733412828]"
      ]
     },
     "execution_count": 31,
     "metadata": {},
     "output_type": "execute_result"
    }
   ],
   "source": [
    "#Bootstrap the inquiries for the two categories and see if that effect is significant\n",
    "prct = ut.mean_diff_bootstrap(loans[loans.loan_status == 'Charged Off'].inq_last_6mths,\n",
    "                              loans[loans.loan_status == 'Fully Paid'].inq_last_6mths, 99.5, 0.5)\n",
    "prct\n",
    "#Reliable"
   ]
  },
  {
   "cell_type": "code",
   "execution_count": 32,
   "metadata": {
    "collapsed": false
   },
   "outputs": [
    {
     "data": {
      "text/plain": [
       "loan_status\n",
       "Charged Off    11.008180\n",
       "Fully Paid     10.875742\n",
       "Name: open_acc, dtype: float64"
      ]
     },
     "execution_count": 32,
     "metadata": {},
     "output_type": "execute_result"
    }
   ],
   "source": [
    "#Check out the effect of number of open accounts\n",
    "#Get the number of open accounts for the charged off and fully paid categories\n",
    "#Get the mean number of accounts\n",
    "opn_paid_mn = loans[loans.loan_status == 'Fully Paid'].open_acc.mean()\n",
    "opn_chrg_mn = loans[loans.loan_status == 'Charged Off'].open_acc.mean()\n",
    "\n",
    "loans.groupby('loan_status').open_acc.mean()"
   ]
  },
  {
   "cell_type": "code",
   "execution_count": 33,
   "metadata": {
    "collapsed": false
   },
   "outputs": [
    {
     "data": {
      "text/plain": [
       "0.98796918047848403"
      ]
     },
     "execution_count": 33,
     "metadata": {},
     "output_type": "execute_result"
    }
   ],
   "source": [
    "#Look at the effect size for the number of open accounts\n",
    "opn_paid_mn / opn_chrg_mn\n",
    "#Small effect"
   ]
  },
  {
   "cell_type": "code",
   "execution_count": 34,
   "metadata": {
    "collapsed": false
   },
   "outputs": [
    {
     "data": {
      "text/plain": [
       "[-0.19623503540697443, -0.066461859835128423]"
      ]
     },
     "execution_count": 34,
     "metadata": {},
     "output_type": "execute_result"
    }
   ],
   "source": [
    "#Bootstrap the open accounts for the two categories and see if that effect is significant\n",
    "prct = ut.mean_diff_bootstrap(loans[loans.loan_status == 'Fully Paid'].open_acc,\n",
    "                              loans[loans.loan_status == 'Charged Off'].open_acc, 99.5, 0.5)\n",
    "prct\n",
    "#Looks like the effect is reliable, but it is small enough to be suspect"
   ]
  },
  {
   "cell_type": "code",
   "execution_count": 48,
   "metadata": {
    "collapsed": false
   },
   "outputs": [
    {
     "data": {
      "text/plain": [
       "loan_status\n",
       "Charged Off    0.143180\n",
       "Fully Paid     0.139283\n",
       "Name: pub_rec, dtype: float64"
      ]
     },
     "execution_count": 48,
     "metadata": {},
     "output_type": "execute_result"
    }
   ],
   "source": [
    "#Check out the effect of number of derogatory public records\n",
    "#Get the number of public records for the charged off and fully paid categories\n",
    "#Get the mean number of derogatory public records\n",
    "pub_paid_mn = loans[loans.loan_status == 'Fully Paid'].pub_rec.mean()\n",
    "pub_chrg_mn = loans[loans.loan_status == 'Charged Off'].pub_rec.mean()\n",
    "\n",
    "loans.groupby('loan_status').pub_rec.mean()\n"
   ]
  },
  {
   "cell_type": "code",
   "execution_count": 49,
   "metadata": {
    "collapsed": false
   },
   "outputs": [
    {
     "data": {
      "text/plain": [
       "1.0279786874048025"
      ]
     },
     "execution_count": 49,
     "metadata": {},
     "output_type": "execute_result"
    }
   ],
   "source": [
    "#Look at the effect size for the number of derogatory public records\n",
    "pub_chrg_mn / pub_paid_mn\n",
    "#Small effect"
   ]
  },
  {
   "cell_type": "code",
   "execution_count": 37,
   "metadata": {
    "collapsed": false
   },
   "outputs": [
    {
     "data": {
      "text/plain": [
       "[-0.0018740016053750276, 0.009818523648975357]"
      ]
     },
     "execution_count": 37,
     "metadata": {},
     "output_type": "execute_result"
    }
   ],
   "source": [
    "#Bootstrap the public records for the two categories and see if that effect is significant\n",
    "prct = ut.mean_diff_bootstrap(loans[loans.loan_status == 'Charged Off'].pub_rec,\n",
    "                              loans[loans.loan_status == 'Fully Paid'].pub_rec, 99.5, 0.5)\n",
    "prct\n",
    "#Not reliable"
   ]
  },
  {
   "cell_type": "code",
   "execution_count": 38,
   "metadata": {
    "collapsed": false
   },
   "outputs": [
    {
     "data": {
      "text/plain": [
       "loan_status\n",
       "Charged Off    11301.5\n",
       "Fully Paid     10805.0\n",
       "Name: revol_bal, dtype: float64"
      ]
     },
     "execution_count": 38,
     "metadata": {},
     "output_type": "execute_result"
    }
   ],
   "source": [
    "#Check out the effect of revolving balance\n",
    "#Get the revolving balance for the charged off and fully paid categories\n",
    "#Get the median revolving balance \n",
    "rev_bal_paid_med = loans[loans.loan_status == 'Fully Paid'].revol_bal.median()\n",
    "rev_bal_chrg_med = loans[loans.loan_status == 'Charged Off'].revol_bal.median()\n",
    "\n",
    "loans.groupby('loan_status').revol_bal.median()"
   ]
  },
  {
   "cell_type": "code",
   "execution_count": 39,
   "metadata": {
    "collapsed": false
   },
   "outputs": [
    {
     "data": {
      "text/plain": [
       "1.0459509486348912"
      ]
     },
     "execution_count": 39,
     "metadata": {},
     "output_type": "execute_result"
    }
   ],
   "source": [
    "#Effect size\n",
    "rev_bal_chrg_med / rev_bal_paid_med\n",
    "#Small effect"
   ]
  },
  {
   "cell_type": "code",
   "execution_count": 40,
   "metadata": {
    "collapsed": false
   },
   "outputs": [
    {
     "data": {
      "text/plain": [
       "[352.0, 647.0]"
      ]
     },
     "execution_count": 40,
     "metadata": {},
     "output_type": "execute_result"
    }
   ],
   "source": [
    "#Bootstrap\n",
    "prct = ut.med_diff_bootstrap(loans[loans.loan_status == 'Charged Off'].revol_bal, \n",
    "                             loans[loans.loan_status == 'Fully Paid'].revol_bal, 99.5, 0.5)\n",
    "prct\n",
    "#reliable"
   ]
  },
  {
   "cell_type": "code",
   "execution_count": 42,
   "metadata": {
    "collapsed": false
   },
   "outputs": [
    {
     "data": {
      "text/plain": [
       "loan_status\n",
       "Charged Off    24.141296\n",
       "Fully Paid     25.138142\n",
       "Name: total_acc, dtype: float64"
      ]
     },
     "execution_count": 42,
     "metadata": {},
     "output_type": "execute_result"
    }
   ],
   "source": [
    "#Total number of accounts\n",
    "tot_acc_paid_mn = loans[loans.loan_status == 'Fully Paid'].total_acc.mean()\n",
    "tot_acc_chrg_mn = loans[loans.loan_status == 'Charged Off'].total_acc.mean()\n",
    "\n",
    "loans.groupby('loan_status').total_acc.mean() "
   ]
  },
  {
   "cell_type": "code",
   "execution_count": 43,
   "metadata": {
    "collapsed": false
   },
   "outputs": [
    {
     "data": {
      "text/plain": [
       "1.041292169210503"
      ]
     },
     "execution_count": 43,
     "metadata": {},
     "output_type": "execute_result"
    }
   ],
   "source": [
    "#Effect size\n",
    "tot_acc_paid_mn  / tot_acc_chrg_mn \n",
    "#Small effect"
   ]
  },
  {
   "cell_type": "code",
   "execution_count": 44,
   "metadata": {
    "collapsed": false
   },
   "outputs": [
    {
     "data": {
      "text/plain": [
       "[0.8410510951780743, 1.148117810622356]"
      ]
     },
     "execution_count": 44,
     "metadata": {},
     "output_type": "execute_result"
    }
   ],
   "source": [
    "#Bootstrap\n",
    "prct = ut.mean_diff_bootstrap(loans[loans.loan_status == 'Fully Paid'].total_acc,\n",
    "                              loans[loans.loan_status == 'Charged Off'].total_acc, 99.5, 0.5)\n",
    "prct\n",
    "#Seems to be reliable, but not a very big effect"
   ]
  },
  {
   "cell_type": "code",
   "execution_count": 45,
   "metadata": {
    "collapsed": false
   },
   "outputs": [
    {
     "data": {
      "text/plain": [
       "loan_status\n",
       "Charged Off    0.007741\n",
       "Fully Paid     0.006107\n",
       "Name: collections_12_mths_ex_med, dtype: float64"
      ]
     },
     "execution_count": 45,
     "metadata": {},
     "output_type": "execute_result"
    }
   ],
   "source": [
    "#Collections in the last 12 months excluding medical collections\n",
    "col_paid_mn = loans[loans.loan_status == 'Fully Paid'].collections_12_mths_ex_med.mean()\n",
    "col_chrg_mn = loans[loans.loan_status == 'Charged Off'].collections_12_mths_ex_med.mean()\n",
    "\n",
    "loans.groupby('loan_status').collections_12_mths_ex_med.mean()\n",
    "\n",
    "#Field seems to be missing some data"
   ]
  },
  {
   "cell_type": "code",
   "execution_count": 46,
   "metadata": {
    "collapsed": false
   },
   "outputs": [
    {
     "data": {
      "text/plain": [
       "1.2675053795187776"
      ]
     },
     "execution_count": 46,
     "metadata": {},
     "output_type": "execute_result"
    }
   ],
   "source": [
    "#Effect size\n",
    "col_chrg_mn  / col_paid_mn\n",
    "#Moderate effect, but missing data?"
   ]
  },
  {
   "cell_type": "code",
   "execution_count": 47,
   "metadata": {
    "collapsed": false
   },
   "outputs": [
    {
     "data": {
      "text/plain": [
       "[0.00044366518691515099, 0.002854148549792756]"
      ]
     },
     "execution_count": 47,
     "metadata": {},
     "output_type": "execute_result"
    }
   ],
   "source": [
    "#Bootstrap\n",
    "prct = ut.mean_diff_bootstrap(loans[loans.loan_status == 'Charged Off'].collections_12_mths_ex_med,\n",
    "                              loans[loans.loan_status == 'Fully Paid'].collections_12_mths_ex_med, 99.5, 0.5)\n",
    "prct\n",
    "#Effect is reliable"
   ]
  },
  {
   "cell_type": "code",
   "execution_count": 50,
   "metadata": {
    "collapsed": false
   },
   "outputs": [
    {
     "data": {
      "text/plain": [
       "loan_status\n",
       "Charged Off    0.003879\n",
       "Fully Paid     0.002827\n",
       "Name: acc_now_delinq, dtype: float64"
      ]
     },
     "execution_count": 50,
     "metadata": {},
     "output_type": "execute_result"
    }
   ],
   "source": [
    "#Number of accounts now delinquent\n",
    "dlq_acc_paid_mn = loans[loans.loan_status == 'Fully Paid'].acc_now_delinq.mean()\n",
    "dlq_acc_chrg_mn = loans[loans.loan_status == 'Charged Off'].acc_now_delinq.mean()\n",
    "\n",
    "loans.groupby('loan_status').acc_now_delinq.mean()"
   ]
  },
  {
   "cell_type": "code",
   "execution_count": 51,
   "metadata": {
    "collapsed": false
   },
   "outputs": [
    {
     "data": {
      "text/plain": [
       "1.3722424705392382"
      ]
     },
     "execution_count": 51,
     "metadata": {},
     "output_type": "execute_result"
    }
   ],
   "source": [
    "#Effect size\n",
    "dlq_acc_chrg_mn / dlq_acc_paid_mn\n",
    "#Large effect"
   ]
  },
  {
   "cell_type": "code",
   "execution_count": 52,
   "metadata": {
    "collapsed": false
   },
   "outputs": [
    {
     "data": {
      "text/plain": [
       "[0.00017702472440258958, 0.0019903687465753829]"
      ]
     },
     "execution_count": 52,
     "metadata": {},
     "output_type": "execute_result"
    }
   ],
   "source": [
    "#Bootstrap\n",
    "prct = ut.mean_diff_bootstrap(loans[loans.loan_status == 'Charged Off'].acc_now_delinq,\n",
    "                              loans[loans.loan_status == 'Fully Paid'].acc_now_delinq, 99.5, 0.5)\n",
    "prct\n",
    "#Also reliable"
   ]
  },
  {
   "cell_type": "raw",
   "metadata": {},
   "source": [
    "Simple numeric fields\n",
    "Reliable:\n",
    "annual_inc, dti, delinq_2yrs, inq_last_6mths, total_acc, open_acc, *collections_12_mths_ex_med*, *acc_now_delinq*\n",
    "Notes:\n",
    "open_acc, total_acc, revol_bal have very small, but reliable effects\n",
    "collections_12_mths_ex_med, acc_now_delinq have a large, reliable effects\n",
    "collections_12_mths_ex_med, acc_now_delinq seem like they might actually be missing data even though the values are filled in\n",
    "(found out that acc_now_delinq was added on 12/10/15, not appropriate for the above analysis)\n",
    "\n",
    "Not Reliable:\n",
    "pub_rec \n"
   ]
  },
  {
   "cell_type": "markdown",
   "metadata": {},
   "source": [
    "Categorical variables:\n",
    "relatively few categories:\n",
    "home_ownership, purpose \n",
    "\n",
    "lots of categories:\n",
    "addr_state, zip_code"
   ]
  },
  {
   "cell_type": "code",
   "execution_count": 4,
   "metadata": {
    "collapsed": false
   },
   "outputs": [
    {
     "data": {
      "text/plain": [
       "0.1841395271001106"
      ]
     },
     "execution_count": 4,
     "metadata": {},
     "output_type": "execute_result"
    }
   ],
   "source": [
    "chrg_off_rate = len(loans[loans.loan_status == 'Charged Off'].loan_status) / float(len(loans.loan_status))\n",
    "chrg_off_rate"
   ]
  },
  {
   "cell_type": "code",
   "execution_count": 5,
   "metadata": {
    "collapsed": false
   },
   "outputs": [
    {
     "data": {
      "text/html": [
       "<div>\n",
       "<table border=\"1\" class=\"dataframe\">\n",
       "  <thead>\n",
       "    <tr style=\"text-align: right;\">\n",
       "      <th></th>\n",
       "      <th>Fully Paid</th>\n",
       "      <th>Charged Off</th>\n",
       "    </tr>\n",
       "    <tr>\n",
       "      <th>home_ownership</th>\n",
       "      <th></th>\n",
       "      <th></th>\n",
       "    </tr>\n",
       "  </thead>\n",
       "  <tbody>\n",
       "    <tr>\n",
       "      <th>MORTGAGE</th>\n",
       "      <td>0.835505</td>\n",
       "      <td>0.164495</td>\n",
       "    </tr>\n",
       "    <tr>\n",
       "      <th>NONE</th>\n",
       "      <td>0.829787</td>\n",
       "      <td>0.170213</td>\n",
       "    </tr>\n",
       "    <tr>\n",
       "      <th>OTHER</th>\n",
       "      <td>0.787709</td>\n",
       "      <td>0.212291</td>\n",
       "    </tr>\n",
       "    <tr>\n",
       "      <th>OWN</th>\n",
       "      <td>0.811723</td>\n",
       "      <td>0.188277</td>\n",
       "    </tr>\n",
       "    <tr>\n",
       "      <th>RENT</th>\n",
       "      <td>0.793776</td>\n",
       "      <td>0.206224</td>\n",
       "    </tr>\n",
       "  </tbody>\n",
       "</table>\n",
       "</div>"
      ],
      "text/plain": [
       "                Fully Paid  Charged Off\n",
       "home_ownership                         \n",
       "MORTGAGE          0.835505     0.164495\n",
       "NONE              0.829787     0.170213\n",
       "OTHER             0.787709     0.212291\n",
       "OWN               0.811723     0.188277\n",
       "RENT              0.793776     0.206224"
      ]
     },
     "execution_count": 5,
     "metadata": {},
     "output_type": "execute_result"
    }
   ],
   "source": [
    "#home ownership\n",
    "#There is one loan with home_ownwership == 'ANY', add that to 'OTHER'\n",
    "loans.home_ownership.replace(to_replace = 'ANY', value = 'OTHER', inplace = True)\n",
    "#Print the fully paid and charged off rates for each ownership category\n",
    "loans.groupby('home_ownership').loan_status.value_counts(normalize = True).unstack()"
   ]
  },
  {
   "cell_type": "code",
   "execution_count": 10,
   "metadata": {
    "collapsed": false
   },
   "outputs": [
    {
     "data": {
      "text/plain": [
       "1.1194209091762977"
      ]
     },
     "execution_count": 10,
     "metadata": {},
     "output_type": "execute_result"
    }
   ],
   "source": [
    "#is_mort\n",
    "eff_size = (chrg_off_rate / \n",
    "    loans[loans.home_ownership == 'MORTGAGE'].loan_status.replace(['Fully Paid', 'Charged Off'], value = [0, 1]).mean())\n",
    "eff_size\n",
    "#Modest effect of is_mort"
   ]
  },
  {
   "cell_type": "code",
   "execution_count": 11,
   "metadata": {
    "collapsed": false
   },
   "outputs": [
    {
     "data": {
      "text/plain": [
       "[0.161742103211789, 0.16729834061714779]"
      ]
     },
     "execution_count": 11,
     "metadata": {},
     "output_type": "execute_result"
    }
   ],
   "source": [
    "prct = ut.mean_bootstrap(\n",
    "    loans[loans.home_ownership == 'MORTGAGE'].loan_status.replace(['Fully Paid', 'Charged Off'], value = [0, 1]),\n",
    "    99.5, 0.5)\n",
    "prct\n",
    "#Effect is reliable"
   ]
  },
  {
   "cell_type": "code",
   "execution_count": 12,
   "metadata": {
    "collapsed": false
   },
   "outputs": [
    {
     "data": {
      "text/plain": [
       "1.0818197217131498"
      ]
     },
     "execution_count": 12,
     "metadata": {},
     "output_type": "execute_result"
    }
   ],
   "source": [
    "#is_none\n",
    "eff_size = (chrg_off_rate / \n",
    "    loans[loans.home_ownership == 'NONE'].loan_status.replace(['Fully Paid', 'Charged Off'], value = [0, 1]).mean())\n",
    "eff_size\n",
    "#Modest effect of is_none"
   ]
  },
  {
   "cell_type": "code",
   "execution_count": 13,
   "metadata": {
    "collapsed": false
   },
   "outputs": [
    {
     "data": {
      "text/plain": [
       "[0.042553191489361701, 0.31914893617021278]"
      ]
     },
     "execution_count": 13,
     "metadata": {},
     "output_type": "execute_result"
    }
   ],
   "source": [
    "prct = ut.mean_bootstrap(\n",
    "    loans[loans.home_ownership == 'NONE'].loan_status.replace(['Fully Paid', 'Charged Off'], value = [0, 1]),\n",
    "    99.5, 0.5)\n",
    "prct\n",
    "#Effect is not reliable"
   ]
  },
  {
   "cell_type": "code",
   "execution_count": 16,
   "metadata": {
    "collapsed": false
   },
   "outputs": [
    {
     "data": {
      "text/plain": [
       "1.1528785054274671"
      ]
     },
     "execution_count": 16,
     "metadata": {},
     "output_type": "execute_result"
    }
   ],
   "source": [
    "#is_other\n",
    "eff_size = (\n",
    "    loans[loans.home_ownership == 'OTHER'].loan_status.replace(['Fully Paid', 'Charged Off'], value = [0, 1]).mean() /\n",
    "    chrg_off_rate)\n",
    "eff_size\n",
    "#Modest effect of is_other"
   ]
  },
  {
   "cell_type": "code",
   "execution_count": 17,
   "metadata": {
    "collapsed": false
   },
   "outputs": [
    {
     "data": {
      "text/plain": [
       "[0.13407821229050279, 0.29608938547486036]"
      ]
     },
     "execution_count": 17,
     "metadata": {},
     "output_type": "execute_result"
    }
   ],
   "source": [
    "prct = ut.mean_bootstrap(\n",
    "    loans[loans.home_ownership == 'OTHER'].loan_status.replace(['Fully Paid', 'Charged Off'], value = [0, 1]),\n",
    "    99.5, 0.5)\n",
    "prct\n",
    "#Effect is not reliable"
   ]
  },
  {
   "cell_type": "code",
   "execution_count": 8,
   "metadata": {
    "collapsed": false
   },
   "outputs": [
    {
     "data": {
      "text/plain": [
       "1.0224701578129374"
      ]
     },
     "execution_count": 8,
     "metadata": {},
     "output_type": "execute_result"
    }
   ],
   "source": [
    "#is_own\n",
    "eff_size = (\n",
    "    loans[loans.home_ownership == 'OWN'].loan_status.replace(['Fully Paid', 'Charged Off'], value = [0, 1]).mean() /\n",
    "    chrg_off_rate)\n",
    "eff_size\n",
    "#Small effect of is_own"
   ]
  },
  {
   "cell_type": "code",
   "execution_count": 6,
   "metadata": {
    "collapsed": false
   },
   "outputs": [
    {
     "data": {
      "text/plain": [
       "[0.18144257237778832, 0.19501661129568107]"
      ]
     },
     "execution_count": 6,
     "metadata": {},
     "output_type": "execute_result"
    }
   ],
   "source": [
    "prct = ut.mean_bootstrap(\n",
    "    loans[loans.home_ownership == 'OWN'].loan_status.replace(['Fully Paid', 'Charged Off'], value = [0, 1]),\n",
    "    99.5, 0.5)\n",
    "prct\n",
    "#Effect is not reliable"
   ]
  },
  {
   "cell_type": "code",
   "execution_count": 18,
   "metadata": {
    "collapsed": false
   },
   "outputs": [
    {
     "data": {
      "text/plain": [
       "1.1199336806700069"
      ]
     },
     "execution_count": 18,
     "metadata": {},
     "output_type": "execute_result"
    }
   ],
   "source": [
    "#is_rent\n",
    "eff_size = (\n",
    "    loans[loans.home_ownership == 'RENT'].loan_status.replace(['Fully Paid', 'Charged Off'], value = [0, 1]).mean() /\n",
    "    chrg_off_rate)\n",
    "eff_size\n",
    "#Modest effect of is_rent"
   ]
  },
  {
   "cell_type": "code",
   "execution_count": 19,
   "metadata": {
    "collapsed": false
   },
   "outputs": [
    {
     "data": {
      "text/plain": [
       "[0.20299468559680359, 0.20954075992086582]"
      ]
     },
     "execution_count": 19,
     "metadata": {},
     "output_type": "execute_result"
    }
   ],
   "source": [
    "prct = ut.mean_bootstrap(\n",
    "    loans[loans.home_ownership == 'RENT'].loan_status.replace(['Fully Paid', 'Charged Off'], value = [0, 1]),\n",
    "    99.5, 0.5)\n",
    "prct\n",
    "#Effect is reliable"
   ]
  },
  {
   "cell_type": "code",
   "execution_count": 22,
   "metadata": {
    "collapsed": false
   },
   "outputs": [
    {
     "data": {
      "text/html": [
       "<div>\n",
       "<table border=\"1\" class=\"dataframe\">\n",
       "  <thead>\n",
       "    <tr style=\"text-align: right;\">\n",
       "      <th></th>\n",
       "      <th>Fully Paid</th>\n",
       "      <th>Charged Off</th>\n",
       "    </tr>\n",
       "    <tr>\n",
       "      <th>purpose</th>\n",
       "      <th></th>\n",
       "      <th></th>\n",
       "    </tr>\n",
       "  </thead>\n",
       "  <tbody>\n",
       "    <tr>\n",
       "      <th>car</th>\n",
       "      <td>0.873259</td>\n",
       "      <td>0.126741</td>\n",
       "    </tr>\n",
       "    <tr>\n",
       "      <th>credit_card</th>\n",
       "      <td>0.839346</td>\n",
       "      <td>0.160654</td>\n",
       "    </tr>\n",
       "    <tr>\n",
       "      <th>debt_consolidation</th>\n",
       "      <td>0.808992</td>\n",
       "      <td>0.191008</td>\n",
       "    </tr>\n",
       "    <tr>\n",
       "      <th>educational</th>\n",
       "      <td>0.791469</td>\n",
       "      <td>0.208531</td>\n",
       "    </tr>\n",
       "    <tr>\n",
       "      <th>home_improvement</th>\n",
       "      <td>0.841063</td>\n",
       "      <td>0.158937</td>\n",
       "    </tr>\n",
       "    <tr>\n",
       "      <th>house</th>\n",
       "      <td>0.820905</td>\n",
       "      <td>0.179095</td>\n",
       "    </tr>\n",
       "    <tr>\n",
       "      <th>major_purchase</th>\n",
       "      <td>0.856680</td>\n",
       "      <td>0.143320</td>\n",
       "    </tr>\n",
       "    <tr>\n",
       "      <th>medical</th>\n",
       "      <td>0.793521</td>\n",
       "      <td>0.206479</td>\n",
       "    </tr>\n",
       "    <tr>\n",
       "      <th>moving</th>\n",
       "      <td>0.785607</td>\n",
       "      <td>0.214393</td>\n",
       "    </tr>\n",
       "    <tr>\n",
       "      <th>other</th>\n",
       "      <td>0.788047</td>\n",
       "      <td>0.211953</td>\n",
       "    </tr>\n",
       "    <tr>\n",
       "      <th>renewable_energy</th>\n",
       "      <td>0.792453</td>\n",
       "      <td>0.207547</td>\n",
       "    </tr>\n",
       "    <tr>\n",
       "      <th>small_business</th>\n",
       "      <td>0.702832</td>\n",
       "      <td>0.297168</td>\n",
       "    </tr>\n",
       "    <tr>\n",
       "      <th>vacation</th>\n",
       "      <td>0.822424</td>\n",
       "      <td>0.177576</td>\n",
       "    </tr>\n",
       "    <tr>\n",
       "      <th>wedding</th>\n",
       "      <td>0.861222</td>\n",
       "      <td>0.138778</td>\n",
       "    </tr>\n",
       "  </tbody>\n",
       "</table>\n",
       "</div>"
      ],
      "text/plain": [
       "                    Fully Paid  Charged Off\n",
       "purpose                                    \n",
       "car                   0.873259     0.126741\n",
       "credit_card           0.839346     0.160654\n",
       "debt_consolidation    0.808992     0.191008\n",
       "educational           0.791469     0.208531\n",
       "home_improvement      0.841063     0.158937\n",
       "house                 0.820905     0.179095\n",
       "major_purchase        0.856680     0.143320\n",
       "medical               0.793521     0.206479\n",
       "moving                0.785607     0.214393\n",
       "other                 0.788047     0.211953\n",
       "renewable_energy      0.792453     0.207547\n",
       "small_business        0.702832     0.297168\n",
       "vacation              0.822424     0.177576\n",
       "wedding               0.861222     0.138778"
      ]
     },
     "execution_count": 22,
     "metadata": {},
     "output_type": "execute_result"
    }
   ],
   "source": [
    "#loan purpose\n",
    "#Print the fully paid and charged off rates for each purpose category\n",
    "loans.groupby('purpose').loan_status.value_counts(normalize = True).unstack()"
   ]
  },
  {
   "cell_type": "code",
   "execution_count": 23,
   "metadata": {
    "collapsed": false
   },
   "outputs": [
    {
     "data": {
      "text/plain": [
       "1.4528811039327409"
      ]
     },
     "execution_count": 23,
     "metadata": {},
     "output_type": "execute_result"
    }
   ],
   "source": [
    "#p_is_car\n",
    "eff_size = (chrg_off_rate /\n",
    "    loans[loans.purpose == 'car'].loan_status.replace(['Fully Paid', 'Charged Off'], value = [0, 1]).mean())\n",
    "eff_size\n",
    "#Large effect of is_car"
   ]
  },
  {
   "cell_type": "code",
   "execution_count": 24,
   "metadata": {
    "collapsed": false
   },
   "outputs": [
    {
     "data": {
      "text/plain": [
       "[0.11253481894150417, 0.14150417827298051]"
      ]
     },
     "execution_count": 24,
     "metadata": {},
     "output_type": "execute_result"
    }
   ],
   "source": [
    "prct = ut.mean_bootstrap(\n",
    "    loans[loans.purpose == 'car'].loan_status.replace(['Fully Paid', 'Charged Off'], value = [0, 1]),\n",
    "    99.5, 0.5)\n",
    "prct\n",
    "#Effect is reliable"
   ]
  },
  {
   "cell_type": "code",
   "execution_count": 25,
   "metadata": {
    "collapsed": false
   },
   "outputs": [
    {
     "data": {
      "text/plain": [
       "1.1461892165678129"
      ]
     },
     "execution_count": 25,
     "metadata": {},
     "output_type": "execute_result"
    }
   ],
   "source": [
    "#p_is_credit\n",
    "eff_size = (chrg_off_rate /\n",
    "    loans[loans.purpose == 'credit_card'].loan_status.replace(['Fully Paid', 'Charged Off'], value = [0, 1]).mean())\n",
    "eff_size\n",
    "#Modest effect of is_credit"
   ]
  },
  {
   "cell_type": "code",
   "execution_count": 26,
   "metadata": {
    "collapsed": false
   },
   "outputs": [
    {
     "data": {
      "text/plain": [
       "[0.15646924117830749, 0.16508795669824086]"
      ]
     },
     "execution_count": 26,
     "metadata": {},
     "output_type": "execute_result"
    }
   ],
   "source": [
    "prct = ut.mean_bootstrap(\n",
    "    loans[loans.purpose == 'credit_card'].loan_status.replace(['Fully Paid', 'Charged Off'], value = [0, 1]),\n",
    "    99.5, 0.5)\n",
    "prct"
   ]
  },
  {
   "cell_type": "code",
   "execution_count": 27,
   "metadata": {
    "collapsed": false
   },
   "outputs": [
    {
     "data": {
      "text/plain": [
       "1.0372996019357483"
      ]
     },
     "execution_count": 27,
     "metadata": {},
     "output_type": "execute_result"
    }
   ],
   "source": [
    "#p_is_debt\n",
    "eff_size = (\n",
    "    loans[loans.purpose == 'debt_consolidation'].loan_status.replace(['Fully Paid', 'Charged Off'], value = [0, 1]).mean() /\n",
    "    chrg_off_rate)\n",
    "eff_size\n",
    "#Small effect of is_debt"
   ]
  },
  {
   "cell_type": "code",
   "execution_count": 28,
   "metadata": {
    "collapsed": false
   },
   "outputs": [
    {
     "data": {
      "text/plain": [
       "[0.18837205318940686, 0.19374143572247546]"
      ]
     },
     "execution_count": 28,
     "metadata": {},
     "output_type": "execute_result"
    }
   ],
   "source": [
    "prct = ut.mean_bootstrap(\n",
    "    loans[loans.purpose == 'debt_consolidation'].loan_status.replace(['Fully Paid', 'Charged Off'], value = [0, 1]),\n",
    "    99.5, 0.5)\n",
    "prct\n",
    "#reliable, but so small it probably doesn't matter much"
   ]
  },
  {
   "cell_type": "code",
   "execution_count": 29,
   "metadata": {
    "collapsed": false
   },
   "outputs": [
    {
     "data": {
      "text/plain": [
       "1.1324608516770678"
      ]
     },
     "execution_count": 29,
     "metadata": {},
     "output_type": "execute_result"
    }
   ],
   "source": [
    "#p_is_edu\n",
    "eff_size = (\n",
    "    loans[loans.purpose == 'educational'].loan_status.replace(['Fully Paid', 'Charged Off'], value = [0, 1]).mean() /\n",
    "    chrg_off_rate)\n",
    "eff_size\n",
    "#Modest effect of is_edu"
   ]
  },
  {
   "cell_type": "code",
   "execution_count": 30,
   "metadata": {
    "collapsed": false
   },
   "outputs": [
    {
     "data": {
      "text/plain": [
       "[0.15876777251184834, 0.26067535545023507]"
      ]
     },
     "execution_count": 30,
     "metadata": {},
     "output_type": "execute_result"
    }
   ],
   "source": [
    "prct = ut.mean_bootstrap(\n",
    "    loans[loans.purpose == 'educational'].loan_status.replace(['Fully Paid', 'Charged Off'], value = [0, 1]),\n",
    "    99.5, 0.5)\n",
    "prct\n",
    "#not reliable"
   ]
  },
  {
   "cell_type": "code",
   "execution_count": 31,
   "metadata": {
    "collapsed": false
   },
   "outputs": [
    {
     "data": {
      "text/plain": [
       "1.1585678452803312"
      ]
     },
     "execution_count": 31,
     "metadata": {},
     "output_type": "execute_result"
    }
   ],
   "source": [
    "#p_is_home_imp\n",
    "eff_size = (chrg_off_rate /\n",
    "    loans[loans.purpose == 'home_improvement'].loan_status.replace(['Fully Paid', 'Charged Off'], value = [0, 1]).mean())\n",
    "eff_size\n",
    "#Modest effect of is_home_imp"
   ]
  },
  {
   "cell_type": "code",
   "execution_count": 32,
   "metadata": {
    "collapsed": false
   },
   "outputs": [
    {
     "data": {
      "text/plain": [
       "[0.15113871635610765, 0.16687370600414078]"
      ]
     },
     "execution_count": 32,
     "metadata": {},
     "output_type": "execute_result"
    }
   ],
   "source": [
    "prct = ut.mean_bootstrap(\n",
    "    loans[loans.purpose == 'home_improvement'].loan_status.replace(['Fully Paid', 'Charged Off'], value = [0, 1]),\n",
    "    99.5, 0.5)\n",
    "prct\n",
    "#reliable"
   ]
  },
  {
   "cell_type": "code",
   "execution_count": 33,
   "metadata": {
    "collapsed": false
   },
   "outputs": [
    {
     "data": {
      "text/plain": [
       "1.0281647315214366"
      ]
     },
     "execution_count": 33,
     "metadata": {},
     "output_type": "execute_result"
    }
   ],
   "source": [
    "#p_is_house\n",
    "eff_size = (chrg_off_rate /\n",
    "    loans[loans.purpose == 'house'].loan_status.replace(['Fully Paid', 'Charged Off'], value = [0, 1]).mean())\n",
    "eff_size\n",
    "#Small effect of is_house"
   ]
  },
  {
   "cell_type": "code",
   "execution_count": 34,
   "metadata": {
    "collapsed": false
   },
   "outputs": [
    {
     "data": {
      "text/plain": [
       "[0.15586491442542788, 0.20415647921760391]"
      ]
     },
     "execution_count": 34,
     "metadata": {},
     "output_type": "execute_result"
    }
   ],
   "source": [
    "prct = ut.mean_bootstrap(\n",
    "    loans[loans.purpose == 'house'].loan_status.replace(['Fully Paid', 'Charged Off'], value = [0, 1]),\n",
    "    99.5, 0.5)\n",
    "prct\n",
    "#not reliable"
   ]
  },
  {
   "cell_type": "code",
   "execution_count": 35,
   "metadata": {
    "collapsed": false
   },
   "outputs": [
    {
     "data": {
      "text/plain": [
       "1.2848106370514505"
      ]
     },
     "execution_count": 35,
     "metadata": {},
     "output_type": "execute_result"
    }
   ],
   "source": [
    "#p_is_major\n",
    "eff_size = (chrg_off_rate /\n",
    "    loans[loans.purpose == 'major_purchase'].loan_status.replace(['Fully Paid', 'Charged Off'], value = [0, 1]).mean())\n",
    "eff_size\n",
    "#Large effect of is_major"
   ]
  },
  {
   "cell_type": "code",
   "execution_count": 36,
   "metadata": {
    "collapsed": false
   },
   "outputs": [
    {
     "data": {
      "text/plain": [
       "[0.13197146562905318, 0.15466926070038911]"
      ]
     },
     "execution_count": 36,
     "metadata": {},
     "output_type": "execute_result"
    }
   ],
   "source": [
    "prct = ut.mean_bootstrap(\n",
    "    loans[loans.purpose == 'major_purchase'].loan_status.replace(['Fully Paid', 'Charged Off'], value = [0, 1]),\n",
    "    99.5, 0.5)\n",
    "prct"
   ]
  },
  {
   "cell_type": "code",
   "execution_count": 37,
   "metadata": {
    "collapsed": false
   },
   "outputs": [
    {
     "data": {
      "text/plain": [
       "1.1213191286792417"
      ]
     },
     "execution_count": 37,
     "metadata": {},
     "output_type": "execute_result"
    }
   ],
   "source": [
    "#p_is_med\n",
    "eff_size = (\n",
    "    loans[loans.purpose == 'medical'].loan_status.replace(['Fully Paid', 'Charged Off'], value = [0, 1]).mean() /\n",
    "    chrg_off_rate)\n",
    "eff_size\n",
    "#Modest effect of is_med"
   ]
  },
  {
   "cell_type": "code",
   "execution_count": 38,
   "metadata": {
    "collapsed": false
   },
   "outputs": [
    {
     "data": {
      "text/plain": [
       "[0.18689925240299038, 0.22641509433962265]"
      ]
     },
     "execution_count": 38,
     "metadata": {},
     "output_type": "execute_result"
    }
   ],
   "source": [
    "prct = ut.mean_bootstrap(\n",
    "    loans[loans.purpose == 'medical'].loan_status.replace(['Fully Paid', 'Charged Off'], value = [0, 1]),\n",
    "    99.5, 0.5)\n",
    "prct\n",
    "#reliable"
   ]
  },
  {
   "cell_type": "code",
   "execution_count": 39,
   "metadata": {
    "collapsed": false
   },
   "outputs": [
    {
     "data": {
      "text/plain": [
       "1.1642953958583948"
      ]
     },
     "execution_count": 39,
     "metadata": {},
     "output_type": "execute_result"
    }
   ],
   "source": [
    "#p_is_moving\n",
    "eff_size = (\n",
    "    loans[loans.purpose == 'moving'].loan_status.replace(['Fully Paid', 'Charged Off'], value = [0, 1]).mean() /\n",
    "    chrg_off_rate)\n",
    "eff_size\n",
    "#Modest effect of is_moving"
   ]
  },
  {
   "cell_type": "code",
   "execution_count": 40,
   "metadata": {
    "collapsed": false
   },
   "outputs": [
    {
     "data": {
      "text/plain": [
       "[0.19140429785107446, 0.23888055972013994]"
      ]
     },
     "execution_count": 40,
     "metadata": {},
     "output_type": "execute_result"
    }
   ],
   "source": [
    "prct = ut.mean_bootstrap(\n",
    "    loans[loans.purpose == 'moving'].loan_status.replace(['Fully Paid', 'Charged Off'], value = [0, 1]),\n",
    "    99.5, 0.5)\n",
    "prct\n",
    "#reliable"
   ]
  },
  {
   "cell_type": "code",
   "execution_count": 41,
   "metadata": {
    "collapsed": false
   },
   "outputs": [
    {
     "data": {
      "text/plain": [
       "1.1510439902927163"
      ]
     },
     "execution_count": 41,
     "metadata": {},
     "output_type": "execute_result"
    }
   ],
   "source": [
    "#p_is_other\n",
    "eff_size = (\n",
    "    loans[loans.purpose == 'other'].loan_status.replace(['Fully Paid', 'Charged Off'], value = [0, 1]).mean() /\n",
    "    chrg_off_rate)\n",
    "eff_size\n",
    "#Modest effect of is_other"
   ]
  },
  {
   "cell_type": "code",
   "execution_count": 42,
   "metadata": {
    "collapsed": false
   },
   "outputs": [
    {
     "data": {
      "text/plain": [
       "[0.2032943826552161, 0.22089258059974659]"
      ]
     },
     "execution_count": 42,
     "metadata": {},
     "output_type": "execute_result"
    }
   ],
   "source": [
    "prct = ut.mean_bootstrap(\n",
    "    loans[loans.purpose == 'other'].loan_status.replace(['Fully Paid', 'Charged Off'], value = [0, 1]),\n",
    "    99.5, 0.5)\n",
    "prct\n",
    "#reliable"
   ]
  },
  {
   "cell_type": "code",
   "execution_count": 43,
   "metadata": {
    "collapsed": false
   },
   "outputs": [
    {
     "data": {
      "text/plain": [
       "1.127119055206893"
      ]
     },
     "execution_count": 43,
     "metadata": {},
     "output_type": "execute_result"
    }
   ],
   "source": [
    "#p_is_renew\n",
    "eff_size = (\n",
    "    loans[loans.purpose == 'renewable_energy'].loan_status.replace(['Fully Paid', 'Charged Off'], value = [0, 1]).mean() /\n",
    "    chrg_off_rate)\n",
    "eff_size\n",
    "#Modest effect of is_renew"
   ]
  },
  {
   "cell_type": "code",
   "execution_count": 44,
   "metadata": {
    "collapsed": false
   },
   "outputs": [
    {
     "data": {
      "text/plain": [
       "[0.14339622641509434, 0.27547169811320754]"
      ]
     },
     "execution_count": 44,
     "metadata": {},
     "output_type": "execute_result"
    }
   ],
   "source": [
    "prct = ut.mean_bootstrap(\n",
    "    loans[loans.purpose == 'renewable_energy'].loan_status.replace(['Fully Paid', 'Charged Off'], value = [0, 1]),\n",
    "    99.5, 0.5)\n",
    "prct\n",
    "#not reliable"
   ]
  },
  {
   "cell_type": "code",
   "execution_count": 45,
   "metadata": {
    "collapsed": false
   },
   "outputs": [
    {
     "data": {
      "text/plain": [
       "1.6138188872884882"
      ]
     },
     "execution_count": 45,
     "metadata": {},
     "output_type": "execute_result"
    }
   ],
   "source": [
    "#p_is_small_bus\n",
    "eff_size = (\n",
    "    loans[loans.purpose == 'small_business'].loan_status.replace(['Fully Paid', 'Charged Off'], value = [0, 1]).mean() /\n",
    "    chrg_off_rate)\n",
    "eff_size\n",
    "#Large effect of small business"
   ]
  },
  {
   "cell_type": "code",
   "execution_count": 46,
   "metadata": {
    "collapsed": false
   },
   "outputs": [
    {
     "data": {
      "text/plain": [
       "[0.28050812161599331, 0.31424406497292795]"
      ]
     },
     "execution_count": 46,
     "metadata": {},
     "output_type": "execute_result"
    }
   ],
   "source": [
    "prct = ut.mean_bootstrap(\n",
    "    loans[loans.purpose == 'small_business'].loan_status.replace(['Fully Paid', 'Charged Off'], value = [0, 1]),\n",
    "    99.5, 0.5)\n",
    "prct\n",
    "#reliable"
   ]
  },
  {
   "cell_type": "code",
   "execution_count": 47,
   "metadata": {
    "collapsed": false
   },
   "outputs": [
    {
     "data": {
      "text/plain": [
       "1.0369609135601119"
      ]
     },
     "execution_count": 47,
     "metadata": {},
     "output_type": "execute_result"
    }
   ],
   "source": [
    "#p_is_vac\n",
    "eff_size = (chrg_off_rate /\n",
    "    loans[loans.purpose == 'vacation'].loan_status.replace(['Fully Paid', 'Charged Off'], value = [0, 1]).mean())\n",
    "eff_size\n",
    "#small effect of vacation"
   ]
  },
  {
   "cell_type": "code",
   "execution_count": 48,
   "metadata": {
    "collapsed": false
   },
   "outputs": [
    {
     "data": {
      "text/plain": [
       "[0.15165262475696695, 0.20220349967595594]"
      ]
     },
     "execution_count": 48,
     "metadata": {},
     "output_type": "execute_result"
    }
   ],
   "source": [
    "prct = ut.mean_bootstrap(\n",
    "    loans[loans.purpose == 'vacation'].loan_status.replace(['Fully Paid', 'Charged Off'], value = [0, 1]),\n",
    "    99.5, 0.5)\n",
    "prct\n",
    "#not reliable"
   ]
  },
  {
   "cell_type": "code",
   "execution_count": 49,
   "metadata": {
    "collapsed": false
   },
   "outputs": [
    {
     "data": {
      "text/plain": [
       "1.3268682169379811"
      ]
     },
     "execution_count": 49,
     "metadata": {},
     "output_type": "execute_result"
    }
   ],
   "source": [
    "#p_is_wed\n",
    "eff_size = (chrg_off_rate /\n",
    "    loans[loans.purpose == 'wedding'].loan_status.replace(['Fully Paid', 'Charged Off'], value = [0, 1]).mean())\n",
    "eff_size\n",
    "#large effect of wedding"
   ]
  },
  {
   "cell_type": "code",
   "execution_count": 50,
   "metadata": {
    "collapsed": false
   },
   "outputs": [
    {
     "data": {
      "text/plain": [
       "[0.1192384769539078, 0.15881763527054107]"
      ]
     },
     "execution_count": 50,
     "metadata": {},
     "output_type": "execute_result"
    }
   ],
   "source": [
    "prct = ut.mean_bootstrap(\n",
    "    loans[loans.purpose == 'wedding'].loan_status.replace(['Fully Paid', 'Charged Off'], value = [0, 1]),\n",
    "    99.5, 0.5)\n",
    "prct\n",
    "#not reliable"
   ]
  },
  {
   "cell_type": "markdown",
   "metadata": {
    "collapsed": true
   },
   "source": [
    "Effects of categorical variables requiring minimal processing:\n",
    "Reliable:\n",
    "home_ownership: MORTGAGE, RENT\n",
    "purpose: car, credit_card, debt_consolidation (very small effect), home_improvement, major_purchase, medical,\n",
    "moving, other, small_business, wedding\n",
    "\n",
    "Not Reliable:\n",
    "home_ownership: OWN, NONE, OTHER\n",
    "purpose: educational, house, renewable_energy, vacation"
   ]
  },
  {
   "cell_type": "code",
   "execution_count": 6,
   "metadata": {
    "collapsed": false
   },
   "outputs": [],
   "source": [
    "#Read in IRS zipcode data\n",
    "zip_data = pd.read_pickle('anon_avg_irs_data.pkl')"
   ]
  },
  {
   "cell_type": "code",
   "execution_count": 8,
   "metadata": {
    "collapsed": false
   },
   "outputs": [
    {
     "data": {
      "text/plain": [
       "Index([u'adj_gross_inc', u'amt_SS', u'amt_edu', u'amt_itemized',\n",
       "       u'amt_mort_intr', u'amt_st_loans', u'amt_unemp', u'n_SS', u'n_edu',\n",
       "       u'n_farm', u'n_itemized', u'n_mort_intr', u'n_returns', u'n_st_loans',\n",
       "       u'n_unemp', u'zipcd', u'avg_inc', u'avg_SS', u'avg_itemized',\n",
       "       u'avg_unemp', u'avg_mort_intr', u'avg_edu', u'avg_st_loans', u'prop_SS',\n",
       "       u'prop_itemized', u'prop_unemp', u'prop_farm', u'prop_mort_intr',\n",
       "       u'prop_edu', u'prop_st_loans'],\n",
       "      dtype='object')"
      ]
     },
     "execution_count": 8,
     "metadata": {},
     "output_type": "execute_result"
    }
   ],
   "source": [
    "zip_data.columns"
   ]
  },
  {
   "cell_type": "code",
   "execution_count": null,
   "metadata": {
    "collapsed": true
   },
   "outputs": [],
   "source": [
    "#Create a dictionary to convert anonomized string zipcodes into integers\n",
    "code_dict = {code: int(code[0:3]) for code in loans.zip_code.unique()}\n",
    "#Replace string zipcodes with integer zipcodes\n",
    "loans.replace(to_replace = {'zip_code': code_dict}, inplace = True)"
   ]
  },
  {
   "cell_type": "code",
   "execution_count": null,
   "metadata": {
    "collapsed": true
   },
   "outputs": [],
   "source": [
    "#Drop unnecessary columns from zipcode data\n",
    "zip_data.drop(['adj_gross_inc', 'amt_SS', 'amt_edu', 'amt_itemized',\n",
    "       'amt_mort_intr', 'amt_st_loans', 'amt_unemp', 'n_SS', 'n_edu',\n",
    "       'n_farm', 'n_itemized', 'n_mort_intr', 'n_returns', 'n_st_loans',\n",
    "       'n_unemp'], axis = 1, inplace=True)\n",
    "#Rename the zipcd column so that we can do a join\n",
    "zip_data.rename(columns = {'zipcd':'zip_code'}, inplace = True)\n",
    "zip_data.head()"
   ]
  },
  {
   "cell_type": "code",
   "execution_count": 34,
   "metadata": {
    "collapsed": false
   },
   "outputs": [],
   "source": [
    "#Join zipcode data to loan data on zip_code\n",
    "loans = loans.join(zip_data, on = 'zip_code', rsuffix = 'r')\n",
    "loans.drop('zip_coder', axis = 1, inplace = True)"
   ]
  },
  {
   "cell_type": "markdown",
   "metadata": {},
   "source": [
    "Look at the effects of the features extracted from the zipcode data (note that dollar amounts are in thousands):\n",
    "avg_inc, avg_SS, avg_itemized, avg_unemp, avg_mort_intr, avg_edu, avg_st_loans, prop_SS,\n",
    "prop_itemized, prop_unemp, prop_farm, prop_mort_intr, prop_edu, prop_st_loans"
   ]
  },
  {
   "cell_type": "code",
   "execution_count": 38,
   "metadata": {
    "collapsed": false
   },
   "outputs": [
    {
     "data": {
      "text/plain": [
       "loan_status\n",
       "Charged Off    56.675219\n",
       "Fully Paid     58.883092\n",
       "Name: avg_inc, dtype: float64"
      ]
     },
     "execution_count": 38,
     "metadata": {},
     "output_type": "execute_result"
    }
   ],
   "source": [
    "#Average income of the region\n",
    "reg_inc_paid_med = loans[loans.loan_status == 'Fully Paid'].avg_inc.median()\n",
    "reg_inc_chrg_med = loans[loans.loan_status == 'Charged Off'].avg_inc.median()\n",
    "\n",
    "loans.groupby('loan_status').avg_inc.median()"
   ]
  },
  {
   "cell_type": "code",
   "execution_count": 39,
   "metadata": {
    "collapsed": false
   },
   "outputs": [
    {
     "data": {
      "text/plain": [
       "1.0389565776690952"
      ]
     },
     "execution_count": 39,
     "metadata": {},
     "output_type": "execute_result"
    }
   ],
   "source": [
    "#Effect size\n",
    "reg_inc_paid_med / reg_inc_chrg_med\n",
    "#Small effect"
   ]
  },
  {
   "cell_type": "code",
   "execution_count": 41,
   "metadata": {
    "collapsed": false
   },
   "outputs": [
    {
     "data": {
      "text/plain": [
       "[1.8863152713123483, 2.3753684291614121]"
      ]
     },
     "execution_count": 41,
     "metadata": {},
     "output_type": "execute_result"
    }
   ],
   "source": [
    "#Bootstrap\n",
    "prct = ut.med_diff_bootstrap(loans[loans.loan_status == 'Fully Paid'].avg_inc,\n",
    "                              loans[loans.loan_status == 'Charged Off'].avg_inc, 99.5, 0.5)\n",
    "prct\n",
    "#Reliable"
   ]
  },
  {
   "cell_type": "code",
   "execution_count": 42,
   "metadata": {
    "collapsed": false
   },
   "outputs": [
    {
     "data": {
      "text/plain": [
       "loan_status\n",
       "Charged Off    12.283921\n",
       "Fully Paid     12.424060\n",
       "Name: avg_SS, dtype: float64"
      ]
     },
     "execution_count": 42,
     "metadata": {},
     "output_type": "execute_result"
    }
   ],
   "source": [
    "#Average SS income of the region\n",
    "SS_paid_med = loans[loans.loan_status == 'Fully Paid'].avg_SS.median()\n",
    "SS_chrg_med = loans[loans.loan_status == 'Charged Off'].avg_SS.median()\n",
    "\n",
    "loans.groupby('loan_status').avg_SS.median()"
   ]
  },
  {
   "cell_type": "code",
   "execution_count": 43,
   "metadata": {
    "collapsed": false
   },
   "outputs": [
    {
     "data": {
      "text/plain": [
       "1.0114082830826128"
      ]
     },
     "execution_count": 43,
     "metadata": {},
     "output_type": "execute_result"
    }
   ],
   "source": [
    "#Effect size\n",
    "SS_paid_med / SS_chrg_med\n",
    "#very small effect"
   ]
  },
  {
   "cell_type": "code",
   "execution_count": 44,
   "metadata": {
    "collapsed": false
   },
   "outputs": [
    {
     "data": {
      "text/plain": [
       "[0.11135745256081542, 0.18167845421086959]"
      ]
     },
     "execution_count": 44,
     "metadata": {},
     "output_type": "execute_result"
    }
   ],
   "source": [
    "#Bootstrap\n",
    "prct = ut.med_diff_bootstrap(loans[loans.loan_status == 'Fully Paid'].avg_SS,\n",
    "                              loans[loans.loan_status == 'Charged Off'].avg_SS, 99.5, 0.5)\n",
    "prct\n",
    "#Reliable"
   ]
  },
  {
   "cell_type": "code",
   "execution_count": 46,
   "metadata": {
    "collapsed": false
   },
   "outputs": [
    {
     "data": {
      "text/plain": [
       "loan_status\n",
       "Charged Off    23.752402\n",
       "Fully Paid     24.310692\n",
       "Name: avg_itemized, dtype: float64"
      ]
     },
     "execution_count": 46,
     "metadata": {},
     "output_type": "execute_result"
    }
   ],
   "source": [
    "#Average amount itemized\n",
    "item_paid_med = loans[loans.loan_status == 'Fully Paid'].avg_itemized.median()\n",
    "item_chrg_med = loans[loans.loan_status == 'Charged Off'].avg_itemized.median()\n",
    "\n",
    "loans.groupby('loan_status').avg_itemized.median()\n"
   ]
  },
  {
   "cell_type": "code",
   "execution_count": 47,
   "metadata": {
    "collapsed": false
   },
   "outputs": [
    {
     "data": {
      "text/plain": [
       "1.023504556169143"
      ]
     },
     "execution_count": 47,
     "metadata": {},
     "output_type": "execute_result"
    }
   ],
   "source": [
    "#Effect size\n",
    "item_paid_med / item_chrg_med\n",
    "#Small effect"
   ]
  },
  {
   "cell_type": "code",
   "execution_count": 48,
   "metadata": {
    "collapsed": false
   },
   "outputs": [
    {
     "data": {
      "text/plain": [
       "[0.44778617172056201, 0.65132502713042939]"
      ]
     },
     "execution_count": 48,
     "metadata": {},
     "output_type": "execute_result"
    }
   ],
   "source": [
    "#Bootstrap\n",
    "prct = ut.med_diff_bootstrap(loans[loans.loan_status == 'Fully Paid'].avg_itemized,\n",
    "                              loans[loans.loan_status == 'Charged Off'].avg_itemized, 99.5, 0.5)\n",
    "prct\n",
    "#Reliable"
   ]
  },
  {
   "cell_type": "code",
   "execution_count": 49,
   "metadata": {
    "collapsed": false
   },
   "outputs": [
    {
     "data": {
      "text/plain": [
       "loan_status\n",
       "Charged Off    7.325424\n",
       "Fully Paid     7.379383\n",
       "Name: avg_unemp, dtype: float64"
      ]
     },
     "execution_count": 49,
     "metadata": {},
     "output_type": "execute_result"
    }
   ],
   "source": [
    "#Average amount of taxable unemployment compensation\n",
    "unemp_paid_med = loans[loans.loan_status == 'Fully Paid'].avg_unemp.median()\n",
    "unemp_chrg_med = loans[loans.loan_status == 'Charged Off'].avg_unemp.median()\n",
    "\n",
    "loans.groupby('loan_status').avg_unemp.median()"
   ]
  },
  {
   "cell_type": "code",
   "execution_count": 51,
   "metadata": {
    "collapsed": false
   },
   "outputs": [
    {
     "data": {
      "text/plain": [
       "1.0073659840336693"
      ]
     },
     "execution_count": 51,
     "metadata": {},
     "output_type": "execute_result"
    }
   ],
   "source": [
    "#Effect size\n",
    "unemp_paid_med / unemp_chrg_med\n",
    "#Very small effect"
   ]
  },
  {
   "cell_type": "code",
   "execution_count": 52,
   "metadata": {
    "collapsed": false
   },
   "outputs": [
    {
     "data": {
      "text/plain": [
       "[0.037183010065772848, 0.089849978490887494]"
      ]
     },
     "execution_count": 52,
     "metadata": {},
     "output_type": "execute_result"
    }
   ],
   "source": [
    "#Bootstrap\n",
    "prct = ut.med_diff_bootstrap(loans[loans.loan_status == 'Fully Paid'].avg_unemp,\n",
    "                              loans[loans.loan_status == 'Charged Off'].avg_unemp, 99.5, 0.5)\n",
    "prct\n",
    "#Reliable"
   ]
  },
  {
   "cell_type": "code",
   "execution_count": 53,
   "metadata": {
    "collapsed": false
   },
   "outputs": [
    {
     "data": {
      "text/plain": [
       "loan_status\n",
       "Charged Off    9.765733\n",
       "Fully Paid     9.909097\n",
       "Name: avg_mort_intr, dtype: float64"
      ]
     },
     "execution_count": 53,
     "metadata": {},
     "output_type": "execute_result"
    }
   ],
   "source": [
    "#Average amount of mortgage interest deductions\n",
    "mort_intr_paid_med = loans[loans.loan_status == 'Fully Paid'].avg_mort_intr.median()\n",
    "mort_intr_chrg_med = loans[loans.loan_status == 'Charged Off'].avg_mort_intr.median()\n",
    "\n",
    "loans.groupby('loan_status').avg_mort_intr.median()"
   ]
  },
  {
   "cell_type": "code",
   "execution_count": 54,
   "metadata": {
    "collapsed": false
   },
   "outputs": [
    {
     "data": {
      "text/plain": [
       "1.0146802665860144"
      ]
     },
     "execution_count": 54,
     "metadata": {},
     "output_type": "execute_result"
    }
   ],
   "source": [
    "#Effect size\n",
    "mort_intr_paid_med / mort_intr_chrg_med\n",
    "#Small effect"
   ]
  },
  {
   "cell_type": "code",
   "execution_count": 55,
   "metadata": {
    "collapsed": false
   },
   "outputs": [
    {
     "data": {
      "text/plain": [
       "[0.13791472791523596, 0.21836008908644366]"
      ]
     },
     "execution_count": 55,
     "metadata": {},
     "output_type": "execute_result"
    }
   ],
   "source": [
    "#Bootstrap\n",
    "prct = ut.med_diff_bootstrap(loans[loans.loan_status == 'Fully Paid'].avg_mort_intr,\n",
    "                              loans[loans.loan_status == 'Charged Off'].avg_mort_intr, 99.5, 0.5)\n",
    "prct\n",
    "#Reliable"
   ]
  },
  {
   "cell_type": "code",
   "execution_count": 56,
   "metadata": {
    "collapsed": false
   },
   "outputs": [
    {
     "data": {
      "text/plain": [
       "loan_status\n",
       "Charged Off    2.220000\n",
       "Fully Paid     2.217544\n",
       "Name: avg_edu, dtype: float64"
      ]
     },
     "execution_count": 56,
     "metadata": {},
     "output_type": "execute_result"
    }
   ],
   "source": [
    "#Average amount of educational credit\n",
    "edu_paid_med = loans[loans.loan_status == 'Fully Paid'].avg_edu.median()\n",
    "edu_chrg_med = loans[loans.loan_status == 'Charged Off'].avg_edu.median()\n",
    "\n",
    "loans.groupby('loan_status').avg_edu.median()"
   ]
  },
  {
   "cell_type": "code",
   "execution_count": 57,
   "metadata": {
    "collapsed": false
   },
   "outputs": [
    {
     "data": {
      "text/plain": [
       "1.0011075949367092"
      ]
     },
     "execution_count": 57,
     "metadata": {},
     "output_type": "execute_result"
    }
   ],
   "source": [
    "#Effect size\n",
    "edu_chrg_med / edu_paid_med\n",
    "#Extremely small, no way this should be reliable"
   ]
  },
  {
   "cell_type": "code",
   "execution_count": 58,
   "metadata": {
    "collapsed": false
   },
   "outputs": [
    {
     "data": {
      "text/plain": [
       "[-0.0020639834881324148, 0.0097833682739341121]"
      ]
     },
     "execution_count": 58,
     "metadata": {},
     "output_type": "execute_result"
    }
   ],
   "source": [
    "#Bootstrap\n",
    "prct = ut.med_diff_bootstrap(loans[loans.loan_status == 'Charged Off'].avg_edu,\n",
    "                              loans[loans.loan_status == 'Fully Paid'].avg_edu, 99.5, 0.5)\n",
    "prct\n",
    "#Reliable"
   ]
  },
  {
   "cell_type": "code",
   "execution_count": 59,
   "metadata": {
    "collapsed": false
   },
   "outputs": [
    {
     "data": {
      "text/plain": [
       "loan_status\n",
       "Charged Off    1.006260\n",
       "Fully Paid     1.007403\n",
       "Name: avg_st_loans, dtype: float64"
      ]
     },
     "execution_count": 59,
     "metadata": {},
     "output_type": "execute_result"
    }
   ],
   "source": [
    "#Average amount of student loan deduction\n",
    "st_loans_paid_med = loans[loans.loan_status == 'Fully Paid'].avg_st_loans.median()\n",
    "st_loans_chrg_med = loans[loans.loan_status == 'Charged Off'].avg_st_loans.median()\n",
    "\n",
    "loans.groupby('loan_status').avg_st_loans.median()\n",
    "#So small I'm not even bothering with an effect size or bootstrapping"
   ]
  },
  {
   "cell_type": "code",
   "execution_count": 60,
   "metadata": {
    "collapsed": false
   },
   "outputs": [
    {
     "data": {
      "text/plain": [
       "loan_status\n",
       "Charged Off    0.118132\n",
       "Fully Paid     0.116293\n",
       "Name: prop_SS, dtype: float64"
      ]
     },
     "execution_count": 60,
     "metadata": {},
     "output_type": "execute_result"
    }
   ],
   "source": [
    "#Proportion of SS returns\n",
    "p_SS_paid_med = loans[loans.loan_status == 'Fully Paid'].prop_SS.median()\n",
    "p_SS_chrg_med = loans[loans.loan_status == 'Charged Off'].prop_SS.median()\n",
    "\n",
    "loans.groupby('loan_status').prop_SS.median()"
   ]
  },
  {
   "cell_type": "code",
   "execution_count": 61,
   "metadata": {
    "collapsed": false
   },
   "outputs": [
    {
     "data": {
      "text/plain": [
       "1.015815436690911"
      ]
     },
     "execution_count": 61,
     "metadata": {},
     "output_type": "execute_result"
    }
   ],
   "source": [
    "#Effect size\n",
    "p_SS_chrg_med / p_SS_paid_med\n",
    "#Small effect"
   ]
  },
  {
   "cell_type": "code",
   "execution_count": 62,
   "metadata": {
    "collapsed": false
   },
   "outputs": [
    {
     "data": {
      "text/plain": [
       "[0.00039461880905591884, 0.0024026557863610909]"
      ]
     },
     "execution_count": 62,
     "metadata": {},
     "output_type": "execute_result"
    }
   ],
   "source": [
    "#Bootstrap\n",
    "prct = ut.med_diff_bootstrap(loans[loans.loan_status == 'Charged Off'].prop_SS,\n",
    "                              loans[loans.loan_status == 'Fully Paid'].prop_SS, 99.5, 0.5)\n",
    "prct\n",
    "#Reliable"
   ]
  },
  {
   "cell_type": "code",
   "execution_count": 63,
   "metadata": {
    "collapsed": false
   },
   "outputs": [
    {
     "data": {
      "text/plain": [
       "loan_status\n",
       "Charged Off    0.331080\n",
       "Fully Paid     0.344376\n",
       "Name: prop_itemized, dtype: float64"
      ]
     },
     "execution_count": 63,
     "metadata": {},
     "output_type": "execute_result"
    }
   ],
   "source": [
    "#Proportion of itemized returns\n",
    "p_item_paid_med = loans[loans.loan_status == 'Fully Paid'].prop_itemized.median()\n",
    "p_item_chrg_med = loans[loans.loan_status == 'Charged Off'].prop_itemized.median()\n",
    "\n",
    "loans.groupby('loan_status').prop_itemized.median()"
   ]
  },
  {
   "cell_type": "code",
   "execution_count": 65,
   "metadata": {
    "collapsed": false
   },
   "outputs": [
    {
     "data": {
      "text/plain": [
       "1.0401585808729137"
      ]
     },
     "execution_count": 65,
     "metadata": {},
     "output_type": "execute_result"
    }
   ],
   "source": [
    "#Effect Size\n",
    "p_item_paid_med / p_item_chrg_med\n",
    "#Small effect"
   ]
  },
  {
   "cell_type": "code",
   "execution_count": 66,
   "metadata": {
    "collapsed": false
   },
   "outputs": [
    {
     "data": {
      "text/plain": [
       "[0.010566025880013874, 0.01408084073561694]"
      ]
     },
     "execution_count": 66,
     "metadata": {},
     "output_type": "execute_result"
    }
   ],
   "source": [
    "#Bootstrap\n",
    "prct = ut.med_diff_bootstrap(loans[loans.loan_status == 'Fully Paid'].prop_itemized,\n",
    "                              loans[loans.loan_status == 'Charged Off'].prop_itemized, 99.5, 0.5)\n",
    "prct\n",
    "#Reliable"
   ]
  },
  {
   "cell_type": "code",
   "execution_count": 67,
   "metadata": {
    "collapsed": false
   },
   "outputs": [
    {
     "data": {
      "text/plain": [
       "loan_status\n",
       "Charged Off    0.089548\n",
       "Fully Paid     0.087252\n",
       "Name: prop_unemp, dtype: float64"
      ]
     },
     "execution_count": 67,
     "metadata": {},
     "output_type": "execute_result"
    }
   ],
   "source": [
    "#Proportion of unemployment compensation returns\n",
    "p_item_paid_med = loans[loans.loan_status == 'Fully Paid'].prop_unemp.median()\n",
    "p_item_chrg_med = loans[loans.loan_status == 'Charged Off'].prop_unemp.median()\n",
    "\n",
    "loans.groupby('loan_status').prop_unemp.median()"
   ]
  },
  {
   "cell_type": "code",
   "execution_count": 68,
   "metadata": {
    "collapsed": false
   },
   "outputs": [
    {
     "data": {
      "text/plain": [
       "1.0263089682710886"
      ]
     },
     "execution_count": 68,
     "metadata": {},
     "output_type": "execute_result"
    }
   ],
   "source": [
    "#Effect size\n",
    "p_item_chrg_med / p_item_paid_med\n",
    "#Small effect"
   ]
  },
  {
   "cell_type": "code",
   "execution_count": 69,
   "metadata": {
    "collapsed": false
   },
   "outputs": [
    {
     "data": {
      "text/plain": [
       "[0.00092591159335435325, 0.0035332816514737631]"
      ]
     },
     "execution_count": 69,
     "metadata": {},
     "output_type": "execute_result"
    }
   ],
   "source": [
    "#Bootstrap\n",
    "prct = ut.med_diff_bootstrap(loans[loans.loan_status == 'Charged Off'].prop_unemp,\n",
    "                              loans[loans.loan_status == 'Fully Paid'].prop_unemp, 99.5, 0.5)\n",
    "prct\n",
    "#Reliable"
   ]
  },
  {
   "cell_type": "code",
   "execution_count": 70,
   "metadata": {
    "collapsed": false
   },
   "outputs": [
    {
     "data": {
      "text/plain": [
       "loan_status\n",
       "Charged Off    0.002074\n",
       "Fully Paid     0.002046\n",
       "Name: prop_farm, dtype: float64"
      ]
     },
     "execution_count": 70,
     "metadata": {},
     "output_type": "execute_result"
    }
   ],
   "source": [
    "#Proportion of farm returns\n",
    "p_farm_paid_med = loans[loans.loan_status == 'Fully Paid'].prop_farm.median()\n",
    "p_farm_chrg_med = loans[loans.loan_status == 'Charged Off'].prop_farm.median()\n",
    "\n",
    "loans.groupby('loan_status').prop_farm.median()"
   ]
  },
  {
   "cell_type": "code",
   "execution_count": 71,
   "metadata": {
    "collapsed": false
   },
   "outputs": [
    {
     "data": {
      "text/plain": [
       "1.0138264923382065"
      ]
     },
     "execution_count": 71,
     "metadata": {},
     "output_type": "execute_result"
    }
   ],
   "source": [
    "#Effect size\n",
    "p_farm_chrg_med / p_farm_paid_med\n",
    "#Small effect"
   ]
  },
  {
   "cell_type": "code",
   "execution_count": 72,
   "metadata": {
    "collapsed": false
   },
   "outputs": [
    {
     "data": {
      "text/plain": [
       "[0.0, 0.00014550664520866395]"
      ]
     },
     "execution_count": 72,
     "metadata": {},
     "output_type": "execute_result"
    }
   ],
   "source": [
    "#Bootstrap\n",
    "prct = ut.med_diff_bootstrap(loans[loans.loan_status == 'Charged Off'].prop_farm,\n",
    "                              loans[loans.loan_status == 'Fully Paid'].prop_farm, 99.5, 0.5)\n",
    "prct\n",
    "#Not Reliable"
   ]
  },
  {
   "cell_type": "code",
   "execution_count": 73,
   "metadata": {
    "collapsed": false
   },
   "outputs": [
    {
     "data": {
      "text/plain": [
       "loan_status\n",
       "Charged Off    0.258684\n",
       "Fully Paid     0.262168\n",
       "Name: prop_mort_intr, dtype: float64"
      ]
     },
     "execution_count": 73,
     "metadata": {},
     "output_type": "execute_result"
    }
   ],
   "source": [
    "#Proportion of mortgage interest deduction returns\n",
    "p_mort_intr_paid_med = loans[loans.loan_status == 'Fully Paid'].prop_mort_intr.median()\n",
    "p_mort_intr_chrg_med = loans[loans.loan_status == 'Charged Off'].prop_mort_intr.median()\n",
    "\n",
    "loans.groupby('loan_status').prop_mort_intr.median()"
   ]
  },
  {
   "cell_type": "code",
   "execution_count": 74,
   "metadata": {
    "collapsed": false
   },
   "outputs": [
    {
     "data": {
      "text/plain": [
       "1.013468474089005"
      ]
     },
     "execution_count": 74,
     "metadata": {},
     "output_type": "execute_result"
    }
   ],
   "source": [
    "#Effect size\n",
    "p_mort_intr_paid_med / p_mort_intr_chrg_med\n",
    "#Small effect"
   ]
  },
  {
   "cell_type": "code",
   "execution_count": 75,
   "metadata": {
    "collapsed": false
   },
   "outputs": [
    {
     "data": {
      "text/plain": [
       "[0.0022454538489952158, 0.0056254303365271818]"
      ]
     },
     "execution_count": 75,
     "metadata": {},
     "output_type": "execute_result"
    }
   ],
   "source": [
    "#Bootstrap\n",
    "prct = ut.med_diff_bootstrap(loans[loans.loan_status == 'Fully Paid'].prop_mort_intr,\n",
    "                              loans[loans.loan_status == 'Charged Off'].prop_mort_intr, 99.5, 0.5)\n",
    "prct\n",
    "#Reliable"
   ]
  },
  {
   "cell_type": "code",
   "execution_count": 76,
   "metadata": {
    "collapsed": false
   },
   "outputs": [
    {
     "data": {
      "text/plain": [
       "loan_status\n",
       "Charged Off    0.012223\n",
       "Fully Paid     0.012526\n",
       "Name: prop_edu, dtype: float64"
      ]
     },
     "execution_count": 76,
     "metadata": {},
     "output_type": "execute_result"
    }
   ],
   "source": [
    "#Proportion of returns with an educational credit\n",
    "p_edu_paid_med = loans[loans.loan_status == 'Fully Paid'].prop_edu.median()\n",
    "p_edu_chrg_med = loans[loans.loan_status == 'Charged Off'].prop_edu.median()\n",
    "\n",
    "loans.groupby('loan_status').prop_edu.median()"
   ]
  },
  {
   "cell_type": "code",
   "execution_count": 77,
   "metadata": {
    "collapsed": false
   },
   "outputs": [
    {
     "data": {
      "text/plain": [
       "1.024805230548222"
      ]
     },
     "execution_count": 77,
     "metadata": {},
     "output_type": "execute_result"
    }
   ],
   "source": [
    "#Effect size\n",
    "p_edu_paid_med / p_edu_chrg_med\n",
    "#Small effect"
   ]
  },
  {
   "cell_type": "code",
   "execution_count": 78,
   "metadata": {
    "collapsed": false
   },
   "outputs": [
    {
     "data": {
      "text/plain": [
       "[0.00026288811239375508, 0.0003143476129658547]"
      ]
     },
     "execution_count": 78,
     "metadata": {},
     "output_type": "execute_result"
    }
   ],
   "source": [
    "#Bootstrap\n",
    "prct = ut.med_diff_bootstrap(loans[loans.loan_status == 'Fully Paid'].prop_edu,\n",
    "                              loans[loans.loan_status == 'Charged Off'].prop_edu, 99.5, 0.5)\n",
    "prct\n",
    "#Reliable"
   ]
  },
  {
   "cell_type": "code",
   "execution_count": 79,
   "metadata": {
    "collapsed": false
   },
   "outputs": [
    {
     "data": {
      "text/plain": [
       "loan_status\n",
       "Charged Off    0.075028\n",
       "Fully Paid     0.076177\n",
       "Name: prop_st_loans, dtype: float64"
      ]
     },
     "execution_count": 79,
     "metadata": {},
     "output_type": "execute_result"
    }
   ],
   "source": [
    "#Proportion of returns with student loans\n",
    "p_st_loans_paid_med = loans[loans.loan_status == 'Fully Paid'].prop_st_loans.median()\n",
    "p_st_loans_chrg_med = loans[loans.loan_status == 'Charged Off'].prop_st_loans.median()\n",
    "\n",
    "loans.groupby('loan_status').prop_st_loans.median()"
   ]
  },
  {
   "cell_type": "code",
   "execution_count": 80,
   "metadata": {
    "collapsed": false
   },
   "outputs": [
    {
     "data": {
      "text/plain": [
       "1.0153165678871037"
      ]
     },
     "execution_count": 80,
     "metadata": {},
     "output_type": "execute_result"
    }
   ],
   "source": [
    "#Effect size\n",
    "p_st_loans_paid_med / p_st_loans_chrg_med\n",
    "#Small effect"
   ]
  },
  {
   "cell_type": "code",
   "execution_count": 81,
   "metadata": {
    "collapsed": false
   },
   "outputs": [
    {
     "data": {
      "text/plain": [
       "[0.00052856175342524958, 0.0018996974612559697]"
      ]
     },
     "execution_count": 81,
     "metadata": {},
     "output_type": "execute_result"
    }
   ],
   "source": [
    "#Bootstrap\n",
    "prct = ut.med_diff_bootstrap(loans[loans.loan_status == 'Fully Paid'].prop_st_loans,\n",
    "                              loans[loans.loan_status == 'Charged Off'].prop_st_loans, 99.5, 0.5)\n",
    "prct\n",
    "#Reliable"
   ]
  },
  {
   "cell_type": "markdown",
   "metadata": {},
   "source": [
    "Zipcode Features:\n",
    "Reliable: avg_inc (small effect), avg_SS (very small), avg_itemized (small effect), avg_unemp (very small effect),\n",
    "avg_mort_intr (small effect), prop_SS (small effect), prop_itemized (small effect), prop_unemp (small effect), prop_mort_intr (small effect), prop_edu (small), prop_st_loans (small)\n",
    "\n",
    "\n",
    "Not Reliable: avg_edu, avg_st_loans, prop_farm, "
   ]
  },
  {
   "cell_type": "markdown",
   "metadata": {},
   "source": [
    "Numeric fields that require processing:\n",
    "emp_length, mths_since_last_delinq, mths_since_last_record, revol_util, mths_since_last_major_derog, total_credit_rv"
   ]
  },
  {
   "cell_type": "code",
   "execution_count": 53,
   "metadata": {
    "collapsed": true
   },
   "outputs": [],
   "source": [
    "#emp_length\n",
    "#Create a dictionary to change the year strings into numbers\n",
    "year_dict = {'emp_length':{'10+ years':10, '< 1 year':0, '3 years':3, '9 years':9, '4 years':4, '5 years':5,\n",
    "       '1 year':1, '6 years':6, '2 years':2, '7 years':7, '8 years':8, 'n/a':np.nan}}\n",
    "#Replace the year strings with numbers\n",
    "loans.replace(year_dict, inplace = True)"
   ]
  },
  {
   "cell_type": "code",
   "execution_count": 56,
   "metadata": {
    "collapsed": false
   },
   "outputs": [
    {
     "data": {
      "text/plain": [
       "loan_status\n",
       "Charged Off    5.773641\n",
       "Fully Paid     5.806348\n",
       "Name: emp_length, dtype: float64"
      ]
     },
     "execution_count": 56,
     "metadata": {},
     "output_type": "execute_result"
    }
   ],
   "source": [
    "#employment length\n",
    "emp_paid_mn = loans[loans.loan_status == 'Fully Paid'].emp_length.mean()\n",
    "emp_chrg_mn = loans[loans.loan_status == 'Charged Off'].emp_length.mean()\n",
    "\n",
    "loans.groupby('loan_status').emp_length.mean()"
   ]
  },
  {
   "cell_type": "code",
   "execution_count": 57,
   "metadata": {
    "collapsed": false
   },
   "outputs": [
    {
     "data": {
      "text/plain": [
       "1.0056649621395004"
      ]
     },
     "execution_count": 57,
     "metadata": {},
     "output_type": "execute_result"
    }
   ],
   "source": [
    "#Effect size\n",
    "emp_paid_mn / emp_chrg_mn\n",
    "#Very small effect"
   ]
  },
  {
   "cell_type": "code",
   "execution_count": 58,
   "metadata": {
    "collapsed": false
   },
   "outputs": [
    {
     "data": {
      "text/plain": [
       "[-0.082100414260775412, 0.018788161397101412]"
      ]
     },
     "execution_count": 58,
     "metadata": {},
     "output_type": "execute_result"
    }
   ],
   "source": [
    "#Bootstrap\n",
    "prct = ut.mean_diff_bootstrap(loans[loans.loan_status == 'Charged Off'].emp_length,\n",
    "                              loans[loans.loan_status == 'Fully Paid'].emp_length, 99.5, 0.5)\n",
    "prct\n",
    "#Not reliable"
   ]
  },
  {
   "cell_type": "code",
   "execution_count": null,
   "metadata": {
    "collapsed": true
   },
   "outputs": [],
   "source": []
  },
  {
   "cell_type": "markdown",
   "metadata": {},
   "source": [
    "Numeric fields requiring processing.\n",
    "\n",
    "\n",
    "Not reliable: emp_length"
   ]
  },
  {
   "cell_type": "markdown",
   "metadata": {},
   "source": [
    "Imputation protocol: variables to use for imputation: emp_length, home_ownership, annual_inc, purpose, zip_code, addr_state, dti, delinq_2yrs, earliest_cr_line, inq_last_6mths, open_acc, pub_rec, revol_bal, total_acc, last_credit_pull_d add any zip_code based features, features from NLP on desc variables to impute: mths_since_last_delinq, mths_since_last_record, revol_util, mths_since_last_major_derog, total_credit_rv, acc_now_delinq (before 12/10/15)\n"
   ]
  }
 ],
 "metadata": {
  "kernelspec": {
   "display_name": "Python 2",
   "language": "python",
   "name": "python2"
  },
  "language_info": {
   "codemirror_mode": {
    "name": "ipython",
    "version": 2
   },
   "file_extension": ".py",
   "mimetype": "text/x-python",
   "name": "python",
   "nbconvert_exporter": "python",
   "pygments_lexer": "ipython2",
   "version": "2.7.10"
  }
 },
 "nbformat": 4,
 "nbformat_minor": 0
}
