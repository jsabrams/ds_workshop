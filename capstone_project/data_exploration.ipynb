{
 "cells": [
  {
   "cell_type": "code",
   "execution_count": 1,
   "metadata": {
    "collapsed": false
   },
   "outputs": [
    {
     "name": "stderr",
     "output_type": "stream",
     "text": [
      "/Library/Python/2.7/site-packages/pandas/io/parsers.py:648: ParserWarning: Falling back to the 'python' engine because the 'c' engine does not support skip_footer; you can avoid this warning by specifying engine='python'.\n",
      "  ParserWarning)\n"
     ]
    }
   ],
   "source": [
    "#Import some modules\n",
    "%matplotlib inline\n",
    "import numpy as np\n",
    "import pandas as pd\n",
    "\n",
    "\n",
    "#Load in the data\n",
    "loans = pd.read_csv('LoanStats3a.csv', skiprows = 1, \n",
    "                  parse_dates = ['issue_d', 'earliest_cr_line', 'last_pymnt_d', 'last_credit_pull_d'],\n",
    "                 skipfooter = 2)\n",
    "\n",
    "#df1 = pd.read_csv('LoanStats3a.csv', skiprows = 1, \n",
    "#                  parse_dates = ['issue_d', 'earliest_cr_line', 'last_pymnt_d', 'last_credit_pull_d'],\n",
    "#                 skipfooter = 2)\n",
    "#df2 = pd.read_csv('LoanStats3b.csv', skiprows = 1, \n",
    "#                  parse_dates = ['issue_d', 'earliest_cr_line', 'last_pymnt_d', 'last_credit_pull_d'],\n",
    "#                 skipfooter = 2, infer_datetime_format=True)\n",
    "#df3 = pd.read_csv('LoanStats3c.csv', skiprows = 1, \n",
    "#                  parse_dates = ['issue_d', 'earliest_cr_line', 'last_pymnt_d', 'last_credit_pull_d'],\n",
    "#                 skipfooter = 2, infer_datetime_format=True)\n",
    "#df4 = pd.read_csv('LoanStats3d.csv', skiprows = 1, \n",
    "#                  parse_dates = ['issue_d', 'earliest_cr_line', 'last_pymnt_d', 'last_credit_pull_d'],\n",
    "#                 skipfooter = 2, infer_datetime_format=True)\n",
    "\n",
    "#loans = pd.concat([df1, df2, df3, df4])\n",
    "\n",
    "#del df1\n",
    "#del df2\n",
    "#del df3\n",
    "#del df4"
   ]
  },
  {
   "cell_type": "code",
   "execution_count": 2,
   "metadata": {
    "collapsed": false
   },
   "outputs": [
    {
     "data": {
      "text/plain": [
       "Fully Paid                                             0.753150\n",
       "Charged Off                                            0.130830\n",
       "Current                                                0.048900\n",
       "Does not meet the credit policy. Status:Fully Paid     0.046643\n",
       "Does not meet the credit policy. Status:Charged Off    0.017891\n",
       "Late (31-120 days)                                     0.001552\n",
       "In Grace Period                                        0.000729\n",
       "Late (16-30 days)                                      0.000165\n",
       "Does not meet the credit policy. Status:Current        0.000094\n",
       "Default                                                0.000024\n",
       "dtype: float64"
      ]
     },
     "execution_count": 2,
     "metadata": {},
     "output_type": "execute_result"
    }
   ],
   "source": [
    "#Begin by cleaning up the data a bit\n",
    "#Percentages of the different loan statuses\n",
    "loans.loan_status.value_counts(normalize = True)\n"
   ]
  },
  {
   "cell_type": "code",
   "execution_count": 4,
   "metadata": {
    "collapsed": false
   },
   "outputs": [
    {
     "data": {
      "text/plain": [
       "Fully Paid                                         0.799793\n",
       "Charged Off                                        0.148745\n",
       "Current                                            0.048900\n",
       "Late (31-120 days)                                 0.001552\n",
       "In Grace Period                                    0.000729\n",
       "Late (16-30 days)                                  0.000165\n",
       "Does not meet the credit policy. Status:Current    0.000094\n",
       "dtype: float64"
      ]
     },
     "execution_count": 4,
     "metadata": {},
     "output_type": "execute_result"
    }
   ],
   "source": [
    "loans.replace(to_replace = 'Does not meet the credit policy. Status:Fully Paid', value = 'Fully Paid', inplace = True)\n",
    "loans.replace(to_replace = 'Does not meet the credit policy. Status:Charged Off', value = 'Charged Off', inplace = True)\n",
    "#Assign default to charged off? They seem equivalent from the lenders perspective\n",
    "loans.replace(to_replace = 'Default', value = 'Charged Off', inplace = True)\n",
    "\n",
    "loans.loan_status.value_counts(normalize = True)"
   ]
  },
  {
   "cell_type": "code",
   "execution_count": 5,
   "metadata": {
    "collapsed": true
   },
   "outputs": [],
   "source": [
    "#Filter out everything but 'fully paid' and 'charged off' and plot\n",
    "#We're just going to consider those two categories to simplify the analysis\n",
    "loans = loans[(loans.loan_status == 'Fully Paid') | (loans.loan_status == 'Charged Off')]"
   ]
  },
  {
   "cell_type": "code",
   "execution_count": 16,
   "metadata": {
    "collapsed": false
   },
   "outputs": [
    {
     "data": {
      "text/plain": [
       "Index([u'id', u'member_id', u'loan_amnt', u'funded_amnt', u'funded_amnt_inv',\n",
       "       u'term', u'int_rate', u'installment', u'grade', u'sub_grade',\n",
       "       u'emp_title', u'emp_length', u'home_ownership', u'annual_inc',\n",
       "       u'verification_status', u'issue_d', u'loan_status', u'pymnt_plan',\n",
       "       u'url', u'desc', u'purpose', u'title', u'zip_code', u'addr_state',\n",
       "       u'dti', u'delinq_2yrs', u'earliest_cr_line', u'inq_last_6mths',\n",
       "       u'mths_since_last_delinq', u'mths_since_last_record', u'open_acc',\n",
       "       u'pub_rec', u'revol_bal', u'revol_util', u'total_acc',\n",
       "       u'initial_list_status', u'out_prncp', u'out_prncp_inv', u'total_pymnt',\n",
       "       u'total_pymnt_inv', u'total_rec_prncp', u'total_rec_int',\n",
       "       u'total_rec_late_fee', u'recoveries', u'collection_recovery_fee',\n",
       "       u'last_pymnt_d', u'last_pymnt_amnt', u'next_pymnt_d',\n",
       "       u'last_credit_pull_d', u'collections_12_mths_ex_med',\n",
       "       u'mths_since_last_major_derog', u'policy_code', u'application_type',\n",
       "       u'annual_inc_joint', u'dti_joint', u'verification_status_joint',\n",
       "       u'acc_now_delinq', u'tot_coll_amt', u'tot_cur_bal', u'open_acc_6m',\n",
       "       u'open_il_6m', u'open_il_12m', u'open_il_24m', u'mths_since_rcnt_il',\n",
       "       u'total_bal_il', u'il_util', u'open_rv_12m', u'open_rv_24m',\n",
       "       u'max_bal_bc', u'all_util', u'total_credit_rv', u'inq_fi',\n",
       "       u'total_fi_tl', u'inq_last_12m'],\n",
       "      dtype='object')"
      ]
     },
     "execution_count": 16,
     "metadata": {},
     "output_type": "execute_result"
    }
   ],
   "source": [
    "loans.columns"
   ]
  },
  {
   "cell_type": "code",
   "execution_count": 21,
   "metadata": {
    "collapsed": false
   },
   "outputs": [
    {
     "data": {
      "text/plain": [
       "loan_status\n",
       "Charged Off    53000\n",
       "Fully Paid     60000\n",
       "Name: annual_inc, dtype: float64"
      ]
     },
     "execution_count": 21,
     "metadata": {},
     "output_type": "execute_result"
    }
   ],
   "source": [
    "#Check out the effect of annual income\n",
    "#Get the annual income for the charged off and fully paid categories\n",
    "inc_paid = loans[loans.loan_status == 'Fully Paid'].annual_inc\n",
    "inc_chrg = loans[loans.loan_status == 'Charged Off'].annual_inc\n",
    "\n",
    "#Get the median incomes\n",
    "inc_paid_med = inc_paid.median()\n",
    "inc_chrg_med = inc_chrg.median()\n",
    "\n",
    "loans.groupby('loan_status').annual_inc.median()"
   ]
  },
  {
   "cell_type": "code",
   "execution_count": 22,
   "metadata": {
    "collapsed": false
   },
   "outputs": [
    {
     "data": {
      "text/plain": [
       "1.1320754716981132"
      ]
     },
     "execution_count": 22,
     "metadata": {},
     "output_type": "execute_result"
    }
   ],
   "source": [
    "#Look at the effect size for the incomes\n",
    "inc_paid_med / inc_chrg_med"
   ]
  },
  {
   "cell_type": "code",
   "execution_count": 23,
   "metadata": {
    "collapsed": false
   },
   "outputs": [
    {
     "data": {
      "text/plain": [
       "[5136.4475000000002, 8000.0]"
      ]
     },
     "execution_count": 23,
     "metadata": {},
     "output_type": "execute_result"
    }
   ],
   "source": [
    "#Bootstrap the median incomes for the two categories and see if that effect is significant\n",
    "r = 10000\n",
    "inc_paid_boot = [inc_paid[inc_paid.index[np.random.randint(0,len(inc_paid),len(inc_paid))]].median() for i in range(r)]\n",
    "inc_chrg_boot = [inc_chrg[inc_chrg.index[np.random.randint(0,len(inc_chrg),len(inc_chrg))]].median() for i in range(r)]\n",
    "diff = np.array(inc_paid_boot) - np.array(inc_chrg_boot)\n",
    "prct = np.percentile(diff, [0.5, 99.5])\n",
    "prct"
   ]
  },
  {
   "cell_type": "code",
   "execution_count": 24,
   "metadata": {
    "collapsed": false
   },
   "outputs": [
    {
     "data": {
      "text/plain": [
       "loan_status\n",
       "Charged Off    14.33\n",
       "Fully Paid     13.22\n",
       "Name: dti, dtype: float64"
      ]
     },
     "execution_count": 24,
     "metadata": {},
     "output_type": "execute_result"
    }
   ],
   "source": [
    "#Check out the effect of dti\n",
    "#Get the dti for the charged off and fully paid categories\n",
    "dti_paid = loans[loans.loan_status == 'Fully Paid'].dti\n",
    "dti_chrg = loans[loans.loan_status == 'Charged Off'].dti\n",
    "\n",
    "#Get the median dtis\n",
    "dti_paid_med = dti_paid.median()\n",
    "dti_chrg_med = dti_chrg.median()\n",
    "\n",
    "loans.groupby('loan_status').dti.median()"
   ]
  },
  {
   "cell_type": "code",
   "execution_count": 26,
   "metadata": {
    "collapsed": false
   },
   "outputs": [
    {
     "data": {
      "text/plain": [
       "1.083963691376702"
      ]
     },
     "execution_count": 26,
     "metadata": {},
     "output_type": "execute_result"
    }
   ],
   "source": [
    "#Look at the effect size for the dtis\n",
    "dti_chrg_med / dti_paid_med"
   ]
  },
  {
   "cell_type": "code",
   "execution_count": 28,
   "metadata": {
    "collapsed": false
   },
   "outputs": [
    {
     "data": {
      "text/plain": [
       "[0.76497500000000063, 1.4199999999999999]"
      ]
     },
     "execution_count": 28,
     "metadata": {},
     "output_type": "execute_result"
    }
   ],
   "source": [
    "#Bootstrap the dti for the two categories and see if that effect is significant\n",
    "r = 10000\n",
    "dti_paid_boot = [dti_paid[dti_paid.index[np.random.randint(0,len(dti_paid),len(dti_paid))]].median() for i in range(r)]\n",
    "dti_chrg_boot = [dti_chrg[dti_chrg.index[np.random.randint(0,len(dti_chrg),len(dti_chrg))]].median() for i in range(r)]\n",
    "diff = np.array(dti_chrg_boot) - np.array(dti_paid_boot)\n",
    "prct = np.percentile(diff, [0.5, 99.5])\n",
    "prct"
   ]
  },
  {
   "cell_type": "code",
   "execution_count": 31,
   "metadata": {
    "collapsed": false
   },
   "outputs": [
    {
     "data": {
      "text/plain": [
       "loan_status\n",
       "Charged Off    0.175838\n",
       "Fully Paid     0.148762\n",
       "Name: delinq_2yrs, dtype: float64"
      ]
     },
     "execution_count": 31,
     "metadata": {},
     "output_type": "execute_result"
    }
   ],
   "source": [
    "#Check out the effect of delinquencies in the last two years\n",
    "#Get the number of delinquencies for the charged off and fully paid categories\n",
    "dlq_paid = loans[loans.loan_status == 'Fully Paid'].delinq_2yrs\n",
    "dlq_chrg = loans[loans.loan_status == 'Charged Off'].delinq_2yrs\n",
    "\n",
    "#Get the mean delinquencies\n",
    "dlq_paid_mn = dlq_paid.mean()\n",
    "dlq_chrg_mn = dlq_chrg.mean()\n",
    "\n",
    "loans.groupby('loan_status').delinq_2yrs.mean()"
   ]
  },
  {
   "cell_type": "code",
   "execution_count": 32,
   "metadata": {
    "collapsed": false
   },
   "outputs": [
    {
     "data": {
      "text/plain": [
       "1.1820129711672762"
      ]
     },
     "execution_count": 32,
     "metadata": {},
     "output_type": "execute_result"
    }
   ],
   "source": [
    "#Look at the effect size for the delinquencies\n",
    "dlq_chrg_mn / dlq_paid_mn"
   ]
  },
  {
   "cell_type": "code",
   "execution_count": 37,
   "metadata": {
    "collapsed": false
   },
   "outputs": [
    {
     "data": {
      "text/plain": [
       "[0.0085294559882389907, 0.046512669526453311]"
      ]
     },
     "execution_count": 37,
     "metadata": {},
     "output_type": "execute_result"
    }
   ],
   "source": [
    "#Bootstrap the delinquencies for the two categories and see if that effect is significant\n",
    "r = 10000\n",
    "dlq_paid_boot = [dlq_paid[dlq_paid.index[np.random.randint(0,len(dlq_paid),len(dlq_paid))]].mean() for i in range(r)]\n",
    "dlq_chrg_boot = [dlq_chrg[dlq_chrg.index[np.random.randint(0,len(dlq_chrg),len(dlq_chrg))]].mean() for i in range(r)]\n",
    "diff = np.array(dlq_chrg_boot) - np.array(dlq_paid_boot)\n",
    "prct = np.percentile(diff, [0.5, 99.5])\n",
    "prct"
   ]
  },
  {
   "cell_type": "code",
   "execution_count": 35,
   "metadata": {
    "collapsed": false
   },
   "outputs": [
    {
     "data": {
      "text/plain": [
       "loan_status\n",
       "Charged Off    1.493833\n",
       "Fully Paid     1.022151\n",
       "Name: inq_last_6mths, dtype: float64"
      ]
     },
     "execution_count": 35,
     "metadata": {},
     "output_type": "execute_result"
    }
   ],
   "source": [
    "#Check out the effect of inquiries in the last six months\n",
    "#Get the dti for the charged off and fully paid categories\n",
    "inq_paid = loans[loans.loan_status == 'Fully Paid'].inq_last_6mths\n",
    "inq_chrg = loans[loans.loan_status == 'Charged Off'].inq_last_6mths\n",
    "\n",
    "#Get the mean inquiries\n",
    "inq_paid_mn = inq_paid.mean()\n",
    "inq_chrg_mn = inq_chrg.mean()\n",
    "\n",
    "loans.groupby('loan_status').inq_last_6mths.mean()"
   ]
  },
  {
   "cell_type": "code",
   "execution_count": 36,
   "metadata": {
    "collapsed": false
   },
   "outputs": [
    {
     "data": {
      "text/plain": [
       "1.4614602579371656"
      ]
     },
     "execution_count": 36,
     "metadata": {},
     "output_type": "execute_result"
    }
   ],
   "source": [
    "#Look at the effect size for the inquiries\n",
    "inq_chrg_mn / inq_paid_mn"
   ]
  },
  {
   "cell_type": "code",
   "execution_count": 38,
   "metadata": {
    "collapsed": false
   },
   "outputs": [
    {
     "data": {
      "text/plain": [
       "[0.40614719557108542, 0.53920507414845242]"
      ]
     },
     "execution_count": 38,
     "metadata": {},
     "output_type": "execute_result"
    }
   ],
   "source": [
    "#Bootstrap the inquiries for the two categories and see if that effect is significant\n",
    "r = 10000\n",
    "inq_paid_boot = [inq_paid[inq_paid.index[np.random.randint(0,len(inq_paid),len(inq_paid))]].mean() for i in range(r)]\n",
    "inq_chrg_boot = [inq_chrg[inq_chrg.index[np.random.randint(0,len(inq_chrg),len(inq_chrg))]].mean() for i in range(r)]\n",
    "diff = np.array(inq_chrg_boot) - np.array(inq_paid_boot)\n",
    "prct = np.percentile(diff, [0.5, 99.5])\n",
    "prct"
   ]
  },
  {
   "cell_type": "code",
   "execution_count": null,
   "metadata": {
    "collapsed": true
   },
   "outputs": [],
   "source": []
  },
  {
   "cell_type": "code",
   "execution_count": null,
   "metadata": {
    "collapsed": true
   },
   "outputs": [],
   "source": []
  }
 ],
 "metadata": {
  "kernelspec": {
   "display_name": "Python 2",
   "language": "python",
   "name": "python2"
  },
  "language_info": {
   "codemirror_mode": {
    "name": "ipython",
    "version": 2
   },
   "file_extension": ".py",
   "mimetype": "text/x-python",
   "name": "python",
   "nbconvert_exporter": "python",
   "pygments_lexer": "ipython2",
   "version": "2.7.10"
  }
 },
 "nbformat": 4,
 "nbformat_minor": 0
}
