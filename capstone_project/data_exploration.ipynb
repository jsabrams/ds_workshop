{
 "cells": [
  {
   "cell_type": "code",
   "execution_count": 6,
   "metadata": {
    "collapsed": false
   },
   "outputs": [],
   "source": [
    "#Import some modules\n",
    "%matplotlib inline\n",
    "import numpy as np\n",
    "import pandas as pd\n",
    "import utils as ut\n",
    "\n",
    "\n",
    "#Load in the data\n",
    "loans = pd.read_csv('LoanStats3a.csv', skiprows = 1, \n",
    "                  parse_dates = ['issue_d', 'earliest_cr_line', 'last_pymnt_d', 'last_credit_pull_d'],\n",
    "                 skipfooter = 2)\n",
    "\n",
    "#df1 = pd.read_csv('LoanStats3a.csv', skiprows = 1, \n",
    "#                  parse_dates = ['issue_d', 'earliest_cr_line', 'last_pymnt_d', 'last_credit_pull_d'],\n",
    "#                 skipfooter = 2)\n",
    "#df2 = pd.read_csv('LoanStats3b.csv', skiprows = 1, \n",
    "#                  parse_dates = ['issue_d', 'earliest_cr_line', 'last_pymnt_d', 'last_credit_pull_d'],\n",
    "#                 skipfooter = 2, infer_datetime_format=True)\n",
    "#df3 = pd.read_csv('LoanStats3c.csv', skiprows = 1, \n",
    "#                  parse_dates = ['issue_d', 'earliest_cr_line', 'last_pymnt_d', 'last_credit_pull_d'],\n",
    "#                 skipfooter = 2, infer_datetime_format=True)\n",
    "#df4 = pd.read_csv('LoanStats3d.csv', skiprows = 1, \n",
    "#                  parse_dates = ['issue_d', 'earliest_cr_line', 'last_pymnt_d', 'last_credit_pull_d'],\n",
    "#                 skipfooter = 2, infer_datetime_format=True)\n",
    "\n",
    "#loans = pd.concat([df1, df2, df3, df4])\n",
    "\n",
    "#del df1\n",
    "#del df2\n",
    "#del df3\n",
    "#del df4"
   ]
  },
  {
   "cell_type": "code",
   "execution_count": 7,
   "metadata": {
    "collapsed": false
   },
   "outputs": [
    {
     "data": {
      "text/plain": [
       "Fully Paid                                             0.753150\n",
       "Charged Off                                            0.130830\n",
       "Current                                                0.048900\n",
       "Does not meet the credit policy. Status:Fully Paid     0.046643\n",
       "Does not meet the credit policy. Status:Charged Off    0.017891\n",
       "Late (31-120 days)                                     0.001552\n",
       "In Grace Period                                        0.000729\n",
       "Late (16-30 days)                                      0.000165\n",
       "Does not meet the credit policy. Status:Current        0.000094\n",
       "Default                                                0.000024\n",
       "dtype: float64"
      ]
     },
     "execution_count": 7,
     "metadata": {},
     "output_type": "execute_result"
    }
   ],
   "source": [
    "#Begin by cleaning up the data a bit\n",
    "#Percentages of the different loan statuses\n",
    "loans.loan_status.value_counts(normalize = True)\n"
   ]
  },
  {
   "cell_type": "code",
   "execution_count": 8,
   "metadata": {
    "collapsed": false
   },
   "outputs": [
    {
     "data": {
      "text/plain": [
       "Fully Paid                                         0.799793\n",
       "Charged Off                                        0.148745\n",
       "Current                                            0.048900\n",
       "Late (31-120 days)                                 0.001552\n",
       "In Grace Period                                    0.000729\n",
       "Late (16-30 days)                                  0.000165\n",
       "Does not meet the credit policy. Status:Current    0.000094\n",
       "dtype: float64"
      ]
     },
     "execution_count": 8,
     "metadata": {},
     "output_type": "execute_result"
    }
   ],
   "source": [
    "loans.replace(to_replace = 'Does not meet the credit policy. Status:Fully Paid', value = 'Fully Paid', inplace = True)\n",
    "loans.replace(to_replace = 'Does not meet the credit policy. Status:Charged Off', value = 'Charged Off', inplace = True)\n",
    "#Assign default to charged off? They seem equivalent from the lenders perspective\n",
    "loans.replace(to_replace = 'Default', value = 'Charged Off', inplace = True)\n",
    "\n",
    "loans.loan_status.value_counts(normalize = True)"
   ]
  },
  {
   "cell_type": "code",
   "execution_count": 9,
   "metadata": {
    "collapsed": true
   },
   "outputs": [],
   "source": [
    "#Filter out everything but 'fully paid' and 'charged off' and plot\n",
    "#We're just going to consider those two categories to simplify the analysis\n",
    "loans = loans[(loans.loan_status == 'Fully Paid') | (loans.loan_status == 'Charged Off')]"
   ]
  },
  {
   "cell_type": "code",
   "execution_count": 10,
   "metadata": {
    "collapsed": false
   },
   "outputs": [
    {
     "data": {
      "text/plain": [
       "Index([u'id', u'member_id', u'loan_amnt', u'funded_amnt', u'funded_amnt_inv',\n",
       "       u'term', u'int_rate', u'installment', u'grade', u'sub_grade',\n",
       "       u'emp_title', u'emp_length', u'home_ownership', u'annual_inc',\n",
       "       u'verification_status', u'issue_d', u'loan_status', u'pymnt_plan',\n",
       "       u'url', u'desc', u'purpose', u'title', u'zip_code', u'addr_state',\n",
       "       u'dti', u'delinq_2yrs', u'earliest_cr_line', u'inq_last_6mths',\n",
       "       u'mths_since_last_delinq', u'mths_since_last_record', u'open_acc',\n",
       "       u'pub_rec', u'revol_bal', u'revol_util', u'total_acc',\n",
       "       u'initial_list_status', u'out_prncp', u'out_prncp_inv', u'total_pymnt',\n",
       "       u'total_pymnt_inv', u'total_rec_prncp', u'total_rec_int',\n",
       "       u'total_rec_late_fee', u'recoveries', u'collection_recovery_fee',\n",
       "       u'last_pymnt_d', u'last_pymnt_amnt', u'next_pymnt_d',\n",
       "       u'last_credit_pull_d', u'collections_12_mths_ex_med',\n",
       "       u'mths_since_last_major_derog', u'policy_code', u'application_type',\n",
       "       u'annual_inc_joint', u'dti_joint', u'verification_status_joint',\n",
       "       u'acc_now_delinq', u'tot_coll_amt', u'tot_cur_bal', u'open_acc_6m',\n",
       "       u'open_il_6m', u'open_il_12m', u'open_il_24m', u'mths_since_rcnt_il',\n",
       "       u'total_bal_il', u'il_util', u'open_rv_12m', u'open_rv_24m',\n",
       "       u'max_bal_bc', u'all_util', u'total_credit_rv', u'inq_fi',\n",
       "       u'total_fi_tl', u'inq_last_12m'],\n",
       "      dtype='object')"
      ]
     },
     "execution_count": 10,
     "metadata": {},
     "output_type": "execute_result"
    }
   ],
   "source": [
    "loans.columns"
   ]
  },
  {
   "cell_type": "markdown",
   "metadata": {},
   "source": [
    "Inferential statistics on the various features of this data set. Begin with the numeric fields that have little to no missing data and do not require any processing."
   ]
  },
  {
   "cell_type": "code",
   "execution_count": 11,
   "metadata": {
    "collapsed": false
   },
   "outputs": [
    {
     "data": {
      "text/plain": [
       "loan_status\n",
       "Charged Off    53000\n",
       "Fully Paid     60000\n",
       "Name: annual_inc, dtype: float64"
      ]
     },
     "execution_count": 11,
     "metadata": {},
     "output_type": "execute_result"
    }
   ],
   "source": [
    "#Check out the effect of annual income\n",
    "#Get the annual income for the charged off and fully paid categories\n",
    "inc_paid = loans[loans.loan_status == 'Fully Paid'].annual_inc\n",
    "inc_chrg = loans[loans.loan_status == 'Charged Off'].annual_inc\n",
    "\n",
    "#Get the median incomes\n",
    "inc_paid_med = inc_paid.median()\n",
    "inc_chrg_med = inc_chrg.median()\n",
    "\n",
    "loans.groupby('loan_status').annual_inc.median()"
   ]
  },
  {
   "cell_type": "code",
   "execution_count": 12,
   "metadata": {
    "collapsed": false
   },
   "outputs": [
    {
     "data": {
      "text/plain": [
       "1.1320754716981132"
      ]
     },
     "execution_count": 12,
     "metadata": {},
     "output_type": "execute_result"
    }
   ],
   "source": [
    "#Look at the effect size for the incomes\n",
    "inc_paid_med / inc_chrg_med\n",
    "#Modest effect size"
   ]
  },
  {
   "cell_type": "code",
   "execution_count": 13,
   "metadata": {
    "collapsed": false
   },
   "outputs": [
    {
     "data": {
      "text/plain": [
       "[5336.4275999999954, 8000.0]"
      ]
     },
     "execution_count": 13,
     "metadata": {},
     "output_type": "execute_result"
    }
   ],
   "source": [
    "#Bootstrap the median incomes for the two categories and see if that effect is significant\n",
    "prct = ut.med_diff_bootstrap(inc_paid, inc_chrg, 99.5, 0.5)\n",
    "prct\n",
    "#Reliable"
   ]
  },
  {
   "cell_type": "code",
   "execution_count": 14,
   "metadata": {
    "collapsed": false
   },
   "outputs": [
    {
     "data": {
      "text/plain": [
       "loan_status\n",
       "Charged Off    14.33\n",
       "Fully Paid     13.22\n",
       "Name: dti, dtype: float64"
      ]
     },
     "execution_count": 14,
     "metadata": {},
     "output_type": "execute_result"
    }
   ],
   "source": [
    "#Check out the effect of dti\n",
    "#Get the dti for the charged off and fully paid categories\n",
    "dti_paid = loans[loans.loan_status == 'Fully Paid'].dti\n",
    "dti_chrg = loans[loans.loan_status == 'Charged Off'].dti\n",
    "\n",
    "#Get the median dtis\n",
    "dti_paid_med = dti_paid.median()\n",
    "dti_chrg_med = dti_chrg.median()\n",
    "\n",
    "loans.groupby('loan_status').dti.median() "
   ]
  },
  {
   "cell_type": "code",
   "execution_count": 15,
   "metadata": {
    "collapsed": false
   },
   "outputs": [
    {
     "data": {
      "text/plain": [
       "1.083963691376702"
      ]
     },
     "execution_count": 15,
     "metadata": {},
     "output_type": "execute_result"
    }
   ],
   "source": [
    "#Look at the effect size for the dtis\n",
    "dti_chrg_med / dti_paid_med\n",
    "#Modest effect size"
   ]
  },
  {
   "cell_type": "code",
   "execution_count": 16,
   "metadata": {
    "collapsed": false
   },
   "outputs": [
    {
     "data": {
      "text/plain": [
       "[0.76497499999999885, 1.4199999999999999]"
      ]
     },
     "execution_count": 16,
     "metadata": {},
     "output_type": "execute_result"
    }
   ],
   "source": [
    "#Bootstrap the dti for the two categories and see if that effect is significant\n",
    "prct = ut.med_diff_bootstrap(dti_chrg, dti_paid, 99.5, 0.5)\n",
    "prct\n",
    "#Reliable"
   ]
  },
  {
   "cell_type": "code",
   "execution_count": 17,
   "metadata": {
    "collapsed": false
   },
   "outputs": [
    {
     "data": {
      "text/plain": [
       "loan_status\n",
       "Charged Off    0.175838\n",
       "Fully Paid     0.148762\n",
       "Name: delinq_2yrs, dtype: float64"
      ]
     },
     "execution_count": 17,
     "metadata": {},
     "output_type": "execute_result"
    }
   ],
   "source": [
    "#Check out the effect of delinquencies in the last two years\n",
    "#Get the number of delinquencies for the charged off and fully paid categories\n",
    "dlq_paid = loans[loans.loan_status == 'Fully Paid'].delinq_2yrs\n",
    "dlq_chrg = loans[loans.loan_status == 'Charged Off'].delinq_2yrs\n",
    "\n",
    "#Get the mean delinquencies\n",
    "dlq_paid_mn = dlq_paid.mean()\n",
    "dlq_chrg_mn = dlq_chrg.mean()\n",
    "\n",
    "loans.groupby('loan_status').delinq_2yrs.mean() "
   ]
  },
  {
   "cell_type": "code",
   "execution_count": 18,
   "metadata": {
    "collapsed": false
   },
   "outputs": [
    {
     "data": {
      "text/plain": [
       "1.1820129711672762"
      ]
     },
     "execution_count": 18,
     "metadata": {},
     "output_type": "execute_result"
    }
   ],
   "source": [
    "#Look at the effect size for the delinquencies\n",
    "dlq_chrg_mn / dlq_paid_mn\n",
    "#Moderate effect size"
   ]
  },
  {
   "cell_type": "code",
   "execution_count": 19,
   "metadata": {
    "collapsed": false
   },
   "outputs": [
    {
     "data": {
      "text/plain": [
       "[0.0080716763949312681, 0.046258959640160108]"
      ]
     },
     "execution_count": 19,
     "metadata": {},
     "output_type": "execute_result"
    }
   ],
   "source": [
    "#Bootstrap the delinquencies for the two categories and see if that effect is significant\n",
    "prct = ut.mean_diff_bootstrap(dlq_chrg, dlq_paid, 99.5, 0.5)\n",
    "prct\n",
    "#Reliable"
   ]
  },
  {
   "cell_type": "code",
   "execution_count": 20,
   "metadata": {
    "collapsed": false
   },
   "outputs": [
    {
     "data": {
      "text/plain": [
       "loan_status\n",
       "Charged Off    1.493833\n",
       "Fully Paid     1.022151\n",
       "Name: inq_last_6mths, dtype: float64"
      ]
     },
     "execution_count": 20,
     "metadata": {},
     "output_type": "execute_result"
    }
   ],
   "source": [
    "#Check out the effect of inquiries in the last six months\n",
    "#Get the inquiries for the charged off and fully paid categories\n",
    "inq_paid = loans[loans.loan_status == 'Fully Paid'].inq_last_6mths\n",
    "inq_chrg = loans[loans.loan_status == 'Charged Off'].inq_last_6mths\n",
    "\n",
    "#Get the mean inquiries\n",
    "inq_paid_mn = inq_paid.mean()\n",
    "inq_chrg_mn = inq_chrg.mean()\n",
    "\n",
    "loans.groupby('loan_status').inq_last_6mths.mean() "
   ]
  },
  {
   "cell_type": "code",
   "execution_count": 21,
   "metadata": {
    "collapsed": false
   },
   "outputs": [
    {
     "data": {
      "text/plain": [
       "1.4614602579371656"
      ]
     },
     "execution_count": 21,
     "metadata": {},
     "output_type": "execute_result"
    }
   ],
   "source": [
    "#Look at the effect size for the inquiries\n",
    "inq_chrg_mn / inq_paid_mn\n",
    "#Big effect"
   ]
  },
  {
   "cell_type": "code",
   "execution_count": 22,
   "metadata": {
    "collapsed": false
   },
   "outputs": [
    {
     "data": {
      "text/plain": [
       "[0.4058066120894856, 0.53957746454902555]"
      ]
     },
     "execution_count": 22,
     "metadata": {},
     "output_type": "execute_result"
    }
   ],
   "source": [
    "#Bootstrap the inquiries for the two categories and see if that effect is significant\n",
    "prct = ut.mean_diff_bootstrap(inq_chrg, inq_paid, 99.5, 0.5)\n",
    "prct\n",
    "#Reliable"
   ]
  },
  {
   "cell_type": "code",
   "execution_count": 24,
   "metadata": {
    "collapsed": false
   },
   "outputs": [
    {
     "data": {
      "text/plain": [
       "loan_status\n",
       "Charged Off    9.273877\n",
       "Fully Paid     9.334706\n",
       "Name: open_acc, dtype: float64"
      ]
     },
     "execution_count": 24,
     "metadata": {},
     "output_type": "execute_result"
    }
   ],
   "source": [
    "#Check out the effect of number of open accounts\n",
    "#Get the number of open accounts for the charged off and fully paid categories\n",
    "opn_paid = loans[loans.loan_status == 'Fully Paid'].open_acc\n",
    "opn_chrg = loans[loans.loan_status == 'Charged Off'].open_acc\n",
    "\n",
    "#Get the mean number of accounts\n",
    "opn_paid_mn = opn_paid.mean()\n",
    "opn_chrg_mn = opn_chrg.mean()\n",
    "\n",
    "loans.groupby('loan_status').open_acc.mean()"
   ]
  },
  {
   "cell_type": "code",
   "execution_count": 26,
   "metadata": {
    "collapsed": false
   },
   "outputs": [
    {
     "data": {
      "text/plain": [
       "1.0065591585737803"
      ]
     },
     "execution_count": 26,
     "metadata": {},
     "output_type": "execute_result"
    }
   ],
   "source": [
    "#Look at the effect size for the number of open accounts\n",
    "opn_paid_mn / opn_chrg_mn\n",
    "#Practically no effect, bootstrap just to be sure"
   ]
  },
  {
   "cell_type": "code",
   "execution_count": 27,
   "metadata": {
    "collapsed": false
   },
   "outputs": [
    {
     "data": {
      "text/plain": [
       "[-0.099661985993591953, 0.21901887695575831]"
      ]
     },
     "execution_count": 27,
     "metadata": {},
     "output_type": "execute_result"
    }
   ],
   "source": [
    "#Bootstrap the open accounts for the two categories and see if that effect is significant\n",
    "prct = ut.mean_diff_bootstrap(opn_paid, opn_chrg, 99.5, 0.5)\n",
    "prct\n",
    "#Definitely no effect"
   ]
  },
  {
   "cell_type": "code",
   "execution_count": 28,
   "metadata": {
    "collapsed": false
   },
   "outputs": [
    {
     "data": {
      "text/plain": [
       "loan_status\n",
       "Charged Off    0.089026\n",
       "Fully Paid     0.052892\n",
       "Name: pub_rec, dtype: float64"
      ]
     },
     "execution_count": 28,
     "metadata": {},
     "output_type": "execute_result"
    }
   ],
   "source": [
    "#Check out the effect of number of derogatory public records\n",
    "#Get the number of public records for the charged off and fully paid categories\n",
    "pub_paid = loans[loans.loan_status == 'Fully Paid'].pub_rec\n",
    "pub_chrg = loans[loans.loan_status == 'Charged Off'].pub_rec\n",
    "\n",
    "#Get the mean number of derogatory public records\n",
    "pub_paid_mn = pub_paid.mean()\n",
    "pub_chrg_mn = pub_chrg.mean()\n",
    "\n",
    "loans.groupby('loan_status').pub_rec.mean()\n",
    "\n",
    "#Very few derogatory public records out there "
   ]
  },
  {
   "cell_type": "code",
   "execution_count": 29,
   "metadata": {
    "collapsed": false
   },
   "outputs": [
    {
     "data": {
      "text/plain": [
       "1.6831743964585009"
      ]
     },
     "execution_count": 29,
     "metadata": {},
     "output_type": "execute_result"
    }
   ],
   "source": [
    "#Look at the effect size for the number of derogatory public records\n",
    "pub_chrg_mn / pub_paid_mn\n",
    "#Public records are rare, but the effect seems to be large"
   ]
  },
  {
   "cell_type": "code",
   "execution_count": 31,
   "metadata": {
    "collapsed": false
   },
   "outputs": [
    {
     "data": {
      "text/plain": [
       "[0.026273587764811382, 0.046282762427432088]"
      ]
     },
     "execution_count": 31,
     "metadata": {},
     "output_type": "execute_result"
    }
   ],
   "source": [
    "#Bootstrap the public records for the two categories and see if that effect is significant\n",
    "prct = ut.mean_diff_bootstrap(pub_chrg, pub_paid, 99.5, 0.5)\n",
    "prct\n",
    "#It's also a reliable effect"
   ]
  },
  {
   "cell_type": "code",
   "execution_count": 37,
   "metadata": {
    "collapsed": false
   },
   "outputs": [
    {
     "data": {
      "text/plain": [
       "loan_status\n",
       "Charged Off    9026.0\n",
       "Fully Paid     8636.5\n",
       "Name: revol_bal, dtype: float64"
      ]
     },
     "execution_count": 37,
     "metadata": {},
     "output_type": "execute_result"
    }
   ],
   "source": [
    "#Check out the effect of revolving balance\n",
    "#Get the revolving balance for the charged off and fully paid categories\n",
    "rev_bal_paid = loans[loans.loan_status == 'Fully Paid'].revol_bal\n",
    "rev_bal_chrg = loans[loans.loan_status == 'Charged Off'].revol_bal\n",
    "\n",
    "#Get the median revolving balance \n",
    "rev_bal_paid_med = rev_bal_paid.median()\n",
    "rev_bal_chrg_med = rev_bal_chrg.median()\n",
    "\n",
    "loans.groupby('loan_status').revol_bal.median()"
   ]
  },
  {
   "cell_type": "code",
   "execution_count": 38,
   "metadata": {
    "collapsed": false
   },
   "outputs": [
    {
     "data": {
      "text/plain": [
       "1.0450992879059804"
      ]
     },
     "execution_count": 38,
     "metadata": {},
     "output_type": "execute_result"
    }
   ],
   "source": [
    "#Effect size\n",
    "rev_bal_chrg_med / rev_bal_paid_med\n",
    "#Small effect"
   ]
  },
  {
   "cell_type": "code",
   "execution_count": 39,
   "metadata": {
    "collapsed": false
   },
   "outputs": [
    {
     "data": {
      "text/plain": [
       "[-12.004999999999995, 863.0199999999968]"
      ]
     },
     "execution_count": 39,
     "metadata": {},
     "output_type": "execute_result"
    }
   ],
   "source": [
    "#Bootstrap\n",
    "prct = ut.med_diff_bootstrap(rev_bal_chrg, rev_bal_paid, 99.5, 0.5)\n",
    "prct\n",
    "#Not reliable"
   ]
  },
  {
   "cell_type": "code",
   "execution_count": 41,
   "metadata": {
    "collapsed": false
   },
   "outputs": [
    {
     "data": {
      "text/plain": [
       "loan_status\n",
       "Charged Off    21.503637\n",
       "Fully Paid     22.186356\n",
       "Name: total_acc, dtype: float64"
      ]
     },
     "execution_count": 41,
     "metadata": {},
     "output_type": "execute_result"
    }
   ],
   "source": [
    "#Total number of accounts\n",
    "tot_acc_paid = loans[loans.loan_status == 'Fully Paid'].total_acc\n",
    "tot_acc_chrg = loans[loans.loan_status == 'Charged Off'].total_acc\n",
    "\n",
    "tot_acc_paid_mn = tot_acc_paid.mean()\n",
    "tot_acc_chrg_mn = tot_acc_chrg.mean()\n",
    "\n",
    "loans.groupby('loan_status').total_acc.mean() "
   ]
  },
  {
   "cell_type": "code",
   "execution_count": 42,
   "metadata": {
    "collapsed": false
   },
   "outputs": [
    {
     "data": {
      "text/plain": [
       "1.0317490236251465"
      ]
     },
     "execution_count": 42,
     "metadata": {},
     "output_type": "execute_result"
    }
   ],
   "source": [
    "#Effect size\n",
    "tot_acc_paid_mn  / tot_acc_chrg_mn \n",
    "#Small effect"
   ]
  },
  {
   "cell_type": "code",
   "execution_count": 43,
   "metadata": {
    "collapsed": false
   },
   "outputs": [
    {
     "data": {
      "text/plain": [
       "[0.24742419353047915, 1.0967098645985496]"
      ]
     },
     "execution_count": 43,
     "metadata": {},
     "output_type": "execute_result"
    }
   ],
   "source": [
    "#Bootstrap\n",
    "prct = ut.mean_diff_bootstrap(tot_acc_paid, tot_acc_chrg, 99.5, 0.5)\n",
    "prct\n",
    "#Seems to be reliable, but not a very big effect"
   ]
  },
  {
   "cell_type": "code",
   "execution_count": 46,
   "metadata": {
    "collapsed": false
   },
   "outputs": [
    {
     "data": {
      "text/plain": [
       "loan_status\n",
       "Charged Off    0\n",
       "Fully Paid     0\n",
       "Name: collections_12_mths_ex_med, dtype: float64"
      ]
     },
     "execution_count": 46,
     "metadata": {},
     "output_type": "execute_result"
    }
   ],
   "source": [
    "#Collections in the last 12 months excluding medical collections\n",
    "col_paid = loans[loans.loan_status == 'Fully Paid'].collections_12_mths_ex_med\n",
    "col_chrg = loans[loans.loan_status == 'Charged Off'].collections_12_mths_ex_med\n",
    "\n",
    "col_paid_mn = col_paid.mean()\n",
    "col_chrg_mn = col_chrg.mean()\n",
    "\n",
    "loans.groupby('loan_status').collections_12_mths_ex_med.mean()\n",
    "\n",
    "#Field seems to be empty"
   ]
  },
  {
   "cell_type": "code",
   "execution_count": 47,
   "metadata": {
    "collapsed": false
   },
   "outputs": [
    {
     "data": {
      "text/plain": [
       "loan_status\n",
       "Charged Off    0.000000\n",
       "Fully Paid     0.000118\n",
       "Name: acc_now_delinq, dtype: float64"
      ]
     },
     "execution_count": 47,
     "metadata": {},
     "output_type": "execute_result"
    }
   ],
   "source": [
    "#Number of accounts now delinquent\n",
    "dlq_acc_paid = loans[loans.loan_status == 'Fully Paid'].acc_now_delinq\n",
    "dlq_acc_chrg = loans[loans.loan_status == 'Charged Off'].acc_now_delinq\n",
    "\n",
    "dlq_acc_paid_mn = dlq_acc_paid.mean()\n",
    "dlq_acc_chrg_mn = dlq_acc_chrg.mean()\n",
    "\n",
    "loans.groupby('loan_status').acc_now_delinq.mean()\n",
    "#Seems absurdly rare, too rare to be that useful"
   ]
  },
  {
   "cell_type": "code",
   "execution_count": 49,
   "metadata": {
    "collapsed": false
   },
   "outputs": [
    {
     "data": {
      "text/plain": [
       "[0.0, 0.0002941522964703062]"
      ]
     },
     "execution_count": 49,
     "metadata": {},
     "output_type": "execute_result"
    }
   ],
   "source": [
    "#Effect size, too rare, meaningless\n",
    "#Bootstrap\n",
    "prct = ut.mean_diff_bootstrap(dlq_acc_paid, dlq_acc_chrg, 99.5, 0.5)\n",
    "prct\n",
    "#Also not reliable"
   ]
  },
  {
   "cell_type": "raw",
   "metadata": {},
   "source": [
    "For the simple numeric fields, the following features have reliable relationships with the default rate:\n",
    "annual_inc, dti, delinq_2yrs, inq_last_6mths, pub_rec, total_acc\n",
    "total_acc has a very small, but reliable effect\n",
    "pub_rec is usually a very low number, but has a very large effect size\n",
    "inq_last_6mths and dti have large effect sizes too\n",
    "\n",
    "The following features have no reliable relationship with the default rate:\n",
    "open_acc, revol_bal, collections_12_mths_ex_med, acc_now_delinq\n",
    "acc_now_delinq seems too rare to be useful\n",
    "collections_12_mths_ex_med seems like it might actually be empty"
   ]
  }
 ],
 "metadata": {
  "kernelspec": {
   "display_name": "Python 2",
   "language": "python",
   "name": "python2"
  },
  "language_info": {
   "codemirror_mode": {
    "name": "ipython",
    "version": 2
   },
   "file_extension": ".py",
   "mimetype": "text/x-python",
   "name": "python",
   "nbconvert_exporter": "python",
   "pygments_lexer": "ipython2",
   "version": "2.7.10"
  }
 },
 "nbformat": 4,
 "nbformat_minor": 0
}
