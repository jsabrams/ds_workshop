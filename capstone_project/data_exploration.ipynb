{
 "cells": [
  {
   "cell_type": "code",
   "execution_count": 12,
   "metadata": {
    "collapsed": false
   },
   "outputs": [],
   "source": [
    "#Import some modules\n",
    "%matplotlib inline\n",
    "import numpy as np\n",
    "import pandas as pd\n",
    "import utils as ut\n",
    "\n",
    "\n",
    "#Load in the data\n",
    "#loans = pd.read_csv('LoanStats3a.csv', skiprows = 1, \n",
    "#                  parse_dates = ['issue_d', 'earliest_cr_line', 'last_pymnt_d', 'last_credit_pull_d'],\n",
    "#                 skipfooter = 2)\n",
    "\n",
    "df1 = pd.read_csv('LoanStats3a.csv', skiprows = 1, \n",
    "                  parse_dates = ['issue_d', 'earliest_cr_line', 'last_pymnt_d', 'last_credit_pull_d'],\n",
    "                 skipfooter = 2)\n",
    "df2 = pd.read_csv('LoanStats3b.csv', skiprows = 1, \n",
    "                  parse_dates = ['issue_d', 'earliest_cr_line', 'last_pymnt_d', 'last_credit_pull_d'],\n",
    "                 skipfooter = 2, infer_datetime_format=True)\n",
    "df3 = pd.read_csv('LoanStats3c.csv', skiprows = 1, \n",
    "                  parse_dates = ['issue_d', 'earliest_cr_line', 'last_pymnt_d', 'last_credit_pull_d'],\n",
    "                 skipfooter = 2, infer_datetime_format=True)\n",
    "df4 = pd.read_csv('LoanStats3d.csv', skiprows = 1, \n",
    "                  parse_dates = ['issue_d', 'earliest_cr_line', 'last_pymnt_d', 'last_credit_pull_d'],\n",
    "                 skipfooter = 2, infer_datetime_format=True)\n",
    "\n",
    "loans = pd.concat([df1, df2, df3, df4], ignore_index = True)\n",
    "\n",
    "del df1\n",
    "del df2\n",
    "del df3\n",
    "del df4"
   ]
  },
  {
   "cell_type": "code",
   "execution_count": 13,
   "metadata": {
    "collapsed": false
   },
   "outputs": [
    {
     "data": {
      "text/plain": [
       "Current                                                0.652293\n",
       "Fully Paid                                             0.261470\n",
       "Charged Off                                            0.057966\n",
       "Late (31-120 days)                                     0.014763\n",
       "In Grace Period                                        0.006518\n",
       "Late (16-30 days)                                      0.002723\n",
       "Does not meet the credit policy. Status:Fully Paid     0.002621\n",
       "Does not meet the credit policy. Status:Charged Off    0.001005\n",
       "Default                                                0.000634\n",
       "Does not meet the credit policy. Status:Current        0.000005\n",
       "dtype: float64"
      ]
     },
     "execution_count": 13,
     "metadata": {},
     "output_type": "execute_result"
    }
   ],
   "source": [
    "#Begin by cleaning up the data a bit\n",
    "#Percentages of the different loan statuses\n",
    "loans.loan_status.value_counts(normalize = True)\n"
   ]
  },
  {
   "cell_type": "code",
   "execution_count": 14,
   "metadata": {
    "collapsed": false
   },
   "outputs": [
    {
     "data": {
      "text/plain": [
       "Current                                            0.652293\n",
       "Fully Paid                                         0.264091\n",
       "Charged Off                                        0.059605\n",
       "Late (31-120 days)                                 0.014763\n",
       "In Grace Period                                    0.006518\n",
       "Late (16-30 days)                                  0.002723\n",
       "Does not meet the credit policy. Status:Current    0.000005\n",
       "dtype: float64"
      ]
     },
     "execution_count": 14,
     "metadata": {},
     "output_type": "execute_result"
    }
   ],
   "source": [
    "loans.replace(to_replace = 'Does not meet the credit policy. Status:Fully Paid', value = 'Fully Paid', inplace = True)\n",
    "loans.replace(to_replace = 'Does not meet the credit policy. Status:Charged Off', value = 'Charged Off', inplace = True)\n",
    "#Assign default to charged off? They seem equivalent from the lenders perspective\n",
    "loans.replace(to_replace = 'Default', value = 'Charged Off', inplace = True)\n",
    "\n",
    "loans.loan_status.value_counts(normalize = True)"
   ]
  },
  {
   "cell_type": "code",
   "execution_count": 15,
   "metadata": {
    "collapsed": true
   },
   "outputs": [],
   "source": [
    "#Filter out everything but 'fully paid' and 'charged off' and plot\n",
    "#We're just going to consider those two categories to simplify the analysis\n",
    "loans = loans[(loans.loan_status == 'Fully Paid') | (loans.loan_status == 'Charged Off')]"
   ]
  },
  {
   "cell_type": "code",
   "execution_count": 16,
   "metadata": {
    "collapsed": false
   },
   "outputs": [
    {
     "data": {
      "text/plain": [
       "Index([u'id', u'member_id', u'loan_amnt', u'funded_amnt', u'funded_amnt_inv',\n",
       "       u'term', u'int_rate', u'installment', u'grade', u'sub_grade',\n",
       "       u'emp_title', u'emp_length', u'home_ownership', u'annual_inc',\n",
       "       u'verification_status', u'issue_d', u'loan_status', u'pymnt_plan',\n",
       "       u'url', u'desc', u'purpose', u'title', u'zip_code', u'addr_state',\n",
       "       u'dti', u'delinq_2yrs', u'earliest_cr_line', u'inq_last_6mths',\n",
       "       u'mths_since_last_delinq', u'mths_since_last_record', u'open_acc',\n",
       "       u'pub_rec', u'revol_bal', u'revol_util', u'total_acc',\n",
       "       u'initial_list_status', u'out_prncp', u'out_prncp_inv', u'total_pymnt',\n",
       "       u'total_pymnt_inv', u'total_rec_prncp', u'total_rec_int',\n",
       "       u'total_rec_late_fee', u'recoveries', u'collection_recovery_fee',\n",
       "       u'last_pymnt_d', u'last_pymnt_amnt', u'next_pymnt_d',\n",
       "       u'last_credit_pull_d', u'collections_12_mths_ex_med',\n",
       "       u'mths_since_last_major_derog', u'policy_code', u'application_type',\n",
       "       u'annual_inc_joint', u'dti_joint', u'verification_status_joint',\n",
       "       u'acc_now_delinq', u'tot_coll_amt', u'tot_cur_bal', u'open_acc_6m',\n",
       "       u'open_il_6m', u'open_il_12m', u'open_il_24m', u'mths_since_rcnt_il',\n",
       "       u'total_bal_il', u'il_util', u'open_rv_12m', u'open_rv_24m',\n",
       "       u'max_bal_bc', u'all_util', u'total_credit_rv', u'inq_fi',\n",
       "       u'total_fi_tl', u'inq_last_12m'],\n",
       "      dtype='object')"
      ]
     },
     "execution_count": 16,
     "metadata": {},
     "output_type": "execute_result"
    }
   ],
   "source": [
    "loans.columns"
   ]
  },
  {
   "cell_type": "markdown",
   "metadata": {},
   "source": [
    "Inferential statistics on the various features of this data set. Begin with the numeric fields that have little to no missing data and do not require any processing."
   ]
  },
  {
   "cell_type": "code",
   "execution_count": 17,
   "metadata": {
    "collapsed": false
   },
   "outputs": [
    {
     "data": {
      "text/plain": [
       "loan_status\n",
       "Charged Off    56000\n",
       "Fully Paid     64000\n",
       "Name: annual_inc, dtype: float64"
      ]
     },
     "execution_count": 17,
     "metadata": {},
     "output_type": "execute_result"
    }
   ],
   "source": [
    "#Check out the effect of annual income\n",
    "#Get the annual income for the charged off and fully paid categories\n",
    "#Get the median incomes\n",
    "inc_paid_med = loans[loans.loan_status == 'Fully Paid'].annual_inc.median()\n",
    "inc_chrg_med = loans[loans.loan_status == 'Charged Off'].annual_inc.median()\n",
    "\n",
    "loans.groupby('loan_status').annual_inc.median()"
   ]
  },
  {
   "cell_type": "code",
   "execution_count": 19,
   "metadata": {
    "collapsed": false
   },
   "outputs": [
    {
     "data": {
      "text/plain": [
       "1.1428571428571428"
      ]
     },
     "execution_count": 19,
     "metadata": {},
     "output_type": "execute_result"
    }
   ],
   "source": [
    "#Look at the effect size for the incomes\n",
    "inc_paid_med / inc_chrg_med\n",
    "#Modest effect size"
   ]
  },
  {
   "cell_type": "code",
   "execution_count": 20,
   "metadata": {
    "collapsed": false
   },
   "outputs": [
    {
     "data": {
      "text/plain": [
       "[7024.9849999999997, 8773.0099999999984]"
      ]
     },
     "execution_count": 20,
     "metadata": {},
     "output_type": "execute_result"
    }
   ],
   "source": [
    "#Bootstrap the median incomes for the two categories and see if that effect is significant\n",
    "prct = ut.med_diff_bootstrap(loans[loans.loan_status == 'Fully Paid'].annual_inc,\n",
    "                             loans[loans.loan_status == 'Charged Off'].annual_inc, 99.5, 0.5)\n",
    "prct\n",
    "#Reliable"
   ]
  },
  {
   "cell_type": "code",
   "execution_count": 21,
   "metadata": {
    "collapsed": false
   },
   "outputs": [
    {
     "data": {
      "text/plain": [
       "loan_status\n",
       "Charged Off    18.27\n",
       "Fully Paid     15.69\n",
       "Name: dti, dtype: float64"
      ]
     },
     "execution_count": 21,
     "metadata": {},
     "output_type": "execute_result"
    }
   ],
   "source": [
    "#Check out the effect of dti\n",
    "#Get the dti for the charged off and fully paid categories\n",
    "#Get the median dtis\n",
    "dti_paid_med = loans[loans.loan_status == 'Fully Paid'].dti.median()\n",
    "dti_chrg_med = loans[loans.loan_status == 'Charged Off'].dti.median()\n",
    "\n",
    "loans.groupby('loan_status').dti.median() "
   ]
  },
  {
   "cell_type": "code",
   "execution_count": 22,
   "metadata": {
    "collapsed": false
   },
   "outputs": [
    {
     "data": {
      "text/plain": [
       "1.1644359464627152"
      ]
     },
     "execution_count": 22,
     "metadata": {},
     "output_type": "execute_result"
    }
   ],
   "source": [
    "#Look at the effect size for the dtis\n",
    "dti_chrg_med / dti_paid_med\n",
    "#Modest effect size"
   ]
  },
  {
   "cell_type": "code",
   "execution_count": 23,
   "metadata": {
    "collapsed": false
   },
   "outputs": [
    {
     "data": {
      "text/plain": [
       "[2.4400000000000013, 2.7000000000000011]"
      ]
     },
     "execution_count": 23,
     "metadata": {},
     "output_type": "execute_result"
    }
   ],
   "source": [
    "#Bootstrap the dti for the two categories and see if that effect is significant\n",
    "prct = ut.med_diff_bootstrap(loans[loans.loan_status == 'Charged Off'].dti,\n",
    "                             loans[loans.loan_status == 'Fully Paid'].dti, 99.5, 0.5)\n",
    "prct\n",
    "#Reliable"
   ]
  },
  {
   "cell_type": "code",
   "execution_count": 24,
   "metadata": {
    "collapsed": false
   },
   "outputs": [
    {
     "data": {
      "text/plain": [
       "loan_status\n",
       "Charged Off    0.27490\n",
       "Fully Paid     0.24146\n",
       "Name: delinq_2yrs, dtype: float64"
      ]
     },
     "execution_count": 24,
     "metadata": {},
     "output_type": "execute_result"
    }
   ],
   "source": [
    "#Check out the effect of delinquencies in the last two years\n",
    "#Get the number of delinquencies for the charged off and fully paid categories\n",
    "#Get the mean delinquencies\n",
    "dlq_paid_mn = loans[loans.loan_status == 'Fully Paid'].delinq_2yrs.mean()\n",
    "dlq_chrg_mn = loans[loans.loan_status == 'Charged Off'].delinq_2yrs.mean()\n",
    "\n",
    "loans.groupby('loan_status').delinq_2yrs.mean() "
   ]
  },
  {
   "cell_type": "code",
   "execution_count": 26,
   "metadata": {
    "collapsed": false
   },
   "outputs": [
    {
     "data": {
      "text/plain": [
       "1.1384884893215346"
      ]
     },
     "execution_count": 26,
     "metadata": {},
     "output_type": "execute_result"
    }
   ],
   "source": [
    "#Look at the effect size for the delinquencies\n",
    "dlq_chrg_mn / dlq_paid_mn\n",
    "#Modest effect size"
   ]
  },
  {
   "cell_type": "code",
   "execution_count": 27,
   "metadata": {
    "collapsed": false
   },
   "outputs": [
    {
     "data": {
      "text/plain": [
       "[0.022954457309100756, 0.043943470247482859]"
      ]
     },
     "execution_count": 27,
     "metadata": {},
     "output_type": "execute_result"
    }
   ],
   "source": [
    "#Bootstrap the delinquencies for the two categories and see if that effect is significant\n",
    "prct = ut.mean_diff_bootstrap(loans[loans.loan_status == 'Charged Off'].delinq_2yrs,\n",
    "                              loans[loans.loan_status == 'Fully Paid'].delinq_2yrs, 99.5, 0.5)\n",
    "prct\n",
    "#Reliable"
   ]
  },
  {
   "cell_type": "code",
   "execution_count": 28,
   "metadata": {
    "collapsed": false
   },
   "outputs": [
    {
     "data": {
      "text/plain": [
       "loan_status\n",
       "Charged Off    1.047217\n",
       "Fully Paid     0.858365\n",
       "Name: inq_last_6mths, dtype: float64"
      ]
     },
     "execution_count": 28,
     "metadata": {},
     "output_type": "execute_result"
    }
   ],
   "source": [
    "#Check out the effect of inquiries in the last six months\n",
    "#Get the inquiries for the charged off and fully paid categories\n",
    "#Get the mean inquiries\n",
    "inq_paid_mn = loans[loans.loan_status == 'Fully Paid'].inq_last_6mths.mean()\n",
    "inq_chrg_mn = loans[loans.loan_status == 'Charged Off'].inq_last_6mths.mean()\n",
    "\n",
    "loans.groupby('loan_status').inq_last_6mths.mean() "
   ]
  },
  {
   "cell_type": "code",
   "execution_count": 30,
   "metadata": {
    "collapsed": false
   },
   "outputs": [
    {
     "data": {
      "text/plain": [
       "1.2200132638223962"
      ]
     },
     "execution_count": 30,
     "metadata": {},
     "output_type": "execute_result"
    }
   ],
   "source": [
    "#Look at the effect size for the inquiries\n",
    "inq_chrg_mn / inq_paid_mn\n",
    "#Moderate effect"
   ]
  },
  {
   "cell_type": "code",
   "execution_count": 31,
   "metadata": {
    "collapsed": false
   },
   "outputs": [
    {
     "data": {
      "text/plain": [
       "[0.17240098985823846, 0.2063343733412828]"
      ]
     },
     "execution_count": 31,
     "metadata": {},
     "output_type": "execute_result"
    }
   ],
   "source": [
    "#Bootstrap the inquiries for the two categories and see if that effect is significant\n",
    "prct = ut.mean_diff_bootstrap(loans[loans.loan_status == 'Charged Off'].inq_last_6mths,\n",
    "                              loans[loans.loan_status == 'Fully Paid'].inq_last_6mths, 99.5, 0.5)\n",
    "prct\n",
    "#Reliable"
   ]
  },
  {
   "cell_type": "code",
   "execution_count": 32,
   "metadata": {
    "collapsed": false
   },
   "outputs": [
    {
     "data": {
      "text/plain": [
       "loan_status\n",
       "Charged Off    11.008180\n",
       "Fully Paid     10.875742\n",
       "Name: open_acc, dtype: float64"
      ]
     },
     "execution_count": 32,
     "metadata": {},
     "output_type": "execute_result"
    }
   ],
   "source": [
    "#Check out the effect of number of open accounts\n",
    "#Get the number of open accounts for the charged off and fully paid categories\n",
    "#Get the mean number of accounts\n",
    "opn_paid_mn = loans[loans.loan_status == 'Fully Paid'].open_acc.mean()\n",
    "opn_chrg_mn = loans[loans.loan_status == 'Charged Off'].open_acc.mean()\n",
    "\n",
    "loans.groupby('loan_status').open_acc.mean()"
   ]
  },
  {
   "cell_type": "code",
   "execution_count": 33,
   "metadata": {
    "collapsed": false
   },
   "outputs": [
    {
     "data": {
      "text/plain": [
       "0.98796918047848403"
      ]
     },
     "execution_count": 33,
     "metadata": {},
     "output_type": "execute_result"
    }
   ],
   "source": [
    "#Look at the effect size for the number of open accounts\n",
    "opn_paid_mn / opn_chrg_mn\n",
    "#Small effect"
   ]
  },
  {
   "cell_type": "code",
   "execution_count": 34,
   "metadata": {
    "collapsed": false
   },
   "outputs": [
    {
     "data": {
      "text/plain": [
       "[-0.19623503540697443, -0.066461859835128423]"
      ]
     },
     "execution_count": 34,
     "metadata": {},
     "output_type": "execute_result"
    }
   ],
   "source": [
    "#Bootstrap the open accounts for the two categories and see if that effect is significant\n",
    "prct = ut.mean_diff_bootstrap(loans[loans.loan_status == 'Fully Paid'].open_acc,\n",
    "                              loans[loans.loan_status == 'Charged Off'].open_acc, 99.5, 0.5)\n",
    "prct\n",
    "#Looks like the effect is reliable, but it is small enough to be suspect"
   ]
  },
  {
   "cell_type": "code",
   "execution_count": 48,
   "metadata": {
    "collapsed": false
   },
   "outputs": [
    {
     "data": {
      "text/plain": [
       "loan_status\n",
       "Charged Off    0.143180\n",
       "Fully Paid     0.139283\n",
       "Name: pub_rec, dtype: float64"
      ]
     },
     "execution_count": 48,
     "metadata": {},
     "output_type": "execute_result"
    }
   ],
   "source": [
    "#Check out the effect of number of derogatory public records\n",
    "#Get the number of public records for the charged off and fully paid categories\n",
    "#Get the mean number of derogatory public records\n",
    "pub_paid_mn = loans[loans.loan_status == 'Fully Paid'].pub_rec.mean()\n",
    "pub_chrg_mn = loans[loans.loan_status == 'Charged Off'].pub_rec.mean()\n",
    "\n",
    "loans.groupby('loan_status').pub_rec.mean()\n"
   ]
  },
  {
   "cell_type": "code",
   "execution_count": 49,
   "metadata": {
    "collapsed": false
   },
   "outputs": [
    {
     "data": {
      "text/plain": [
       "1.0279786874048025"
      ]
     },
     "execution_count": 49,
     "metadata": {},
     "output_type": "execute_result"
    }
   ],
   "source": [
    "#Look at the effect size for the number of derogatory public records\n",
    "pub_chrg_mn / pub_paid_mn\n",
    "#Small effect"
   ]
  },
  {
   "cell_type": "code",
   "execution_count": 37,
   "metadata": {
    "collapsed": false
   },
   "outputs": [
    {
     "data": {
      "text/plain": [
       "[-0.0018740016053750276, 0.009818523648975357]"
      ]
     },
     "execution_count": 37,
     "metadata": {},
     "output_type": "execute_result"
    }
   ],
   "source": [
    "#Bootstrap the public records for the two categories and see if that effect is significant\n",
    "prct = ut.mean_diff_bootstrap(loans[loans.loan_status == 'Charged Off'].pub_rec,\n",
    "                              loans[loans.loan_status == 'Fully Paid'].pub_rec, 99.5, 0.5)\n",
    "prct\n",
    "#Not reliable"
   ]
  },
  {
   "cell_type": "code",
   "execution_count": 38,
   "metadata": {
    "collapsed": false
   },
   "outputs": [
    {
     "data": {
      "text/plain": [
       "loan_status\n",
       "Charged Off    11301.5\n",
       "Fully Paid     10805.0\n",
       "Name: revol_bal, dtype: float64"
      ]
     },
     "execution_count": 38,
     "metadata": {},
     "output_type": "execute_result"
    }
   ],
   "source": [
    "#Check out the effect of revolving balance\n",
    "#Get the revolving balance for the charged off and fully paid categories\n",
    "#Get the median revolving balance \n",
    "rev_bal_paid_med = loans[loans.loan_status == 'Fully Paid'].revol_bal.median()\n",
    "rev_bal_chrg_med = loans[loans.loan_status == 'Charged Off'].revol_bal.median()\n",
    "\n",
    "loans.groupby('loan_status').revol_bal.median()"
   ]
  },
  {
   "cell_type": "code",
   "execution_count": 39,
   "metadata": {
    "collapsed": false
   },
   "outputs": [
    {
     "data": {
      "text/plain": [
       "1.0459509486348912"
      ]
     },
     "execution_count": 39,
     "metadata": {},
     "output_type": "execute_result"
    }
   ],
   "source": [
    "#Effect size\n",
    "rev_bal_chrg_med / rev_bal_paid_med\n",
    "#Small effect"
   ]
  },
  {
   "cell_type": "code",
   "execution_count": 40,
   "metadata": {
    "collapsed": false
   },
   "outputs": [
    {
     "data": {
      "text/plain": [
       "[352.0, 647.0]"
      ]
     },
     "execution_count": 40,
     "metadata": {},
     "output_type": "execute_result"
    }
   ],
   "source": [
    "#Bootstrap\n",
    "prct = ut.med_diff_bootstrap(loans[loans.loan_status == 'Charged Off'].revol_bal, \n",
    "                             loans[loans.loan_status == 'Fully Paid'].revol_bal, 99.5, 0.5)\n",
    "prct\n",
    "#reliable"
   ]
  },
  {
   "cell_type": "code",
   "execution_count": 42,
   "metadata": {
    "collapsed": false
   },
   "outputs": [
    {
     "data": {
      "text/plain": [
       "loan_status\n",
       "Charged Off    24.141296\n",
       "Fully Paid     25.138142\n",
       "Name: total_acc, dtype: float64"
      ]
     },
     "execution_count": 42,
     "metadata": {},
     "output_type": "execute_result"
    }
   ],
   "source": [
    "#Total number of accounts\n",
    "tot_acc_paid_mn = loans[loans.loan_status == 'Fully Paid'].total_acc.mean()\n",
    "tot_acc_chrg_mn = loans[loans.loan_status == 'Charged Off'].total_acc.mean()\n",
    "\n",
    "loans.groupby('loan_status').total_acc.mean() "
   ]
  },
  {
   "cell_type": "code",
   "execution_count": 43,
   "metadata": {
    "collapsed": false
   },
   "outputs": [
    {
     "data": {
      "text/plain": [
       "1.041292169210503"
      ]
     },
     "execution_count": 43,
     "metadata": {},
     "output_type": "execute_result"
    }
   ],
   "source": [
    "#Effect size\n",
    "tot_acc_paid_mn  / tot_acc_chrg_mn \n",
    "#Small effect"
   ]
  },
  {
   "cell_type": "code",
   "execution_count": 44,
   "metadata": {
    "collapsed": false
   },
   "outputs": [
    {
     "data": {
      "text/plain": [
       "[0.8410510951780743, 1.148117810622356]"
      ]
     },
     "execution_count": 44,
     "metadata": {},
     "output_type": "execute_result"
    }
   ],
   "source": [
    "#Bootstrap\n",
    "prct = ut.mean_diff_bootstrap(loans[loans.loan_status == 'Fully Paid'].total_acc,\n",
    "                              loans[loans.loan_status == 'Charged Off'].total_acc, 99.5, 0.5)\n",
    "prct\n",
    "#Seems to be reliable, but not a very big effect"
   ]
  },
  {
   "cell_type": "code",
   "execution_count": 45,
   "metadata": {
    "collapsed": false
   },
   "outputs": [
    {
     "data": {
      "text/plain": [
       "loan_status\n",
       "Charged Off    0.007741\n",
       "Fully Paid     0.006107\n",
       "Name: collections_12_mths_ex_med, dtype: float64"
      ]
     },
     "execution_count": 45,
     "metadata": {},
     "output_type": "execute_result"
    }
   ],
   "source": [
    "#Collections in the last 12 months excluding medical collections\n",
    "col_paid_mn = loans[loans.loan_status == 'Fully Paid'].collections_12_mths_ex_med.mean()\n",
    "col_chrg_mn = loans[loans.loan_status == 'Charged Off'].collections_12_mths_ex_med.mean()\n",
    "\n",
    "loans.groupby('loan_status').collections_12_mths_ex_med.mean()\n",
    "\n",
    "#Field seems to be missing some data"
   ]
  },
  {
   "cell_type": "code",
   "execution_count": 46,
   "metadata": {
    "collapsed": false
   },
   "outputs": [
    {
     "data": {
      "text/plain": [
       "1.2675053795187776"
      ]
     },
     "execution_count": 46,
     "metadata": {},
     "output_type": "execute_result"
    }
   ],
   "source": [
    "#Effect size\n",
    "col_chrg_mn  / col_paid_mn\n",
    "#Moderate effect, but missing data?"
   ]
  },
  {
   "cell_type": "code",
   "execution_count": 47,
   "metadata": {
    "collapsed": false
   },
   "outputs": [
    {
     "data": {
      "text/plain": [
       "[0.00044366518691515099, 0.002854148549792756]"
      ]
     },
     "execution_count": 47,
     "metadata": {},
     "output_type": "execute_result"
    }
   ],
   "source": [
    "#Bootstrap\n",
    "prct = ut.mean_diff_bootstrap(loans[loans.loan_status == 'Charged Off'].collections_12_mths_ex_med,\n",
    "                              loans[loans.loan_status == 'Fully Paid'].collections_12_mths_ex_med, 99.5, 0.5)\n",
    "prct\n",
    "#Effect is reliable"
   ]
  },
  {
   "cell_type": "code",
   "execution_count": 50,
   "metadata": {
    "collapsed": false
   },
   "outputs": [
    {
     "data": {
      "text/plain": [
       "loan_status\n",
       "Charged Off    0.003879\n",
       "Fully Paid     0.002827\n",
       "Name: acc_now_delinq, dtype: float64"
      ]
     },
     "execution_count": 50,
     "metadata": {},
     "output_type": "execute_result"
    }
   ],
   "source": [
    "#Number of accounts now delinquent\n",
    "dlq_acc_paid_mn = loans[loans.loan_status == 'Fully Paid'].acc_now_delinq.mean()\n",
    "dlq_acc_chrg_mn = loans[loans.loan_status == 'Charged Off'].acc_now_delinq.mean()\n",
    "\n",
    "loans.groupby('loan_status').acc_now_delinq.mean()"
   ]
  },
  {
   "cell_type": "code",
   "execution_count": 51,
   "metadata": {
    "collapsed": false
   },
   "outputs": [
    {
     "data": {
      "text/plain": [
       "1.3722424705392382"
      ]
     },
     "execution_count": 51,
     "metadata": {},
     "output_type": "execute_result"
    }
   ],
   "source": [
    "#Effect size\n",
    "dlq_acc_chrg_mn / dlq_acc_paid_mn"
   ]
  },
  {
   "cell_type": "code",
   "execution_count": 52,
   "metadata": {
    "collapsed": false
   },
   "outputs": [
    {
     "data": {
      "text/plain": [
       "[0.00017702472440258958, 0.0019903687465753829]"
      ]
     },
     "execution_count": 52,
     "metadata": {},
     "output_type": "execute_result"
    }
   ],
   "source": [
    "#Effect size, too rare, meaningless\n",
    "#Bootstrap\n",
    "prct = ut.mean_diff_bootstrap(loans[loans.loan_status == 'Charged Off'].acc_now_delinq,\n",
    "                              loans[loans.loan_status == 'Fully Paid'].acc_now_delinq, 99.5, 0.5)\n",
    "prct\n",
    "#Also not reliable"
   ]
  },
  {
   "cell_type": "raw",
   "metadata": {},
   "source": [
    "For the simple numeric fields, the following features have reliable relationships with the default rate:\n",
    "annual_inc, dti, delinq_2yrs, inq_last_6mths, total_acc, open_acc, collections_12_mths_ex_med\n",
    "open_acc, total_acc, revol_bal have very small, but reliable effects\n",
    "collections_12_mths_ex_med, acc_now_delinq have a large, reliable effects\n",
    "collections_12_mths_ex_med, acc_now_delinq seem like they might actually be missing data even though the values are filled in\n",
    "\n",
    "The following simple numeric features have no reliable relationship with the default rate:\n",
    "pub_rec \n"
   ]
  }
 ],
 "metadata": {
  "kernelspec": {
   "display_name": "Python 2",
   "language": "python",
   "name": "python2"
  },
  "language_info": {
   "codemirror_mode": {
    "name": "ipython",
    "version": 2
   },
   "file_extension": ".py",
   "mimetype": "text/x-python",
   "name": "python",
   "nbconvert_exporter": "python",
   "pygments_lexer": "ipython2",
   "version": "2.7.10"
  }
 },
 "nbformat": 4,
 "nbformat_minor": 0
}
