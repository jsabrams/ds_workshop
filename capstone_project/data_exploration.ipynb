{
 "cells": [
  {
   "cell_type": "markdown",
   "metadata": {},
   "source": [
    "List of variables that have a reliable relationship with the default rate:\n",
    "annual_inc, dti, delinq_2yrs, inq_last_6mths, total_acc, open_acc, collections_12_mths_ex_med,\n",
    "home_ownership (MORTGAGE, RENT),\n",
    "purpose (car, credit_card, debt_consolidation (very small effect), home_improvement, major_purchase, medical,\n",
    "moving, other, small_business, wedding), avg_inc (small effect), avg_SS (very small), avg_itemized (small effect), avg_unemp (very small effect), avg_mort_intr (small effect), prop_SS (small effect), prop_itemized (small effect), prop_unemp (small effect), prop_mort_intr (small effect), prop_edu (small), prop_st_loans (small),  erlst_cred (small effect), last_cred_pl(large effect, strange)"
   ]
  },
  {
   "cell_type": "code",
   "execution_count": 1,
   "metadata": {
    "collapsed": false
   },
   "outputs": [
    {
     "name": "stderr",
     "output_type": "stream",
     "text": [
      "/Library/Python/2.7/site-packages/pandas/io/parsers.py:648: ParserWarning: Falling back to the 'python' engine because the 'c' engine does not support skip_footer; you can avoid this warning by specifying engine='python'.\n",
      "  ParserWarning)\n"
     ]
    }
   ],
   "source": [
    "#Import some modules\n",
    "%matplotlib inline\n",
    "import numpy as np\n",
    "import pandas as pd\n",
    "import utils as ut\n",
    "import datetime as dt\n",
    "\n",
    "\n",
    "\n",
    "#Load in the data\n",
    "#loans = pd.read_csv('LoanStats3a.csv', skiprows = 1, \n",
    "#                  parse_dates = ['issue_d', 'earliest_cr_line', 'last_pymnt_d', 'last_credit_pull_d'],\n",
    "#                 skipfooter = 2)\n",
    "\n",
    "df1 = pd.read_csv('LoanStats3a.csv', skiprows = 1, \n",
    "                  parse_dates = ['issue_d', 'earliest_cr_line', 'last_pymnt_d', 'last_credit_pull_d'],\n",
    "                 skipfooter = 2)\n",
    "df2 = pd.read_csv('LoanStats3b.csv', skiprows = 1, \n",
    "                  parse_dates = ['issue_d', 'earliest_cr_line', 'last_pymnt_d', 'last_credit_pull_d'],\n",
    "                 skipfooter = 2, infer_datetime_format=True)\n",
    "df3 = pd.read_csv('LoanStats3c.csv', skiprows = 1, \n",
    "                  parse_dates = ['issue_d', 'earliest_cr_line', 'last_pymnt_d', 'last_credit_pull_d'],\n",
    "                 skipfooter = 2, infer_datetime_format=True)\n",
    "df4 = pd.read_csv('LoanStats3d.csv', skiprows = 1, \n",
    "                  parse_dates = ['issue_d', 'earliest_cr_line', 'last_pymnt_d', 'last_credit_pull_d'],\n",
    "                 skipfooter = 2, infer_datetime_format=True)\n",
    "\n",
    "loans = pd.concat([df1, df2, df3, df4], ignore_index = True)\n",
    "\n",
    "del df1\n",
    "del df2\n",
    "del df3\n",
    "del df4"
   ]
  },
  {
   "cell_type": "code",
   "execution_count": 2,
   "metadata": {
    "collapsed": false
   },
   "outputs": [
    {
     "data": {
      "text/plain": [
       "Current                                                0.652293\n",
       "Fully Paid                                             0.261470\n",
       "Charged Off                                            0.057966\n",
       "Late (31-120 days)                                     0.014763\n",
       "In Grace Period                                        0.006518\n",
       "Late (16-30 days)                                      0.002723\n",
       "Does not meet the credit policy. Status:Fully Paid     0.002621\n",
       "Does not meet the credit policy. Status:Charged Off    0.001005\n",
       "Default                                                0.000634\n",
       "Does not meet the credit policy. Status:Current        0.000005\n",
       "dtype: float64"
      ]
     },
     "execution_count": 2,
     "metadata": {},
     "output_type": "execute_result"
    }
   ],
   "source": [
    "#Begin by cleaning up the data a bit\n",
    "#Percentages of the different loan statuses\n",
    "loans.loan_status.value_counts(normalize = True)\n"
   ]
  },
  {
   "cell_type": "code",
   "execution_count": 3,
   "metadata": {
    "collapsed": false
   },
   "outputs": [
    {
     "data": {
      "text/plain": [
       "Current                                            0.652293\n",
       "Fully Paid                                         0.264091\n",
       "Charged Off                                        0.059605\n",
       "Late (31-120 days)                                 0.014763\n",
       "In Grace Period                                    0.006518\n",
       "Late (16-30 days)                                  0.002723\n",
       "Does not meet the credit policy. Status:Current    0.000005\n",
       "dtype: float64"
      ]
     },
     "execution_count": 3,
     "metadata": {},
     "output_type": "execute_result"
    }
   ],
   "source": [
    "loans.replace(to_replace = 'Does not meet the credit policy. Status:Fully Paid', value = 'Fully Paid', inplace = True)\n",
    "loans.replace(to_replace = 'Does not meet the credit policy. Status:Charged Off', value = 'Charged Off', inplace = True)\n",
    "#Assign default to charged off? They seem equivalent from the lenders perspective\n",
    "loans.replace(to_replace = 'Default', value = 'Charged Off', inplace = True)\n",
    "\n",
    "loans.loan_status.value_counts(normalize = True)"
   ]
  },
  {
   "cell_type": "code",
   "execution_count": 4,
   "metadata": {
    "collapsed": true
   },
   "outputs": [],
   "source": [
    "#Filter out everything but 'fully paid' and 'charged off' and plot\n",
    "#We're just going to consider those two categories to simplify the analysis\n",
    "loans = loans[(loans.loan_status == 'Fully Paid') | (loans.loan_status == 'Charged Off')]"
   ]
  },
  {
   "cell_type": "code",
   "execution_count": 16,
   "metadata": {
    "collapsed": false
   },
   "outputs": [
    {
     "data": {
      "text/plain": [
       "Index([u'id', u'member_id', u'loan_amnt', u'funded_amnt', u'funded_amnt_inv',\n",
       "       u'term', u'int_rate', u'installment', u'grade', u'sub_grade',\n",
       "       u'emp_title', u'emp_length', u'home_ownership', u'annual_inc',\n",
       "       u'verification_status', u'issue_d', u'loan_status', u'pymnt_plan',\n",
       "       u'url', u'desc', u'purpose', u'title', u'zip_code', u'addr_state',\n",
       "       u'dti', u'delinq_2yrs', u'earliest_cr_line', u'inq_last_6mths',\n",
       "       u'mths_since_last_delinq', u'mths_since_last_record', u'open_acc',\n",
       "       u'pub_rec', u'revol_bal', u'revol_util', u'total_acc',\n",
       "       u'initial_list_status', u'out_prncp', u'out_prncp_inv', u'total_pymnt',\n",
       "       u'total_pymnt_inv', u'total_rec_prncp', u'total_rec_int',\n",
       "       u'total_rec_late_fee', u'recoveries', u'collection_recovery_fee',\n",
       "       u'last_pymnt_d', u'last_pymnt_amnt', u'next_pymnt_d',\n",
       "       u'last_credit_pull_d', u'collections_12_mths_ex_med',\n",
       "       u'mths_since_last_major_derog', u'policy_code', u'application_type',\n",
       "       u'annual_inc_joint', u'dti_joint', u'verification_status_joint',\n",
       "       u'acc_now_delinq', u'tot_coll_amt', u'tot_cur_bal', u'open_acc_6m',\n",
       "       u'open_il_6m', u'open_il_12m', u'open_il_24m', u'mths_since_rcnt_il',\n",
       "       u'total_bal_il', u'il_util', u'open_rv_12m', u'open_rv_24m',\n",
       "       u'max_bal_bc', u'all_util', u'total_credit_rv', u'inq_fi',\n",
       "       u'total_fi_tl', u'inq_last_12m'],\n",
       "      dtype='object')"
      ]
     },
     "execution_count": 16,
     "metadata": {},
     "output_type": "execute_result"
    }
   ],
   "source": [
    "loans.columns"
   ]
  },
  {
   "cell_type": "markdown",
   "metadata": {},
   "source": [
    "Inferential statistics on the various features of this data set. Begin with the numeric fields that have little to no missing data and do not require any processing."
   ]
  },
  {
   "cell_type": "code",
   "execution_count": 17,
   "metadata": {
    "collapsed": false
   },
   "outputs": [
    {
     "data": {
      "text/plain": [
       "loan_status\n",
       "Charged Off    56000\n",
       "Fully Paid     64000\n",
       "Name: annual_inc, dtype: float64"
      ]
     },
     "execution_count": 17,
     "metadata": {},
     "output_type": "execute_result"
    }
   ],
   "source": [
    "#Check out the effect of annual income\n",
    "#Get the annual income for the charged off and fully paid categories\n",
    "#Get the median incomes\n",
    "inc_paid_med = loans[loans.loan_status == 'Fully Paid'].annual_inc.median()\n",
    "inc_chrg_med = loans[loans.loan_status == 'Charged Off'].annual_inc.median()\n",
    "\n",
    "loans.groupby('loan_status').annual_inc.median()"
   ]
  },
  {
   "cell_type": "code",
   "execution_count": 19,
   "metadata": {
    "collapsed": false
   },
   "outputs": [
    {
     "data": {
      "text/plain": [
       "1.1428571428571428"
      ]
     },
     "execution_count": 19,
     "metadata": {},
     "output_type": "execute_result"
    }
   ],
   "source": [
    "#Look at the effect size for the incomes\n",
    "inc_paid_med / inc_chrg_med\n",
    "#Modest effect size"
   ]
  },
  {
   "cell_type": "code",
   "execution_count": 20,
   "metadata": {
    "collapsed": false
   },
   "outputs": [
    {
     "data": {
      "text/plain": [
       "[7024.9849999999997, 8773.0099999999984]"
      ]
     },
     "execution_count": 20,
     "metadata": {},
     "output_type": "execute_result"
    }
   ],
   "source": [
    "#Bootstrap the median incomes for the two categories and see if that effect is significant\n",
    "prct = ut.med_diff_bootstrap(loans[loans.loan_status == 'Fully Paid'].annual_inc,\n",
    "                             loans[loans.loan_status == 'Charged Off'].annual_inc, 99.5, 0.5)\n",
    "prct\n",
    "#Reliable"
   ]
  },
  {
   "cell_type": "code",
   "execution_count": 21,
   "metadata": {
    "collapsed": false
   },
   "outputs": [
    {
     "data": {
      "text/plain": [
       "loan_status\n",
       "Charged Off    18.27\n",
       "Fully Paid     15.69\n",
       "Name: dti, dtype: float64"
      ]
     },
     "execution_count": 21,
     "metadata": {},
     "output_type": "execute_result"
    }
   ],
   "source": [
    "#Check out the effect of dti\n",
    "#Get the dti for the charged off and fully paid categories\n",
    "#Get the median dtis\n",
    "dti_paid_med = loans[loans.loan_status == 'Fully Paid'].dti.median()\n",
    "dti_chrg_med = loans[loans.loan_status == 'Charged Off'].dti.median()\n",
    "\n",
    "loans.groupby('loan_status').dti.median() "
   ]
  },
  {
   "cell_type": "code",
   "execution_count": 22,
   "metadata": {
    "collapsed": false
   },
   "outputs": [
    {
     "data": {
      "text/plain": [
       "1.1644359464627152"
      ]
     },
     "execution_count": 22,
     "metadata": {},
     "output_type": "execute_result"
    }
   ],
   "source": [
    "#Look at the effect size for the dtis\n",
    "dti_chrg_med / dti_paid_med\n",
    "#Modest effect size"
   ]
  },
  {
   "cell_type": "code",
   "execution_count": 23,
   "metadata": {
    "collapsed": false
   },
   "outputs": [
    {
     "data": {
      "text/plain": [
       "[2.4400000000000013, 2.7000000000000011]"
      ]
     },
     "execution_count": 23,
     "metadata": {},
     "output_type": "execute_result"
    }
   ],
   "source": [
    "#Bootstrap the dti for the two categories and see if that effect is significant\n",
    "prct = ut.med_diff_bootstrap(loans[loans.loan_status == 'Charged Off'].dti,\n",
    "                             loans[loans.loan_status == 'Fully Paid'].dti, 99.5, 0.5)\n",
    "prct\n",
    "#Reliable"
   ]
  },
  {
   "cell_type": "code",
   "execution_count": 24,
   "metadata": {
    "collapsed": false
   },
   "outputs": [
    {
     "data": {
      "text/plain": [
       "loan_status\n",
       "Charged Off    0.27490\n",
       "Fully Paid     0.24146\n",
       "Name: delinq_2yrs, dtype: float64"
      ]
     },
     "execution_count": 24,
     "metadata": {},
     "output_type": "execute_result"
    }
   ],
   "source": [
    "#Check out the effect of delinquencies in the last two years\n",
    "#Get the number of delinquencies for the charged off and fully paid categories\n",
    "#Get the mean delinquencies\n",
    "dlq_paid_mn = loans[loans.loan_status == 'Fully Paid'].delinq_2yrs.mean()\n",
    "dlq_chrg_mn = loans[loans.loan_status == 'Charged Off'].delinq_2yrs.mean()\n",
    "\n",
    "loans.groupby('loan_status').delinq_2yrs.mean() "
   ]
  },
  {
   "cell_type": "code",
   "execution_count": 26,
   "metadata": {
    "collapsed": false
   },
   "outputs": [
    {
     "data": {
      "text/plain": [
       "1.1384884893215346"
      ]
     },
     "execution_count": 26,
     "metadata": {},
     "output_type": "execute_result"
    }
   ],
   "source": [
    "#Look at the effect size for the delinquencies\n",
    "dlq_chrg_mn / dlq_paid_mn\n",
    "#Modest effect size"
   ]
  },
  {
   "cell_type": "code",
   "execution_count": 27,
   "metadata": {
    "collapsed": false
   },
   "outputs": [
    {
     "data": {
      "text/plain": [
       "[0.022954457309100756, 0.043943470247482859]"
      ]
     },
     "execution_count": 27,
     "metadata": {},
     "output_type": "execute_result"
    }
   ],
   "source": [
    "#Bootstrap the delinquencies for the two categories and see if that effect is significant\n",
    "prct = ut.mean_diff_bootstrap(loans[loans.loan_status == 'Charged Off'].delinq_2yrs,\n",
    "                              loans[loans.loan_status == 'Fully Paid'].delinq_2yrs, 99.5, 0.5)\n",
    "prct\n",
    "#Reliable"
   ]
  },
  {
   "cell_type": "code",
   "execution_count": 28,
   "metadata": {
    "collapsed": false
   },
   "outputs": [
    {
     "data": {
      "text/plain": [
       "loan_status\n",
       "Charged Off    1.047217\n",
       "Fully Paid     0.858365\n",
       "Name: inq_last_6mths, dtype: float64"
      ]
     },
     "execution_count": 28,
     "metadata": {},
     "output_type": "execute_result"
    }
   ],
   "source": [
    "#Check out the effect of inquiries in the last six months\n",
    "#Get the inquiries for the charged off and fully paid categories\n",
    "#Get the mean inquiries\n",
    "inq_paid_mn = loans[loans.loan_status == 'Fully Paid'].inq_last_6mths.mean()\n",
    "inq_chrg_mn = loans[loans.loan_status == 'Charged Off'].inq_last_6mths.mean()\n",
    "\n",
    "loans.groupby('loan_status').inq_last_6mths.mean() "
   ]
  },
  {
   "cell_type": "code",
   "execution_count": 30,
   "metadata": {
    "collapsed": false
   },
   "outputs": [
    {
     "data": {
      "text/plain": [
       "1.2200132638223962"
      ]
     },
     "execution_count": 30,
     "metadata": {},
     "output_type": "execute_result"
    }
   ],
   "source": [
    "#Look at the effect size for the inquiries\n",
    "inq_chrg_mn / inq_paid_mn\n",
    "#Moderate effect"
   ]
  },
  {
   "cell_type": "code",
   "execution_count": 31,
   "metadata": {
    "collapsed": false
   },
   "outputs": [
    {
     "data": {
      "text/plain": [
       "[0.17240098985823846, 0.2063343733412828]"
      ]
     },
     "execution_count": 31,
     "metadata": {},
     "output_type": "execute_result"
    }
   ],
   "source": [
    "#Bootstrap the inquiries for the two categories and see if that effect is significant\n",
    "prct = ut.mean_diff_bootstrap(loans[loans.loan_status == 'Charged Off'].inq_last_6mths,\n",
    "                              loans[loans.loan_status == 'Fully Paid'].inq_last_6mths, 99.5, 0.5)\n",
    "prct\n",
    "#Reliable"
   ]
  },
  {
   "cell_type": "code",
   "execution_count": 32,
   "metadata": {
    "collapsed": false
   },
   "outputs": [
    {
     "data": {
      "text/plain": [
       "loan_status\n",
       "Charged Off    11.008180\n",
       "Fully Paid     10.875742\n",
       "Name: open_acc, dtype: float64"
      ]
     },
     "execution_count": 32,
     "metadata": {},
     "output_type": "execute_result"
    }
   ],
   "source": [
    "#Check out the effect of number of open accounts\n",
    "#Get the number of open accounts for the charged off and fully paid categories\n",
    "#Get the mean number of accounts\n",
    "opn_paid_mn = loans[loans.loan_status == 'Fully Paid'].open_acc.mean()\n",
    "opn_chrg_mn = loans[loans.loan_status == 'Charged Off'].open_acc.mean()\n",
    "\n",
    "loans.groupby('loan_status').open_acc.mean()"
   ]
  },
  {
   "cell_type": "code",
   "execution_count": 33,
   "metadata": {
    "collapsed": false
   },
   "outputs": [
    {
     "data": {
      "text/plain": [
       "0.98796918047848403"
      ]
     },
     "execution_count": 33,
     "metadata": {},
     "output_type": "execute_result"
    }
   ],
   "source": [
    "#Look at the effect size for the number of open accounts\n",
    "opn_paid_mn / opn_chrg_mn\n",
    "#Small effect"
   ]
  },
  {
   "cell_type": "code",
   "execution_count": 34,
   "metadata": {
    "collapsed": false
   },
   "outputs": [
    {
     "data": {
      "text/plain": [
       "[-0.19623503540697443, -0.066461859835128423]"
      ]
     },
     "execution_count": 34,
     "metadata": {},
     "output_type": "execute_result"
    }
   ],
   "source": [
    "#Bootstrap the open accounts for the two categories and see if that effect is significant\n",
    "prct = ut.mean_diff_bootstrap(loans[loans.loan_status == 'Fully Paid'].open_acc,\n",
    "                              loans[loans.loan_status == 'Charged Off'].open_acc, 99.5, 0.5)\n",
    "prct\n",
    "#Looks like the effect is reliable, but it is small enough to be suspect"
   ]
  },
  {
   "cell_type": "code",
   "execution_count": 48,
   "metadata": {
    "collapsed": false
   },
   "outputs": [
    {
     "data": {
      "text/plain": [
       "loan_status\n",
       "Charged Off    0.143180\n",
       "Fully Paid     0.139283\n",
       "Name: pub_rec, dtype: float64"
      ]
     },
     "execution_count": 48,
     "metadata": {},
     "output_type": "execute_result"
    }
   ],
   "source": [
    "#Check out the effect of number of derogatory public records\n",
    "#Get the number of public records for the charged off and fully paid categories\n",
    "#Get the mean number of derogatory public records\n",
    "pub_paid_mn = loans[loans.loan_status == 'Fully Paid'].pub_rec.mean()\n",
    "pub_chrg_mn = loans[loans.loan_status == 'Charged Off'].pub_rec.mean()\n",
    "\n",
    "loans.groupby('loan_status').pub_rec.mean()\n"
   ]
  },
  {
   "cell_type": "code",
   "execution_count": 49,
   "metadata": {
    "collapsed": false
   },
   "outputs": [
    {
     "data": {
      "text/plain": [
       "1.0279786874048025"
      ]
     },
     "execution_count": 49,
     "metadata": {},
     "output_type": "execute_result"
    }
   ],
   "source": [
    "#Look at the effect size for the number of derogatory public records\n",
    "pub_chrg_mn / pub_paid_mn\n",
    "#Small effect"
   ]
  },
  {
   "cell_type": "code",
   "execution_count": 37,
   "metadata": {
    "collapsed": false
   },
   "outputs": [
    {
     "data": {
      "text/plain": [
       "[-0.0018740016053750276, 0.009818523648975357]"
      ]
     },
     "execution_count": 37,
     "metadata": {},
     "output_type": "execute_result"
    }
   ],
   "source": [
    "#Bootstrap the public records for the two categories and see if that effect is significant\n",
    "prct = ut.mean_diff_bootstrap(loans[loans.loan_status == 'Charged Off'].pub_rec,\n",
    "                              loans[loans.loan_status == 'Fully Paid'].pub_rec, 99.5, 0.5)\n",
    "prct\n",
    "#Not reliable"
   ]
  },
  {
   "cell_type": "code",
   "execution_count": 38,
   "metadata": {
    "collapsed": false
   },
   "outputs": [
    {
     "data": {
      "text/plain": [
       "loan_status\n",
       "Charged Off    11301.5\n",
       "Fully Paid     10805.0\n",
       "Name: revol_bal, dtype: float64"
      ]
     },
     "execution_count": 38,
     "metadata": {},
     "output_type": "execute_result"
    }
   ],
   "source": [
    "#Check out the effect of revolving balance\n",
    "#Get the revolving balance for the charged off and fully paid categories\n",
    "#Get the median revolving balance \n",
    "rev_bal_paid_med = loans[loans.loan_status == 'Fully Paid'].revol_bal.median()\n",
    "rev_bal_chrg_med = loans[loans.loan_status == 'Charged Off'].revol_bal.median()\n",
    "\n",
    "loans.groupby('loan_status').revol_bal.median()"
   ]
  },
  {
   "cell_type": "code",
   "execution_count": 39,
   "metadata": {
    "collapsed": false
   },
   "outputs": [
    {
     "data": {
      "text/plain": [
       "1.0459509486348912"
      ]
     },
     "execution_count": 39,
     "metadata": {},
     "output_type": "execute_result"
    }
   ],
   "source": [
    "#Effect size\n",
    "rev_bal_chrg_med / rev_bal_paid_med\n",
    "#Small effect"
   ]
  },
  {
   "cell_type": "code",
   "execution_count": 40,
   "metadata": {
    "collapsed": false
   },
   "outputs": [
    {
     "data": {
      "text/plain": [
       "[352.0, 647.0]"
      ]
     },
     "execution_count": 40,
     "metadata": {},
     "output_type": "execute_result"
    }
   ],
   "source": [
    "#Bootstrap\n",
    "prct = ut.med_diff_bootstrap(loans[loans.loan_status == 'Charged Off'].revol_bal, \n",
    "                             loans[loans.loan_status == 'Fully Paid'].revol_bal, 99.5, 0.5)\n",
    "prct\n",
    "#reliable"
   ]
  },
  {
   "cell_type": "code",
   "execution_count": 42,
   "metadata": {
    "collapsed": false
   },
   "outputs": [
    {
     "data": {
      "text/plain": [
       "loan_status\n",
       "Charged Off    24.141296\n",
       "Fully Paid     25.138142\n",
       "Name: total_acc, dtype: float64"
      ]
     },
     "execution_count": 42,
     "metadata": {},
     "output_type": "execute_result"
    }
   ],
   "source": [
    "#Total number of accounts\n",
    "tot_acc_paid_mn = loans[loans.loan_status == 'Fully Paid'].total_acc.mean()\n",
    "tot_acc_chrg_mn = loans[loans.loan_status == 'Charged Off'].total_acc.mean()\n",
    "\n",
    "loans.groupby('loan_status').total_acc.mean() "
   ]
  },
  {
   "cell_type": "code",
   "execution_count": 43,
   "metadata": {
    "collapsed": false
   },
   "outputs": [
    {
     "data": {
      "text/plain": [
       "1.041292169210503"
      ]
     },
     "execution_count": 43,
     "metadata": {},
     "output_type": "execute_result"
    }
   ],
   "source": [
    "#Effect size\n",
    "tot_acc_paid_mn  / tot_acc_chrg_mn \n",
    "#Small effect"
   ]
  },
  {
   "cell_type": "code",
   "execution_count": 44,
   "metadata": {
    "collapsed": false
   },
   "outputs": [
    {
     "data": {
      "text/plain": [
       "[0.8410510951780743, 1.148117810622356]"
      ]
     },
     "execution_count": 44,
     "metadata": {},
     "output_type": "execute_result"
    }
   ],
   "source": [
    "#Bootstrap\n",
    "prct = ut.mean_diff_bootstrap(loans[loans.loan_status == 'Fully Paid'].total_acc,\n",
    "                              loans[loans.loan_status == 'Charged Off'].total_acc, 99.5, 0.5)\n",
    "prct\n",
    "#Seems to be reliable, but not a very big effect"
   ]
  },
  {
   "cell_type": "code",
   "execution_count": 45,
   "metadata": {
    "collapsed": false
   },
   "outputs": [
    {
     "data": {
      "text/plain": [
       "loan_status\n",
       "Charged Off    0.007741\n",
       "Fully Paid     0.006107\n",
       "Name: collections_12_mths_ex_med, dtype: float64"
      ]
     },
     "execution_count": 45,
     "metadata": {},
     "output_type": "execute_result"
    }
   ],
   "source": [
    "#Collections in the last 12 months excluding medical collections\n",
    "col_paid_mn = loans[loans.loan_status == 'Fully Paid'].collections_12_mths_ex_med.mean()\n",
    "col_chrg_mn = loans[loans.loan_status == 'Charged Off'].collections_12_mths_ex_med.mean()\n",
    "\n",
    "loans.groupby('loan_status').collections_12_mths_ex_med.mean()\n",
    "\n",
    "#Field seems to be missing some data"
   ]
  },
  {
   "cell_type": "code",
   "execution_count": 46,
   "metadata": {
    "collapsed": false
   },
   "outputs": [
    {
     "data": {
      "text/plain": [
       "1.2675053795187776"
      ]
     },
     "execution_count": 46,
     "metadata": {},
     "output_type": "execute_result"
    }
   ],
   "source": [
    "#Effect size\n",
    "col_chrg_mn  / col_paid_mn\n",
    "#Moderate effect, but missing data?"
   ]
  },
  {
   "cell_type": "code",
   "execution_count": 47,
   "metadata": {
    "collapsed": false
   },
   "outputs": [
    {
     "data": {
      "text/plain": [
       "[0.00044366518691515099, 0.002854148549792756]"
      ]
     },
     "execution_count": 47,
     "metadata": {},
     "output_type": "execute_result"
    }
   ],
   "source": [
    "#Bootstrap\n",
    "prct = ut.mean_diff_bootstrap(loans[loans.loan_status == 'Charged Off'].collections_12_mths_ex_med,\n",
    "                              loans[loans.loan_status == 'Fully Paid'].collections_12_mths_ex_med, 99.5, 0.5)\n",
    "prct\n",
    "#Effect is reliable"
   ]
  },
  {
   "cell_type": "code",
   "execution_count": 50,
   "metadata": {
    "collapsed": false
   },
   "outputs": [
    {
     "data": {
      "text/plain": [
       "loan_status\n",
       "Charged Off    0.003879\n",
       "Fully Paid     0.002827\n",
       "Name: acc_now_delinq, dtype: float64"
      ]
     },
     "execution_count": 50,
     "metadata": {},
     "output_type": "execute_result"
    }
   ],
   "source": [
    "#Number of accounts now delinquent\n",
    "dlq_acc_paid_mn = loans[loans.loan_status == 'Fully Paid'].acc_now_delinq.mean()\n",
    "dlq_acc_chrg_mn = loans[loans.loan_status == 'Charged Off'].acc_now_delinq.mean()\n",
    "\n",
    "loans.groupby('loan_status').acc_now_delinq.mean()"
   ]
  },
  {
   "cell_type": "code",
   "execution_count": 51,
   "metadata": {
    "collapsed": false
   },
   "outputs": [
    {
     "data": {
      "text/plain": [
       "1.3722424705392382"
      ]
     },
     "execution_count": 51,
     "metadata": {},
     "output_type": "execute_result"
    }
   ],
   "source": [
    "#Effect size\n",
    "dlq_acc_chrg_mn / dlq_acc_paid_mn\n",
    "#Large effect"
   ]
  },
  {
   "cell_type": "code",
   "execution_count": 52,
   "metadata": {
    "collapsed": false
   },
   "outputs": [
    {
     "data": {
      "text/plain": [
       "[0.00017702472440258958, 0.0019903687465753829]"
      ]
     },
     "execution_count": 52,
     "metadata": {},
     "output_type": "execute_result"
    }
   ],
   "source": [
    "#Bootstrap\n",
    "prct = ut.mean_diff_bootstrap(loans[loans.loan_status == 'Charged Off'].acc_now_delinq,\n",
    "                              loans[loans.loan_status == 'Fully Paid'].acc_now_delinq, 99.5, 0.5)\n",
    "prct\n",
    "#Also reliable"
   ]
  },
  {
   "cell_type": "raw",
   "metadata": {},
   "source": [
    "Simple numeric fields\n",
    "Reliable:\n",
    "annual_inc, dti, delinq_2yrs, inq_last_6mths, total_acc, open_acc, *collections_12_mths_ex_med*, *acc_now_delinq*\n",
    "Notes:\n",
    "open_acc, total_acc, revol_bal have very small, but reliable effects\n",
    "collections_12_mths_ex_med, acc_now_delinq have a large, reliable effects\n",
    "collections_12_mths_ex_med, acc_now_delinq seem like they might actually be missing data even though the values are filled in\n",
    "(found out that acc_now_delinq was added on 12/10/15, not appropriate for the above analysis)\n",
    "\n",
    "Not Reliable:\n",
    "pub_rec \n"
   ]
  },
  {
   "cell_type": "markdown",
   "metadata": {},
   "source": [
    "Categorical variables:\n",
    "relatively few categories:\n",
    "home_ownership, purpose \n",
    "\n",
    "lots of categories:\n",
    "addr_state, zip_code"
   ]
  },
  {
   "cell_type": "code",
   "execution_count": 4,
   "metadata": {
    "collapsed": false
   },
   "outputs": [
    {
     "data": {
      "text/plain": [
       "0.1841395271001106"
      ]
     },
     "execution_count": 4,
     "metadata": {},
     "output_type": "execute_result"
    }
   ],
   "source": [
    "chrg_off_rate = len(loans[loans.loan_status == 'Charged Off'].loan_status) / float(len(loans.loan_status))\n",
    "chrg_off_rate"
   ]
  },
  {
   "cell_type": "code",
   "execution_count": 5,
   "metadata": {
    "collapsed": false
   },
   "outputs": [
    {
     "data": {
      "text/html": [
       "<div>\n",
       "<table border=\"1\" class=\"dataframe\">\n",
       "  <thead>\n",
       "    <tr style=\"text-align: right;\">\n",
       "      <th></th>\n",
       "      <th>Fully Paid</th>\n",
       "      <th>Charged Off</th>\n",
       "    </tr>\n",
       "    <tr>\n",
       "      <th>home_ownership</th>\n",
       "      <th></th>\n",
       "      <th></th>\n",
       "    </tr>\n",
       "  </thead>\n",
       "  <tbody>\n",
       "    <tr>\n",
       "      <th>MORTGAGE</th>\n",
       "      <td>0.835505</td>\n",
       "      <td>0.164495</td>\n",
       "    </tr>\n",
       "    <tr>\n",
       "      <th>NONE</th>\n",
       "      <td>0.829787</td>\n",
       "      <td>0.170213</td>\n",
       "    </tr>\n",
       "    <tr>\n",
       "      <th>OTHER</th>\n",
       "      <td>0.787709</td>\n",
       "      <td>0.212291</td>\n",
       "    </tr>\n",
       "    <tr>\n",
       "      <th>OWN</th>\n",
       "      <td>0.811723</td>\n",
       "      <td>0.188277</td>\n",
       "    </tr>\n",
       "    <tr>\n",
       "      <th>RENT</th>\n",
       "      <td>0.793776</td>\n",
       "      <td>0.206224</td>\n",
       "    </tr>\n",
       "  </tbody>\n",
       "</table>\n",
       "</div>"
      ],
      "text/plain": [
       "                Fully Paid  Charged Off\n",
       "home_ownership                         \n",
       "MORTGAGE          0.835505     0.164495\n",
       "NONE              0.829787     0.170213\n",
       "OTHER             0.787709     0.212291\n",
       "OWN               0.811723     0.188277\n",
       "RENT              0.793776     0.206224"
      ]
     },
     "execution_count": 5,
     "metadata": {},
     "output_type": "execute_result"
    }
   ],
   "source": [
    "#home ownership\n",
    "#There is one loan with home_ownwership == 'ANY', add that to 'OTHER'\n",
    "loans.home_ownership.replace(to_replace = 'ANY', value = 'OTHER', inplace = True)\n",
    "#Print the fully paid and charged off rates for each ownership category\n",
    "loans.groupby('home_ownership').loan_status.value_counts(normalize = True).unstack()"
   ]
  },
  {
   "cell_type": "code",
   "execution_count": 10,
   "metadata": {
    "collapsed": false
   },
   "outputs": [
    {
     "data": {
      "text/plain": [
       "1.1194209091762977"
      ]
     },
     "execution_count": 10,
     "metadata": {},
     "output_type": "execute_result"
    }
   ],
   "source": [
    "#is_mort\n",
    "eff_size = (chrg_off_rate / \n",
    "    loans[loans.home_ownership == 'MORTGAGE'].loan_status.replace(['Fully Paid', 'Charged Off'], value = [0, 1]).mean())\n",
    "eff_size\n",
    "#Modest effect of is_mort"
   ]
  },
  {
   "cell_type": "code",
   "execution_count": 11,
   "metadata": {
    "collapsed": false
   },
   "outputs": [
    {
     "data": {
      "text/plain": [
       "[0.161742103211789, 0.16729834061714779]"
      ]
     },
     "execution_count": 11,
     "metadata": {},
     "output_type": "execute_result"
    }
   ],
   "source": [
    "prct = ut.mean_bootstrap(\n",
    "    loans[loans.home_ownership == 'MORTGAGE'].loan_status.replace(['Fully Paid', 'Charged Off'], value = [0, 1]),\n",
    "    99.5, 0.5)\n",
    "prct\n",
    "#Effect is reliable"
   ]
  },
  {
   "cell_type": "code",
   "execution_count": 12,
   "metadata": {
    "collapsed": false
   },
   "outputs": [
    {
     "data": {
      "text/plain": [
       "1.0818197217131498"
      ]
     },
     "execution_count": 12,
     "metadata": {},
     "output_type": "execute_result"
    }
   ],
   "source": [
    "#is_none\n",
    "eff_size = (chrg_off_rate / \n",
    "    loans[loans.home_ownership == 'NONE'].loan_status.replace(['Fully Paid', 'Charged Off'], value = [0, 1]).mean())\n",
    "eff_size\n",
    "#Modest effect of is_none"
   ]
  },
  {
   "cell_type": "code",
   "execution_count": 13,
   "metadata": {
    "collapsed": false
   },
   "outputs": [
    {
     "data": {
      "text/plain": [
       "[0.042553191489361701, 0.31914893617021278]"
      ]
     },
     "execution_count": 13,
     "metadata": {},
     "output_type": "execute_result"
    }
   ],
   "source": [
    "prct = ut.mean_bootstrap(\n",
    "    loans[loans.home_ownership == 'NONE'].loan_status.replace(['Fully Paid', 'Charged Off'], value = [0, 1]),\n",
    "    99.5, 0.5)\n",
    "prct\n",
    "#Effect is not reliable"
   ]
  },
  {
   "cell_type": "code",
   "execution_count": 16,
   "metadata": {
    "collapsed": false
   },
   "outputs": [
    {
     "data": {
      "text/plain": [
       "1.1528785054274671"
      ]
     },
     "execution_count": 16,
     "metadata": {},
     "output_type": "execute_result"
    }
   ],
   "source": [
    "#is_other\n",
    "eff_size = (\n",
    "    loans[loans.home_ownership == 'OTHER'].loan_status.replace(['Fully Paid', 'Charged Off'], value = [0, 1]).mean() /\n",
    "    chrg_off_rate)\n",
    "eff_size\n",
    "#Modest effect of is_other"
   ]
  },
  {
   "cell_type": "code",
   "execution_count": 17,
   "metadata": {
    "collapsed": false
   },
   "outputs": [
    {
     "data": {
      "text/plain": [
       "[0.13407821229050279, 0.29608938547486036]"
      ]
     },
     "execution_count": 17,
     "metadata": {},
     "output_type": "execute_result"
    }
   ],
   "source": [
    "prct = ut.mean_bootstrap(\n",
    "    loans[loans.home_ownership == 'OTHER'].loan_status.replace(['Fully Paid', 'Charged Off'], value = [0, 1]),\n",
    "    99.5, 0.5)\n",
    "prct\n",
    "#Effect is not reliable"
   ]
  },
  {
   "cell_type": "code",
   "execution_count": 8,
   "metadata": {
    "collapsed": false
   },
   "outputs": [
    {
     "data": {
      "text/plain": [
       "1.0224701578129374"
      ]
     },
     "execution_count": 8,
     "metadata": {},
     "output_type": "execute_result"
    }
   ],
   "source": [
    "#is_own\n",
    "eff_size = (\n",
    "    loans[loans.home_ownership == 'OWN'].loan_status.replace(['Fully Paid', 'Charged Off'], value = [0, 1]).mean() /\n",
    "    chrg_off_rate)\n",
    "eff_size\n",
    "#Small effect of is_own"
   ]
  },
  {
   "cell_type": "code",
   "execution_count": 6,
   "metadata": {
    "collapsed": false
   },
   "outputs": [
    {
     "data": {
      "text/plain": [
       "[0.18144257237778832, 0.19501661129568107]"
      ]
     },
     "execution_count": 6,
     "metadata": {},
     "output_type": "execute_result"
    }
   ],
   "source": [
    "prct = ut.mean_bootstrap(\n",
    "    loans[loans.home_ownership == 'OWN'].loan_status.replace(['Fully Paid', 'Charged Off'], value = [0, 1]),\n",
    "    99.5, 0.5)\n",
    "prct\n",
    "#Effect is not reliable"
   ]
  },
  {
   "cell_type": "code",
   "execution_count": 18,
   "metadata": {
    "collapsed": false
   },
   "outputs": [
    {
     "data": {
      "text/plain": [
       "1.1199336806700069"
      ]
     },
     "execution_count": 18,
     "metadata": {},
     "output_type": "execute_result"
    }
   ],
   "source": [
    "#is_rent\n",
    "eff_size = (\n",
    "    loans[loans.home_ownership == 'RENT'].loan_status.replace(['Fully Paid', 'Charged Off'], value = [0, 1]).mean() /\n",
    "    chrg_off_rate)\n",
    "eff_size\n",
    "#Modest effect of is_rent"
   ]
  },
  {
   "cell_type": "code",
   "execution_count": 19,
   "metadata": {
    "collapsed": false
   },
   "outputs": [
    {
     "data": {
      "text/plain": [
       "[0.20299468559680359, 0.20954075992086582]"
      ]
     },
     "execution_count": 19,
     "metadata": {},
     "output_type": "execute_result"
    }
   ],
   "source": [
    "prct = ut.mean_bootstrap(\n",
    "    loans[loans.home_ownership == 'RENT'].loan_status.replace(['Fully Paid', 'Charged Off'], value = [0, 1]),\n",
    "    99.5, 0.5)\n",
    "prct\n",
    "#Effect is reliable"
   ]
  },
  {
   "cell_type": "code",
   "execution_count": 22,
   "metadata": {
    "collapsed": false
   },
   "outputs": [
    {
     "data": {
      "text/html": [
       "<div>\n",
       "<table border=\"1\" class=\"dataframe\">\n",
       "  <thead>\n",
       "    <tr style=\"text-align: right;\">\n",
       "      <th></th>\n",
       "      <th>Fully Paid</th>\n",
       "      <th>Charged Off</th>\n",
       "    </tr>\n",
       "    <tr>\n",
       "      <th>purpose</th>\n",
       "      <th></th>\n",
       "      <th></th>\n",
       "    </tr>\n",
       "  </thead>\n",
       "  <tbody>\n",
       "    <tr>\n",
       "      <th>car</th>\n",
       "      <td>0.873259</td>\n",
       "      <td>0.126741</td>\n",
       "    </tr>\n",
       "    <tr>\n",
       "      <th>credit_card</th>\n",
       "      <td>0.839346</td>\n",
       "      <td>0.160654</td>\n",
       "    </tr>\n",
       "    <tr>\n",
       "      <th>debt_consolidation</th>\n",
       "      <td>0.808992</td>\n",
       "      <td>0.191008</td>\n",
       "    </tr>\n",
       "    <tr>\n",
       "      <th>educational</th>\n",
       "      <td>0.791469</td>\n",
       "      <td>0.208531</td>\n",
       "    </tr>\n",
       "    <tr>\n",
       "      <th>home_improvement</th>\n",
       "      <td>0.841063</td>\n",
       "      <td>0.158937</td>\n",
       "    </tr>\n",
       "    <tr>\n",
       "      <th>house</th>\n",
       "      <td>0.820905</td>\n",
       "      <td>0.179095</td>\n",
       "    </tr>\n",
       "    <tr>\n",
       "      <th>major_purchase</th>\n",
       "      <td>0.856680</td>\n",
       "      <td>0.143320</td>\n",
       "    </tr>\n",
       "    <tr>\n",
       "      <th>medical</th>\n",
       "      <td>0.793521</td>\n",
       "      <td>0.206479</td>\n",
       "    </tr>\n",
       "    <tr>\n",
       "      <th>moving</th>\n",
       "      <td>0.785607</td>\n",
       "      <td>0.214393</td>\n",
       "    </tr>\n",
       "    <tr>\n",
       "      <th>other</th>\n",
       "      <td>0.788047</td>\n",
       "      <td>0.211953</td>\n",
       "    </tr>\n",
       "    <tr>\n",
       "      <th>renewable_energy</th>\n",
       "      <td>0.792453</td>\n",
       "      <td>0.207547</td>\n",
       "    </tr>\n",
       "    <tr>\n",
       "      <th>small_business</th>\n",
       "      <td>0.702832</td>\n",
       "      <td>0.297168</td>\n",
       "    </tr>\n",
       "    <tr>\n",
       "      <th>vacation</th>\n",
       "      <td>0.822424</td>\n",
       "      <td>0.177576</td>\n",
       "    </tr>\n",
       "    <tr>\n",
       "      <th>wedding</th>\n",
       "      <td>0.861222</td>\n",
       "      <td>0.138778</td>\n",
       "    </tr>\n",
       "  </tbody>\n",
       "</table>\n",
       "</div>"
      ],
      "text/plain": [
       "                    Fully Paid  Charged Off\n",
       "purpose                                    \n",
       "car                   0.873259     0.126741\n",
       "credit_card           0.839346     0.160654\n",
       "debt_consolidation    0.808992     0.191008\n",
       "educational           0.791469     0.208531\n",
       "home_improvement      0.841063     0.158937\n",
       "house                 0.820905     0.179095\n",
       "major_purchase        0.856680     0.143320\n",
       "medical               0.793521     0.206479\n",
       "moving                0.785607     0.214393\n",
       "other                 0.788047     0.211953\n",
       "renewable_energy      0.792453     0.207547\n",
       "small_business        0.702832     0.297168\n",
       "vacation              0.822424     0.177576\n",
       "wedding               0.861222     0.138778"
      ]
     },
     "execution_count": 22,
     "metadata": {},
     "output_type": "execute_result"
    }
   ],
   "source": [
    "#loan purpose\n",
    "#Print the fully paid and charged off rates for each purpose category\n",
    "loans.groupby('purpose').loan_status.value_counts(normalize = True).unstack()"
   ]
  },
  {
   "cell_type": "code",
   "execution_count": 23,
   "metadata": {
    "collapsed": false
   },
   "outputs": [
    {
     "data": {
      "text/plain": [
       "1.4528811039327409"
      ]
     },
     "execution_count": 23,
     "metadata": {},
     "output_type": "execute_result"
    }
   ],
   "source": [
    "#p_is_car\n",
    "eff_size = (chrg_off_rate /\n",
    "    loans[loans.purpose == 'car'].loan_status.replace(['Fully Paid', 'Charged Off'], value = [0, 1]).mean())\n",
    "eff_size\n",
    "#Large effect of is_car"
   ]
  },
  {
   "cell_type": "code",
   "execution_count": 24,
   "metadata": {
    "collapsed": false
   },
   "outputs": [
    {
     "data": {
      "text/plain": [
       "[0.11253481894150417, 0.14150417827298051]"
      ]
     },
     "execution_count": 24,
     "metadata": {},
     "output_type": "execute_result"
    }
   ],
   "source": [
    "prct = ut.mean_bootstrap(\n",
    "    loans[loans.purpose == 'car'].loan_status.replace(['Fully Paid', 'Charged Off'], value = [0, 1]),\n",
    "    99.5, 0.5)\n",
    "prct\n",
    "#Effect is reliable"
   ]
  },
  {
   "cell_type": "code",
   "execution_count": 25,
   "metadata": {
    "collapsed": false
   },
   "outputs": [
    {
     "data": {
      "text/plain": [
       "1.1461892165678129"
      ]
     },
     "execution_count": 25,
     "metadata": {},
     "output_type": "execute_result"
    }
   ],
   "source": [
    "#p_is_credit\n",
    "eff_size = (chrg_off_rate /\n",
    "    loans[loans.purpose == 'credit_card'].loan_status.replace(['Fully Paid', 'Charged Off'], value = [0, 1]).mean())\n",
    "eff_size\n",
    "#Modest effect of is_credit"
   ]
  },
  {
   "cell_type": "code",
   "execution_count": 26,
   "metadata": {
    "collapsed": false
   },
   "outputs": [
    {
     "data": {
      "text/plain": [
       "[0.15646924117830749, 0.16508795669824086]"
      ]
     },
     "execution_count": 26,
     "metadata": {},
     "output_type": "execute_result"
    }
   ],
   "source": [
    "prct = ut.mean_bootstrap(\n",
    "    loans[loans.purpose == 'credit_card'].loan_status.replace(['Fully Paid', 'Charged Off'], value = [0, 1]),\n",
    "    99.5, 0.5)\n",
    "prct"
   ]
  },
  {
   "cell_type": "code",
   "execution_count": 27,
   "metadata": {
    "collapsed": false
   },
   "outputs": [
    {
     "data": {
      "text/plain": [
       "1.0372996019357483"
      ]
     },
     "execution_count": 27,
     "metadata": {},
     "output_type": "execute_result"
    }
   ],
   "source": [
    "#p_is_debt\n",
    "eff_size = (\n",
    "    loans[loans.purpose == 'debt_consolidation'].loan_status.replace(['Fully Paid', 'Charged Off'], value = [0, 1]).mean() /\n",
    "    chrg_off_rate)\n",
    "eff_size\n",
    "#Small effect of is_debt"
   ]
  },
  {
   "cell_type": "code",
   "execution_count": 28,
   "metadata": {
    "collapsed": false
   },
   "outputs": [
    {
     "data": {
      "text/plain": [
       "[0.18837205318940686, 0.19374143572247546]"
      ]
     },
     "execution_count": 28,
     "metadata": {},
     "output_type": "execute_result"
    }
   ],
   "source": [
    "prct = ut.mean_bootstrap(\n",
    "    loans[loans.purpose == 'debt_consolidation'].loan_status.replace(['Fully Paid', 'Charged Off'], value = [0, 1]),\n",
    "    99.5, 0.5)\n",
    "prct\n",
    "#reliable, but so small it probably doesn't matter much"
   ]
  },
  {
   "cell_type": "code",
   "execution_count": 29,
   "metadata": {
    "collapsed": false
   },
   "outputs": [
    {
     "data": {
      "text/plain": [
       "1.1324608516770678"
      ]
     },
     "execution_count": 29,
     "metadata": {},
     "output_type": "execute_result"
    }
   ],
   "source": [
    "#p_is_edu\n",
    "eff_size = (\n",
    "    loans[loans.purpose == 'educational'].loan_status.replace(['Fully Paid', 'Charged Off'], value = [0, 1]).mean() /\n",
    "    chrg_off_rate)\n",
    "eff_size\n",
    "#Modest effect of is_edu"
   ]
  },
  {
   "cell_type": "code",
   "execution_count": 30,
   "metadata": {
    "collapsed": false
   },
   "outputs": [
    {
     "data": {
      "text/plain": [
       "[0.15876777251184834, 0.26067535545023507]"
      ]
     },
     "execution_count": 30,
     "metadata": {},
     "output_type": "execute_result"
    }
   ],
   "source": [
    "prct = ut.mean_bootstrap(\n",
    "    loans[loans.purpose == 'educational'].loan_status.replace(['Fully Paid', 'Charged Off'], value = [0, 1]),\n",
    "    99.5, 0.5)\n",
    "prct\n",
    "#not reliable"
   ]
  },
  {
   "cell_type": "code",
   "execution_count": 31,
   "metadata": {
    "collapsed": false
   },
   "outputs": [
    {
     "data": {
      "text/plain": [
       "1.1585678452803312"
      ]
     },
     "execution_count": 31,
     "metadata": {},
     "output_type": "execute_result"
    }
   ],
   "source": [
    "#p_is_home_imp\n",
    "eff_size = (chrg_off_rate /\n",
    "    loans[loans.purpose == 'home_improvement'].loan_status.replace(['Fully Paid', 'Charged Off'], value = [0, 1]).mean())\n",
    "eff_size\n",
    "#Modest effect of is_home_imp"
   ]
  },
  {
   "cell_type": "code",
   "execution_count": 32,
   "metadata": {
    "collapsed": false
   },
   "outputs": [
    {
     "data": {
      "text/plain": [
       "[0.15113871635610765, 0.16687370600414078]"
      ]
     },
     "execution_count": 32,
     "metadata": {},
     "output_type": "execute_result"
    }
   ],
   "source": [
    "prct = ut.mean_bootstrap(\n",
    "    loans[loans.purpose == 'home_improvement'].loan_status.replace(['Fully Paid', 'Charged Off'], value = [0, 1]),\n",
    "    99.5, 0.5)\n",
    "prct\n",
    "#reliable"
   ]
  },
  {
   "cell_type": "code",
   "execution_count": 33,
   "metadata": {
    "collapsed": false
   },
   "outputs": [
    {
     "data": {
      "text/plain": [
       "1.0281647315214366"
      ]
     },
     "execution_count": 33,
     "metadata": {},
     "output_type": "execute_result"
    }
   ],
   "source": [
    "#p_is_house\n",
    "eff_size = (chrg_off_rate /\n",
    "    loans[loans.purpose == 'house'].loan_status.replace(['Fully Paid', 'Charged Off'], value = [0, 1]).mean())\n",
    "eff_size\n",
    "#Small effect of is_house"
   ]
  },
  {
   "cell_type": "code",
   "execution_count": 34,
   "metadata": {
    "collapsed": false
   },
   "outputs": [
    {
     "data": {
      "text/plain": [
       "[0.15586491442542788, 0.20415647921760391]"
      ]
     },
     "execution_count": 34,
     "metadata": {},
     "output_type": "execute_result"
    }
   ],
   "source": [
    "prct = ut.mean_bootstrap(\n",
    "    loans[loans.purpose == 'house'].loan_status.replace(['Fully Paid', 'Charged Off'], value = [0, 1]),\n",
    "    99.5, 0.5)\n",
    "prct\n",
    "#not reliable"
   ]
  },
  {
   "cell_type": "code",
   "execution_count": 35,
   "metadata": {
    "collapsed": false
   },
   "outputs": [
    {
     "data": {
      "text/plain": [
       "1.2848106370514505"
      ]
     },
     "execution_count": 35,
     "metadata": {},
     "output_type": "execute_result"
    }
   ],
   "source": [
    "#p_is_major\n",
    "eff_size = (chrg_off_rate /\n",
    "    loans[loans.purpose == 'major_purchase'].loan_status.replace(['Fully Paid', 'Charged Off'], value = [0, 1]).mean())\n",
    "eff_size\n",
    "#Large effect of is_major"
   ]
  },
  {
   "cell_type": "code",
   "execution_count": 36,
   "metadata": {
    "collapsed": false
   },
   "outputs": [
    {
     "data": {
      "text/plain": [
       "[0.13197146562905318, 0.15466926070038911]"
      ]
     },
     "execution_count": 36,
     "metadata": {},
     "output_type": "execute_result"
    }
   ],
   "source": [
    "prct = ut.mean_bootstrap(\n",
    "    loans[loans.purpose == 'major_purchase'].loan_status.replace(['Fully Paid', 'Charged Off'], value = [0, 1]),\n",
    "    99.5, 0.5)\n",
    "prct"
   ]
  },
  {
   "cell_type": "code",
   "execution_count": 37,
   "metadata": {
    "collapsed": false
   },
   "outputs": [
    {
     "data": {
      "text/plain": [
       "1.1213191286792417"
      ]
     },
     "execution_count": 37,
     "metadata": {},
     "output_type": "execute_result"
    }
   ],
   "source": [
    "#p_is_med\n",
    "eff_size = (\n",
    "    loans[loans.purpose == 'medical'].loan_status.replace(['Fully Paid', 'Charged Off'], value = [0, 1]).mean() /\n",
    "    chrg_off_rate)\n",
    "eff_size\n",
    "#Modest effect of is_med"
   ]
  },
  {
   "cell_type": "code",
   "execution_count": 38,
   "metadata": {
    "collapsed": false
   },
   "outputs": [
    {
     "data": {
      "text/plain": [
       "[0.18689925240299038, 0.22641509433962265]"
      ]
     },
     "execution_count": 38,
     "metadata": {},
     "output_type": "execute_result"
    }
   ],
   "source": [
    "prct = ut.mean_bootstrap(\n",
    "    loans[loans.purpose == 'medical'].loan_status.replace(['Fully Paid', 'Charged Off'], value = [0, 1]),\n",
    "    99.5, 0.5)\n",
    "prct\n",
    "#reliable"
   ]
  },
  {
   "cell_type": "code",
   "execution_count": 39,
   "metadata": {
    "collapsed": false
   },
   "outputs": [
    {
     "data": {
      "text/plain": [
       "1.1642953958583948"
      ]
     },
     "execution_count": 39,
     "metadata": {},
     "output_type": "execute_result"
    }
   ],
   "source": [
    "#p_is_moving\n",
    "eff_size = (\n",
    "    loans[loans.purpose == 'moving'].loan_status.replace(['Fully Paid', 'Charged Off'], value = [0, 1]).mean() /\n",
    "    chrg_off_rate)\n",
    "eff_size\n",
    "#Modest effect of is_moving"
   ]
  },
  {
   "cell_type": "code",
   "execution_count": 40,
   "metadata": {
    "collapsed": false
   },
   "outputs": [
    {
     "data": {
      "text/plain": [
       "[0.19140429785107446, 0.23888055972013994]"
      ]
     },
     "execution_count": 40,
     "metadata": {},
     "output_type": "execute_result"
    }
   ],
   "source": [
    "prct = ut.mean_bootstrap(\n",
    "    loans[loans.purpose == 'moving'].loan_status.replace(['Fully Paid', 'Charged Off'], value = [0, 1]),\n",
    "    99.5, 0.5)\n",
    "prct\n",
    "#reliable"
   ]
  },
  {
   "cell_type": "code",
   "execution_count": 41,
   "metadata": {
    "collapsed": false
   },
   "outputs": [
    {
     "data": {
      "text/plain": [
       "1.1510439902927163"
      ]
     },
     "execution_count": 41,
     "metadata": {},
     "output_type": "execute_result"
    }
   ],
   "source": [
    "#p_is_other\n",
    "eff_size = (\n",
    "    loans[loans.purpose == 'other'].loan_status.replace(['Fully Paid', 'Charged Off'], value = [0, 1]).mean() /\n",
    "    chrg_off_rate)\n",
    "eff_size\n",
    "#Modest effect of is_other"
   ]
  },
  {
   "cell_type": "code",
   "execution_count": 42,
   "metadata": {
    "collapsed": false
   },
   "outputs": [
    {
     "data": {
      "text/plain": [
       "[0.2032943826552161, 0.22089258059974659]"
      ]
     },
     "execution_count": 42,
     "metadata": {},
     "output_type": "execute_result"
    }
   ],
   "source": [
    "prct = ut.mean_bootstrap(\n",
    "    loans[loans.purpose == 'other'].loan_status.replace(['Fully Paid', 'Charged Off'], value = [0, 1]),\n",
    "    99.5, 0.5)\n",
    "prct\n",
    "#reliable"
   ]
  },
  {
   "cell_type": "code",
   "execution_count": 43,
   "metadata": {
    "collapsed": false
   },
   "outputs": [
    {
     "data": {
      "text/plain": [
       "1.127119055206893"
      ]
     },
     "execution_count": 43,
     "metadata": {},
     "output_type": "execute_result"
    }
   ],
   "source": [
    "#p_is_renew\n",
    "eff_size = (\n",
    "    loans[loans.purpose == 'renewable_energy'].loan_status.replace(['Fully Paid', 'Charged Off'], value = [0, 1]).mean() /\n",
    "    chrg_off_rate)\n",
    "eff_size\n",
    "#Modest effect of is_renew"
   ]
  },
  {
   "cell_type": "code",
   "execution_count": 44,
   "metadata": {
    "collapsed": false
   },
   "outputs": [
    {
     "data": {
      "text/plain": [
       "[0.14339622641509434, 0.27547169811320754]"
      ]
     },
     "execution_count": 44,
     "metadata": {},
     "output_type": "execute_result"
    }
   ],
   "source": [
    "prct = ut.mean_bootstrap(\n",
    "    loans[loans.purpose == 'renewable_energy'].loan_status.replace(['Fully Paid', 'Charged Off'], value = [0, 1]),\n",
    "    99.5, 0.5)\n",
    "prct\n",
    "#not reliable"
   ]
  },
  {
   "cell_type": "code",
   "execution_count": 45,
   "metadata": {
    "collapsed": false
   },
   "outputs": [
    {
     "data": {
      "text/plain": [
       "1.6138188872884882"
      ]
     },
     "execution_count": 45,
     "metadata": {},
     "output_type": "execute_result"
    }
   ],
   "source": [
    "#p_is_small_bus\n",
    "eff_size = (\n",
    "    loans[loans.purpose == 'small_business'].loan_status.replace(['Fully Paid', 'Charged Off'], value = [0, 1]).mean() /\n",
    "    chrg_off_rate)\n",
    "eff_size\n",
    "#Large effect of small business"
   ]
  },
  {
   "cell_type": "code",
   "execution_count": 46,
   "metadata": {
    "collapsed": false
   },
   "outputs": [
    {
     "data": {
      "text/plain": [
       "[0.28050812161599331, 0.31424406497292795]"
      ]
     },
     "execution_count": 46,
     "metadata": {},
     "output_type": "execute_result"
    }
   ],
   "source": [
    "prct = ut.mean_bootstrap(\n",
    "    loans[loans.purpose == 'small_business'].loan_status.replace(['Fully Paid', 'Charged Off'], value = [0, 1]),\n",
    "    99.5, 0.5)\n",
    "prct\n",
    "#reliable"
   ]
  },
  {
   "cell_type": "code",
   "execution_count": 47,
   "metadata": {
    "collapsed": false
   },
   "outputs": [
    {
     "data": {
      "text/plain": [
       "1.0369609135601119"
      ]
     },
     "execution_count": 47,
     "metadata": {},
     "output_type": "execute_result"
    }
   ],
   "source": [
    "#p_is_vac\n",
    "eff_size = (chrg_off_rate /\n",
    "    loans[loans.purpose == 'vacation'].loan_status.replace(['Fully Paid', 'Charged Off'], value = [0, 1]).mean())\n",
    "eff_size\n",
    "#small effect of vacation"
   ]
  },
  {
   "cell_type": "code",
   "execution_count": 48,
   "metadata": {
    "collapsed": false
   },
   "outputs": [
    {
     "data": {
      "text/plain": [
       "[0.15165262475696695, 0.20220349967595594]"
      ]
     },
     "execution_count": 48,
     "metadata": {},
     "output_type": "execute_result"
    }
   ],
   "source": [
    "prct = ut.mean_bootstrap(\n",
    "    loans[loans.purpose == 'vacation'].loan_status.replace(['Fully Paid', 'Charged Off'], value = [0, 1]),\n",
    "    99.5, 0.5)\n",
    "prct\n",
    "#not reliable"
   ]
  },
  {
   "cell_type": "code",
   "execution_count": 49,
   "metadata": {
    "collapsed": false
   },
   "outputs": [
    {
     "data": {
      "text/plain": [
       "1.3268682169379811"
      ]
     },
     "execution_count": 49,
     "metadata": {},
     "output_type": "execute_result"
    }
   ],
   "source": [
    "#p_is_wed\n",
    "eff_size = (chrg_off_rate /\n",
    "    loans[loans.purpose == 'wedding'].loan_status.replace(['Fully Paid', 'Charged Off'], value = [0, 1]).mean())\n",
    "eff_size\n",
    "#large effect of wedding"
   ]
  },
  {
   "cell_type": "code",
   "execution_count": 50,
   "metadata": {
    "collapsed": false
   },
   "outputs": [
    {
     "data": {
      "text/plain": [
       "[0.1192384769539078, 0.15881763527054107]"
      ]
     },
     "execution_count": 50,
     "metadata": {},
     "output_type": "execute_result"
    }
   ],
   "source": [
    "prct = ut.mean_bootstrap(\n",
    "    loans[loans.purpose == 'wedding'].loan_status.replace(['Fully Paid', 'Charged Off'], value = [0, 1]),\n",
    "    99.5, 0.5)\n",
    "prct\n",
    "#not reliable"
   ]
  },
  {
   "cell_type": "markdown",
   "metadata": {
    "collapsed": true
   },
   "source": [
    "Effects of categorical variables requiring minimal processing:\n",
    "Reliable:\n",
    "home_ownership: MORTGAGE, RENT\n",
    "purpose: car, credit_card, debt_consolidation (very small effect), home_improvement, major_purchase, medical,\n",
    "moving, other, small_business, wedding\n",
    "\n",
    "Not Reliable:\n",
    "home_ownership: OWN, NONE, OTHER\n",
    "purpose: educational, house, renewable_energy, vacation"
   ]
  },
  {
   "cell_type": "code",
   "execution_count": 6,
   "metadata": {
    "collapsed": false
   },
   "outputs": [],
   "source": [
    "#Read in IRS zipcode data\n",
    "zip_data = pd.read_pickle('anon_avg_irs_data.pkl')"
   ]
  },
  {
   "cell_type": "code",
   "execution_count": 6,
   "metadata": {
    "collapsed": false
   },
   "outputs": [
    {
     "data": {
      "text/plain": [
       "Index([u'adj_gross_inc', u'amt_SS', u'amt_edu', u'amt_itemized',\n",
       "       u'amt_mort_intr', u'amt_st_loans', u'amt_unemp', u'n_SS', u'n_edu',\n",
       "       u'n_farm', u'n_itemized', u'n_mort_intr', u'n_returns', u'n_st_loans',\n",
       "       u'n_unemp', u'zipcd', u'avg_inc', u'avg_SS', u'avg_itemized',\n",
       "       u'avg_unemp', u'avg_mort_intr', u'avg_edu', u'avg_st_loans', u'prop_SS',\n",
       "       u'prop_itemized', u'prop_unemp', u'prop_farm', u'prop_mort_intr',\n",
       "       u'prop_edu', u'prop_st_loans'],\n",
       "      dtype='object')"
      ]
     },
     "execution_count": 6,
     "metadata": {},
     "output_type": "execute_result"
    }
   ],
   "source": [
    "zip_data.columns"
   ]
  },
  {
   "cell_type": "code",
   "execution_count": 7,
   "metadata": {
    "collapsed": true
   },
   "outputs": [],
   "source": [
    "#Create a dictionary to convert anonomized string zipcodes into integers\n",
    "code_dict = {code: int(code[0:3]) for code in loans.zip_code.unique()}\n",
    "#Replace string zipcodes with integer zipcodes\n",
    "loans.replace(to_replace = {'zip_code': code_dict}, inplace = True)"
   ]
  },
  {
   "cell_type": "code",
   "execution_count": 8,
   "metadata": {
    "collapsed": false
   },
   "outputs": [
    {
     "data": {
      "text/html": [
       "<div>\n",
       "<table border=\"1\" class=\"dataframe\">\n",
       "  <thead>\n",
       "    <tr style=\"text-align: right;\">\n",
       "      <th></th>\n",
       "      <th>zip_code</th>\n",
       "      <th>avg_inc</th>\n",
       "      <th>avg_SS</th>\n",
       "      <th>avg_itemized</th>\n",
       "      <th>avg_unemp</th>\n",
       "      <th>avg_mort_intr</th>\n",
       "      <th>avg_edu</th>\n",
       "      <th>avg_st_loans</th>\n",
       "      <th>prop_SS</th>\n",
       "      <th>prop_itemized</th>\n",
       "      <th>prop_unemp</th>\n",
       "      <th>prop_farm</th>\n",
       "      <th>prop_mort_intr</th>\n",
       "      <th>prop_edu</th>\n",
       "      <th>prop_st_loans</th>\n",
       "    </tr>\n",
       "  </thead>\n",
       "  <tbody>\n",
       "    <tr>\n",
       "      <th>0</th>\n",
       "      <td>0</td>\n",
       "      <td>60.891937</td>\n",
       "      <td>12.351555</td>\n",
       "      <td>26.158858</td>\n",
       "      <td>7.114837</td>\n",
       "      <td>9.953748</td>\n",
       "      <td>2.228984</td>\n",
       "      <td>1.013651</td>\n",
       "      <td>0.118443</td>\n",
       "      <td>0.326262</td>\n",
       "      <td>0.089928</td>\n",
       "      <td>1.202177e-02</td>\n",
       "      <td>0.249079</td>\n",
       "      <td>0.011627</td>\n",
       "      <td>0.078936</td>\n",
       "    </tr>\n",
       "    <tr>\n",
       "      <th>10</th>\n",
       "      <td>10</td>\n",
       "      <td>55.922672</td>\n",
       "      <td>11.008976</td>\n",
       "      <td>20.113773</td>\n",
       "      <td>8.416990</td>\n",
       "      <td>7.691459</td>\n",
       "      <td>2.277419</td>\n",
       "      <td>1.017362</td>\n",
       "      <td>0.130922</td>\n",
       "      <td>0.366475</td>\n",
       "      <td>0.107337</td>\n",
       "      <td>2.385129e-03</td>\n",
       "      <td>0.295665</td>\n",
       "      <td>0.011685</td>\n",
       "      <td>0.098242</td>\n",
       "    </tr>\n",
       "    <tr>\n",
       "      <th>11</th>\n",
       "      <td>11</td>\n",
       "      <td>45.777654</td>\n",
       "      <td>10.762002</td>\n",
       "      <td>21.024044</td>\n",
       "      <td>7.605732</td>\n",
       "      <td>7.149565</td>\n",
       "      <td>2.382857</td>\n",
       "      <td>0.990185</td>\n",
       "      <td>0.094586</td>\n",
       "      <td>0.276972</td>\n",
       "      <td>0.127751</td>\n",
       "      <td>3.473076e-09</td>\n",
       "      <td>0.222265</td>\n",
       "      <td>0.010130</td>\n",
       "      <td>0.078144</td>\n",
       "    </tr>\n",
       "    <tr>\n",
       "      <th>12</th>\n",
       "      <td>12</td>\n",
       "      <td>53.726985</td>\n",
       "      <td>11.908767</td>\n",
       "      <td>21.851060</td>\n",
       "      <td>7.568678</td>\n",
       "      <td>7.620091</td>\n",
       "      <td>2.170000</td>\n",
       "      <td>1.026488</td>\n",
       "      <td>0.156558</td>\n",
       "      <td>0.323024</td>\n",
       "      <td>0.106462</td>\n",
       "      <td>1.026603e-03</td>\n",
       "      <td>0.250585</td>\n",
       "      <td>0.008252</td>\n",
       "      <td>0.085990</td>\n",
       "    </tr>\n",
       "    <tr>\n",
       "      <th>13</th>\n",
       "      <td>13</td>\n",
       "      <td>48.752319</td>\n",
       "      <td>9.950238</td>\n",
       "      <td>18.283190</td>\n",
       "      <td>7.977017</td>\n",
       "      <td>7.077144</td>\n",
       "      <td>2.146667</td>\n",
       "      <td>0.967655</td>\n",
       "      <td>0.130129</td>\n",
       "      <td>0.327657</td>\n",
       "      <td>0.109854</td>\n",
       "      <td>8.545488e-03</td>\n",
       "      <td>0.264874</td>\n",
       "      <td>0.007666</td>\n",
       "      <td>0.094808</td>\n",
       "    </tr>\n",
       "  </tbody>\n",
       "</table>\n",
       "</div>"
      ],
      "text/plain": [
       "    zip_code    avg_inc     avg_SS  avg_itemized  avg_unemp  avg_mort_intr  \\\n",
       "0          0  60.891937  12.351555     26.158858   7.114837       9.953748   \n",
       "10        10  55.922672  11.008976     20.113773   8.416990       7.691459   \n",
       "11        11  45.777654  10.762002     21.024044   7.605732       7.149565   \n",
       "12        12  53.726985  11.908767     21.851060   7.568678       7.620091   \n",
       "13        13  48.752319   9.950238     18.283190   7.977017       7.077144   \n",
       "\n",
       "     avg_edu  avg_st_loans   prop_SS  prop_itemized  prop_unemp     prop_farm  \\\n",
       "0   2.228984      1.013651  0.118443       0.326262    0.089928  1.202177e-02   \n",
       "10  2.277419      1.017362  0.130922       0.366475    0.107337  2.385129e-03   \n",
       "11  2.382857      0.990185  0.094586       0.276972    0.127751  3.473076e-09   \n",
       "12  2.170000      1.026488  0.156558       0.323024    0.106462  1.026603e-03   \n",
       "13  2.146667      0.967655  0.130129       0.327657    0.109854  8.545488e-03   \n",
       "\n",
       "    prop_mort_intr  prop_edu  prop_st_loans  \n",
       "0         0.249079  0.011627       0.078936  \n",
       "10        0.295665  0.011685       0.098242  \n",
       "11        0.222265  0.010130       0.078144  \n",
       "12        0.250585  0.008252       0.085990  \n",
       "13        0.264874  0.007666       0.094808  "
      ]
     },
     "execution_count": 8,
     "metadata": {},
     "output_type": "execute_result"
    }
   ],
   "source": [
    "#Drop unnecessary columns from zipcode data\n",
    "zip_data.drop(['adj_gross_inc', 'amt_SS', 'amt_edu', 'amt_itemized',\n",
    "       'amt_mort_intr', 'amt_st_loans', 'amt_unemp', 'n_SS', 'n_edu',\n",
    "       'n_farm', 'n_itemized', 'n_mort_intr', 'n_returns', 'n_st_loans',\n",
    "       'n_unemp'], axis = 1, inplace=True)\n",
    "#Rename the zipcd column so that we can do a join\n",
    "zip_data.rename(columns = {'zipcd':'zip_code'}, inplace = True)\n",
    "zip_data.head()"
   ]
  },
  {
   "cell_type": "code",
   "execution_count": 9,
   "metadata": {
    "collapsed": false
   },
   "outputs": [],
   "source": [
    "#Join zipcode data to loan data on zip_code\n",
    "loans = loans.join(zip_data, on = 'zip_code', rsuffix = 'r')\n",
    "loans.drop('zip_coder', axis = 1, inplace = True)"
   ]
  },
  {
   "cell_type": "markdown",
   "metadata": {},
   "source": [
    "Look at the effects of the features extracted from the zipcode data (note that dollar amounts are in thousands):\n",
    "avg_inc, avg_SS, avg_itemized, avg_unemp, avg_mort_intr, avg_edu, avg_st_loans, prop_SS,\n",
    "prop_itemized, prop_unemp, prop_farm, prop_mort_intr, prop_edu, prop_st_loans"
   ]
  },
  {
   "cell_type": "code",
   "execution_count": 25,
   "metadata": {
    "collapsed": false
   },
   "outputs": [
    {
     "data": {
      "text/plain": [
       "loan_status\n",
       "Charged Off    56.675219\n",
       "Fully Paid     58.896681\n",
       "Name: avg_inc, dtype: float64"
      ]
     },
     "execution_count": 25,
     "metadata": {},
     "output_type": "execute_result"
    }
   ],
   "source": [
    "#Average income of the region\n",
    "reg_inc_paid_med = loans[loans.loan_status == 'Fully Paid'].avg_inc.median()\n",
    "reg_inc_chrg_med = loans[loans.loan_status == 'Charged Off'].avg_inc.median()\n",
    "\n",
    "loans.groupby('loan_status').avg_inc.median()"
   ]
  },
  {
   "cell_type": "code",
   "execution_count": 26,
   "metadata": {
    "collapsed": false
   },
   "outputs": [
    {
     "data": {
      "text/plain": [
       "1.0391963486496827"
      ]
     },
     "execution_count": 26,
     "metadata": {},
     "output_type": "execute_result"
    }
   ],
   "source": [
    "#Effect size\n",
    "reg_inc_paid_med / reg_inc_chrg_med\n",
    "#Small effect"
   ]
  },
  {
   "cell_type": "code",
   "execution_count": 27,
   "metadata": {
    "collapsed": false
   },
   "outputs": [
    {
     "data": {
      "text/plain": [
       "[1.8863152713123483, 2.3915383968174089]"
      ]
     },
     "execution_count": 27,
     "metadata": {},
     "output_type": "execute_result"
    }
   ],
   "source": [
    "#Bootstrap\n",
    "prct = ut.med_diff_bootstrap(loans[loans.loan_status == 'Fully Paid'].avg_inc,\n",
    "                              loans[loans.loan_status == 'Charged Off'].avg_inc, 99.5, 0.5)\n",
    "prct\n",
    "#Reliable"
   ]
  },
  {
   "cell_type": "code",
   "execution_count": 28,
   "metadata": {
    "collapsed": false
   },
   "outputs": [
    {
     "data": {
      "text/plain": [
       "loan_status\n",
       "Charged Off    12.280081\n",
       "Fully Paid     12.424060\n",
       "Name: avg_SS, dtype: float64"
      ]
     },
     "execution_count": 28,
     "metadata": {},
     "output_type": "execute_result"
    }
   ],
   "source": [
    "#Average SS income of the region\n",
    "SS_paid_med = loans[loans.loan_status == 'Fully Paid'].avg_SS.median()\n",
    "SS_chrg_med = loans[loans.loan_status == 'Charged Off'].avg_SS.median()\n",
    "\n",
    "loans.groupby('loan_status').avg_SS.median()"
   ]
  },
  {
   "cell_type": "code",
   "execution_count": 29,
   "metadata": {
    "collapsed": false
   },
   "outputs": [
    {
     "data": {
      "text/plain": [
       "1.011724574159853"
      ]
     },
     "execution_count": 29,
     "metadata": {},
     "output_type": "execute_result"
    }
   ],
   "source": [
    "#Effect size\n",
    "SS_paid_med / SS_chrg_med\n",
    "#very small effect"
   ]
  },
  {
   "cell_type": "code",
   "execution_count": 30,
   "metadata": {
    "collapsed": false
   },
   "outputs": [
    {
     "data": {
      "text/plain": [
       "[0.11135745256081719, 0.18167845421086959]"
      ]
     },
     "execution_count": 30,
     "metadata": {},
     "output_type": "execute_result"
    }
   ],
   "source": [
    "#Bootstrap\n",
    "prct = ut.med_diff_bootstrap(loans[loans.loan_status == 'Fully Paid'].avg_SS,\n",
    "                              loans[loans.loan_status == 'Charged Off'].avg_SS, 99.5, 0.5)\n",
    "prct\n",
    "#Reliable"
   ]
  },
  {
   "cell_type": "code",
   "execution_count": 31,
   "metadata": {
    "collapsed": false
   },
   "outputs": [
    {
     "data": {
      "text/plain": [
       "loan_status\n",
       "Charged Off    23.752441\n",
       "Fully Paid     24.310692\n",
       "Name: avg_itemized, dtype: float64"
      ]
     },
     "execution_count": 31,
     "metadata": {},
     "output_type": "execute_result"
    }
   ],
   "source": [
    "#Average amount itemized\n",
    "item_paid_med = loans[loans.loan_status == 'Fully Paid'].avg_itemized.median()\n",
    "item_chrg_med = loans[loans.loan_status == 'Charged Off'].avg_itemized.median()\n",
    "\n",
    "loans.groupby('loan_status').avg_itemized.median()\n"
   ]
  },
  {
   "cell_type": "code",
   "execution_count": 32,
   "metadata": {
    "collapsed": false
   },
   "outputs": [
    {
     "data": {
      "text/plain": [
       "1.0235028790934877"
      ]
     },
     "execution_count": 32,
     "metadata": {},
     "output_type": "execute_result"
    }
   ],
   "source": [
    "#Effect size\n",
    "item_paid_med / item_chrg_med\n",
    "#Small effect"
   ]
  },
  {
   "cell_type": "code",
   "execution_count": 33,
   "metadata": {
    "collapsed": false
   },
   "outputs": [
    {
     "data": {
      "text/plain": [
       "[0.44778617172055846, 0.65321314892618076]"
      ]
     },
     "execution_count": 33,
     "metadata": {},
     "output_type": "execute_result"
    }
   ],
   "source": [
    "#Bootstrap\n",
    "prct = ut.med_diff_bootstrap(loans[loans.loan_status == 'Fully Paid'].avg_itemized,\n",
    "                              loans[loans.loan_status == 'Charged Off'].avg_itemized, 99.5, 0.5)\n",
    "prct\n",
    "#Reliable"
   ]
  },
  {
   "cell_type": "code",
   "execution_count": 34,
   "metadata": {
    "collapsed": false
   },
   "outputs": [
    {
     "data": {
      "text/plain": [
       "loan_status\n",
       "Charged Off    7.325424\n",
       "Fully Paid     7.379383\n",
       "Name: avg_unemp, dtype: float64"
      ]
     },
     "execution_count": 34,
     "metadata": {},
     "output_type": "execute_result"
    }
   ],
   "source": [
    "#Average amount of taxable unemployment compensation\n",
    "unemp_paid_med = loans[loans.loan_status == 'Fully Paid'].avg_unemp.median()\n",
    "unemp_chrg_med = loans[loans.loan_status == 'Charged Off'].avg_unemp.median()\n",
    "\n",
    "loans.groupby('loan_status').avg_unemp.median()"
   ]
  },
  {
   "cell_type": "code",
   "execution_count": 35,
   "metadata": {
    "collapsed": false
   },
   "outputs": [
    {
     "data": {
      "text/plain": [
       "1.0073659840336695"
      ]
     },
     "execution_count": 35,
     "metadata": {},
     "output_type": "execute_result"
    }
   ],
   "source": [
    "#Effect size\n",
    "unemp_paid_med / unemp_chrg_med\n",
    "#Very small effect"
   ]
  },
  {
   "cell_type": "code",
   "execution_count": 36,
   "metadata": {
    "collapsed": false
   },
   "outputs": [
    {
     "data": {
      "text/plain": [
       "[0.037183010065774624, 0.089849978490889271]"
      ]
     },
     "execution_count": 36,
     "metadata": {},
     "output_type": "execute_result"
    }
   ],
   "source": [
    "#Bootstrap\n",
    "prct = ut.med_diff_bootstrap(loans[loans.loan_status == 'Fully Paid'].avg_unemp,\n",
    "                              loans[loans.loan_status == 'Charged Off'].avg_unemp, 99.5, 0.5)\n",
    "prct\n",
    "#Reliable"
   ]
  },
  {
   "cell_type": "code",
   "execution_count": 37,
   "metadata": {
    "collapsed": false
   },
   "outputs": [
    {
     "data": {
      "text/plain": [
       "loan_status\n",
       "Charged Off    9.765733\n",
       "Fully Paid     9.910703\n",
       "Name: avg_mort_intr, dtype: float64"
      ]
     },
     "execution_count": 37,
     "metadata": {},
     "output_type": "execute_result"
    }
   ],
   "source": [
    "#Average amount of mortgage interest deductions\n",
    "mort_intr_paid_med = loans[loans.loan_status == 'Fully Paid'].avg_mort_intr.median()\n",
    "mort_intr_chrg_med = loans[loans.loan_status == 'Charged Off'].avg_mort_intr.median()\n",
    "\n",
    "loans.groupby('loan_status').avg_mort_intr.median()"
   ]
  },
  {
   "cell_type": "code",
   "execution_count": 38,
   "metadata": {
    "collapsed": false
   },
   "outputs": [
    {
     "data": {
      "text/plain": [
       "1.0148447361292101"
      ]
     },
     "execution_count": 38,
     "metadata": {},
     "output_type": "execute_result"
    }
   ],
   "source": [
    "#Effect size\n",
    "mort_intr_paid_med / mort_intr_chrg_med\n",
    "#Small effect"
   ]
  },
  {
   "cell_type": "code",
   "execution_count": 39,
   "metadata": {
    "collapsed": false
   },
   "outputs": [
    {
     "data": {
      "text/plain": [
       "[0.13791472791523773, 0.21836008908643834]"
      ]
     },
     "execution_count": 39,
     "metadata": {},
     "output_type": "execute_result"
    }
   ],
   "source": [
    "#Bootstrap\n",
    "prct = ut.med_diff_bootstrap(loans[loans.loan_status == 'Fully Paid'].avg_mort_intr,\n",
    "                              loans[loans.loan_status == 'Charged Off'].avg_mort_intr, 99.5, 0.5)\n",
    "prct\n",
    "#Reliable"
   ]
  },
  {
   "cell_type": "code",
   "execution_count": 40,
   "metadata": {
    "collapsed": false
   },
   "outputs": [
    {
     "data": {
      "text/plain": [
       "loan_status\n",
       "Charged Off    2.220000\n",
       "Fully Paid     2.217544\n",
       "Name: avg_edu, dtype: float64"
      ]
     },
     "execution_count": 40,
     "metadata": {},
     "output_type": "execute_result"
    }
   ],
   "source": [
    "#Average amount of educational credit\n",
    "edu_paid_med = loans[loans.loan_status == 'Fully Paid'].avg_edu.median()\n",
    "edu_chrg_med = loans[loans.loan_status == 'Charged Off'].avg_edu.median()\n",
    "\n",
    "loans.groupby('loan_status').avg_edu.median()"
   ]
  },
  {
   "cell_type": "code",
   "execution_count": 41,
   "metadata": {
    "collapsed": false
   },
   "outputs": [
    {
     "data": {
      "text/plain": [
       "1.001107594936709"
      ]
     },
     "execution_count": 41,
     "metadata": {},
     "output_type": "execute_result"
    }
   ],
   "source": [
    "#Effect size\n",
    "edu_chrg_med / edu_paid_med\n",
    "#Extremely small, no way this should be reliable"
   ]
  },
  {
   "cell_type": "code",
   "execution_count": 42,
   "metadata": {
    "collapsed": false
   },
   "outputs": [
    {
     "data": {
      "text/plain": [
       "[-0.0020639834881324148, 0.010758027143330295]"
      ]
     },
     "execution_count": 42,
     "metadata": {},
     "output_type": "execute_result"
    }
   ],
   "source": [
    "#Bootstrap\n",
    "prct = ut.med_diff_bootstrap(loans[loans.loan_status == 'Charged Off'].avg_edu,\n",
    "                              loans[loans.loan_status == 'Fully Paid'].avg_edu, 99.5, 0.5)\n",
    "prct\n",
    "#Not Reliable"
   ]
  },
  {
   "cell_type": "code",
   "execution_count": 43,
   "metadata": {
    "collapsed": false
   },
   "outputs": [
    {
     "data": {
      "text/plain": [
       "loan_status\n",
       "Charged Off    1.006260\n",
       "Fully Paid     1.007403\n",
       "Name: avg_st_loans, dtype: float64"
      ]
     },
     "execution_count": 43,
     "metadata": {},
     "output_type": "execute_result"
    }
   ],
   "source": [
    "#Average amount of student loan deduction\n",
    "st_loans_paid_med = loans[loans.loan_status == 'Fully Paid'].avg_st_loans.median()\n",
    "st_loans_chrg_med = loans[loans.loan_status == 'Charged Off'].avg_st_loans.median()\n",
    "\n",
    "loans.groupby('loan_status').avg_st_loans.median()"
   ]
  },
  {
   "cell_type": "code",
   "execution_count": 44,
   "metadata": {
    "collapsed": false
   },
   "outputs": [
    {
     "data": {
      "text/plain": [
       "1.0011355277469616"
      ]
     },
     "execution_count": 44,
     "metadata": {},
     "output_type": "execute_result"
    }
   ],
   "source": [
    "#Effect size\n",
    "st_loans_paid_med / st_loans_chrg_med\n",
    "#Very small, shouldn't be reliable"
   ]
  },
  {
   "cell_type": "code",
   "execution_count": 45,
   "metadata": {
    "collapsed": false
   },
   "outputs": [
    {
     "data": {
      "text/plain": [
       "[-0.0017925058038980642, -0.00069192448465127399]"
      ]
     },
     "execution_count": 45,
     "metadata": {},
     "output_type": "execute_result"
    }
   ],
   "source": [
    "#Bootstrap\n",
    "prct = ut.med_diff_bootstrap(loans[loans.loan_status == 'Charged Off'].avg_st_loans,\n",
    "                              loans[loans.loan_status == 'Fully Paid'].avg_st_loans, 99.5, 0.5)\n",
    "prct\n",
    "#So close, I'm ignoring it"
   ]
  },
  {
   "cell_type": "code",
   "execution_count": 46,
   "metadata": {
    "collapsed": false
   },
   "outputs": [
    {
     "data": {
      "text/plain": [
       "loan_status\n",
       "Charged Off    0.118104\n",
       "Fully Paid     0.116293\n",
       "Name: prop_SS, dtype: float64"
      ]
     },
     "execution_count": 46,
     "metadata": {},
     "output_type": "execute_result"
    }
   ],
   "source": [
    "#Proportion of SS returns\n",
    "p_SS_paid_med = loans[loans.loan_status == 'Fully Paid'].prop_SS.median()\n",
    "p_SS_chrg_med = loans[loans.loan_status == 'Charged Off'].prop_SS.median()\n",
    "\n",
    "loans.groupby('loan_status').prop_SS.median()"
   ]
  },
  {
   "cell_type": "code",
   "execution_count": 47,
   "metadata": {
    "collapsed": false
   },
   "outputs": [
    {
     "data": {
      "text/plain": [
       "1.0155693170677838"
      ]
     },
     "execution_count": 47,
     "metadata": {},
     "output_type": "execute_result"
    }
   ],
   "source": [
    "#Effect size\n",
    "p_SS_chrg_med / p_SS_paid_med\n",
    "#Small effect"
   ]
  },
  {
   "cell_type": "code",
   "execution_count": 48,
   "metadata": {
    "collapsed": false
   },
   "outputs": [
    {
     "data": {
      "text/plain": [
       "[0.00035456217134922918, 0.0024302380466321161]"
      ]
     },
     "execution_count": 48,
     "metadata": {},
     "output_type": "execute_result"
    }
   ],
   "source": [
    "#Bootstrap\n",
    "prct = ut.med_diff_bootstrap(loans[loans.loan_status == 'Charged Off'].prop_SS,\n",
    "                              loans[loans.loan_status == 'Fully Paid'].prop_SS, 99.5, 0.5)\n",
    "prct\n",
    "#Reliable"
   ]
  },
  {
   "cell_type": "code",
   "execution_count": 49,
   "metadata": {
    "collapsed": false
   },
   "outputs": [
    {
     "data": {
      "text/plain": [
       "loan_status\n",
       "Charged Off    0.33108\n",
       "Fully Paid     0.34438\n",
       "Name: prop_itemized, dtype: float64"
      ]
     },
     "execution_count": 49,
     "metadata": {},
     "output_type": "execute_result"
    }
   ],
   "source": [
    "#Proportion of itemized returns\n",
    "p_item_paid_med = loans[loans.loan_status == 'Fully Paid'].prop_itemized.median()\n",
    "p_item_chrg_med = loans[loans.loan_status == 'Charged Off'].prop_itemized.median()\n",
    "\n",
    "loans.groupby('loan_status').prop_itemized.median()"
   ]
  },
  {
   "cell_type": "code",
   "execution_count": 50,
   "metadata": {
    "collapsed": false
   },
   "outputs": [
    {
     "data": {
      "text/plain": [
       "1.0401716803704948"
      ]
     },
     "execution_count": 50,
     "metadata": {},
     "output_type": "execute_result"
    }
   ],
   "source": [
    "#Effect Size\n",
    "p_item_paid_med / p_item_chrg_med\n",
    "#Small effect"
   ]
  },
  {
   "cell_type": "code",
   "execution_count": 51,
   "metadata": {
    "collapsed": false
   },
   "outputs": [
    {
     "data": {
      "text/plain": [
       "[0.010438340664018275, 0.014080862420544051]"
      ]
     },
     "execution_count": 51,
     "metadata": {},
     "output_type": "execute_result"
    }
   ],
   "source": [
    "#Bootstrap\n",
    "prct = ut.med_diff_bootstrap(loans[loans.loan_status == 'Fully Paid'].prop_itemized,\n",
    "                              loans[loans.loan_status == 'Charged Off'].prop_itemized, 99.5, 0.5)\n",
    "prct\n",
    "#Reliable"
   ]
  },
  {
   "cell_type": "code",
   "execution_count": 52,
   "metadata": {
    "collapsed": false
   },
   "outputs": [
    {
     "data": {
      "text/plain": [
       "loan_status\n",
       "Charged Off    0.089548\n",
       "Fully Paid     0.087252\n",
       "Name: prop_unemp, dtype: float64"
      ]
     },
     "execution_count": 52,
     "metadata": {},
     "output_type": "execute_result"
    }
   ],
   "source": [
    "#Proportion of unemployment compensation returns\n",
    "p_item_paid_med = loans[loans.loan_status == 'Fully Paid'].prop_unemp.median()\n",
    "p_item_chrg_med = loans[loans.loan_status == 'Charged Off'].prop_unemp.median()\n",
    "\n",
    "loans.groupby('loan_status').prop_unemp.median()"
   ]
  },
  {
   "cell_type": "code",
   "execution_count": 53,
   "metadata": {
    "collapsed": false
   },
   "outputs": [
    {
     "data": {
      "text/plain": [
       "1.0263089682710889"
      ]
     },
     "execution_count": 53,
     "metadata": {},
     "output_type": "execute_result"
    }
   ],
   "source": [
    "#Effect size\n",
    "p_item_chrg_med / p_item_paid_med\n",
    "#Small effect"
   ]
  },
  {
   "cell_type": "code",
   "execution_count": 54,
   "metadata": {
    "collapsed": false
   },
   "outputs": [
    {
     "data": {
      "text/plain": [
       "[0.0009472731122621425, 0.0035332816514737631]"
      ]
     },
     "execution_count": 54,
     "metadata": {},
     "output_type": "execute_result"
    }
   ],
   "source": [
    "#Bootstrap\n",
    "prct = ut.med_diff_bootstrap(loans[loans.loan_status == 'Charged Off'].prop_unemp,\n",
    "                              loans[loans.loan_status == 'Fully Paid'].prop_unemp, 99.5, 0.5)\n",
    "prct\n",
    "#Reliable"
   ]
  },
  {
   "cell_type": "code",
   "execution_count": 55,
   "metadata": {
    "collapsed": false
   },
   "outputs": [
    {
     "data": {
      "text/plain": [
       "loan_status\n",
       "Charged Off    0.002074\n",
       "Fully Paid     0.002046\n",
       "Name: prop_farm, dtype: float64"
      ]
     },
     "execution_count": 55,
     "metadata": {},
     "output_type": "execute_result"
    }
   ],
   "source": [
    "#Proportion of farm returns\n",
    "p_farm_paid_med = loans[loans.loan_status == 'Fully Paid'].prop_farm.median()\n",
    "p_farm_chrg_med = loans[loans.loan_status == 'Charged Off'].prop_farm.median()\n",
    "\n",
    "loans.groupby('loan_status').prop_farm.median()"
   ]
  },
  {
   "cell_type": "code",
   "execution_count": 56,
   "metadata": {
    "collapsed": false
   },
   "outputs": [
    {
     "data": {
      "text/plain": [
       "1.0138264923382068"
      ]
     },
     "execution_count": 56,
     "metadata": {},
     "output_type": "execute_result"
    }
   ],
   "source": [
    "#Effect size\n",
    "p_farm_chrg_med / p_farm_paid_med\n",
    "#Small effect"
   ]
  },
  {
   "cell_type": "code",
   "execution_count": 57,
   "metadata": {
    "collapsed": false
   },
   "outputs": [
    {
     "data": {
      "text/plain": [
       "[0.0, 0.00014550664520866438]"
      ]
     },
     "execution_count": 57,
     "metadata": {},
     "output_type": "execute_result"
    }
   ],
   "source": [
    "#Bootstrap\n",
    "prct = ut.med_diff_bootstrap(loans[loans.loan_status == 'Charged Off'].prop_farm,\n",
    "                              loans[loans.loan_status == 'Fully Paid'].prop_farm, 99.5, 0.5)\n",
    "prct\n",
    "#Not Reliable"
   ]
  },
  {
   "cell_type": "code",
   "execution_count": 58,
   "metadata": {
    "collapsed": false
   },
   "outputs": [
    {
     "data": {
      "text/plain": [
       "loan_status\n",
       "Charged Off    0.258684\n",
       "Fully Paid     0.262168\n",
       "Name: prop_mort_intr, dtype: float64"
      ]
     },
     "execution_count": 58,
     "metadata": {},
     "output_type": "execute_result"
    }
   ],
   "source": [
    "#Proportion of mortgage interest deduction returns\n",
    "p_mort_intr_paid_med = loans[loans.loan_status == 'Fully Paid'].prop_mort_intr.median()\n",
    "p_mort_intr_chrg_med = loans[loans.loan_status == 'Charged Off'].prop_mort_intr.median()\n",
    "\n",
    "loans.groupby('loan_status').prop_mort_intr.median()"
   ]
  },
  {
   "cell_type": "code",
   "execution_count": 59,
   "metadata": {
    "collapsed": false
   },
   "outputs": [
    {
     "data": {
      "text/plain": [
       "1.0134684740890052"
      ]
     },
     "execution_count": 59,
     "metadata": {},
     "output_type": "execute_result"
    }
   ],
   "source": [
    "#Effect size\n",
    "p_mort_intr_paid_med / p_mort_intr_chrg_med\n",
    "#Small effect"
   ]
  },
  {
   "cell_type": "code",
   "execution_count": 60,
   "metadata": {
    "collapsed": false
   },
   "outputs": [
    {
     "data": {
      "text/plain": [
       "[0.0022454538489951603, 0.0056254303365271818]"
      ]
     },
     "execution_count": 60,
     "metadata": {},
     "output_type": "execute_result"
    }
   ],
   "source": [
    "#Bootstrap\n",
    "prct = ut.med_diff_bootstrap(loans[loans.loan_status == 'Fully Paid'].prop_mort_intr,\n",
    "                              loans[loans.loan_status == 'Charged Off'].prop_mort_intr, 99.5, 0.5)\n",
    "prct\n",
    "#Reliable"
   ]
  },
  {
   "cell_type": "code",
   "execution_count": 61,
   "metadata": {
    "collapsed": false
   },
   "outputs": [
    {
     "data": {
      "text/plain": [
       "loan_status\n",
       "Charged Off    0.012222\n",
       "Fully Paid     0.012526\n",
       "Name: prop_edu, dtype: float64"
      ]
     },
     "execution_count": 61,
     "metadata": {},
     "output_type": "execute_result"
    }
   ],
   "source": [
    "#Proportion of returns with an educational credit\n",
    "p_edu_paid_med = loans[loans.loan_status == 'Fully Paid'].prop_edu.median()\n",
    "p_edu_chrg_med = loans[loans.loan_status == 'Charged Off'].prop_edu.median()\n",
    "\n",
    "loans.groupby('loan_status').prop_edu.median()"
   ]
  },
  {
   "cell_type": "code",
   "execution_count": 62,
   "metadata": {
    "collapsed": false
   },
   "outputs": [
    {
     "data": {
      "text/plain": [
       "1.024879199906008"
      ]
     },
     "execution_count": 62,
     "metadata": {},
     "output_type": "execute_result"
    }
   ],
   "source": [
    "#Effect size\n",
    "p_edu_paid_med / p_edu_chrg_med\n",
    "#Small effect"
   ]
  },
  {
   "cell_type": "code",
   "execution_count": 63,
   "metadata": {
    "collapsed": false
   },
   "outputs": [
    {
     "data": {
      "text/plain": [
       "[0.00026288811239375334, 0.00033951059520473392]"
      ]
     },
     "execution_count": 63,
     "metadata": {},
     "output_type": "execute_result"
    }
   ],
   "source": [
    "#Bootstrap\n",
    "prct = ut.med_diff_bootstrap(loans[loans.loan_status == 'Fully Paid'].prop_edu,\n",
    "                              loans[loans.loan_status == 'Charged Off'].prop_edu, 99.5, 0.5)\n",
    "prct\n",
    "#Reliable"
   ]
  },
  {
   "cell_type": "code",
   "execution_count": 64,
   "metadata": {
    "collapsed": false
   },
   "outputs": [
    {
     "data": {
      "text/plain": [
       "loan_status\n",
       "Charged Off    0.074606\n",
       "Fully Paid     0.076177\n",
       "Name: prop_st_loans, dtype: float64"
      ]
     },
     "execution_count": 64,
     "metadata": {},
     "output_type": "execute_result"
    }
   ],
   "source": [
    "#Proportion of returns with student loans\n",
    "p_st_loans_paid_med = loans[loans.loan_status == 'Fully Paid'].prop_st_loans.median()\n",
    "p_st_loans_chrg_med = loans[loans.loan_status == 'Charged Off'].prop_st_loans.median()\n",
    "\n",
    "loans.groupby('loan_status').prop_st_loans.median()"
   ]
  },
  {
   "cell_type": "code",
   "execution_count": 65,
   "metadata": {
    "collapsed": false
   },
   "outputs": [
    {
     "data": {
      "text/plain": [
       "1.0210597826086956"
      ]
     },
     "execution_count": 65,
     "metadata": {},
     "output_type": "execute_result"
    }
   ],
   "source": [
    "#Effect size\n",
    "p_st_loans_paid_med / p_st_loans_chrg_med\n",
    "#Small effect"
   ]
  },
  {
   "cell_type": "code",
   "execution_count": 66,
   "metadata": {
    "collapsed": false
   },
   "outputs": [
    {
     "data": {
      "text/plain": [
       "[0.0004610607198060751, 0.001899697461255942]"
      ]
     },
     "execution_count": 66,
     "metadata": {},
     "output_type": "execute_result"
    }
   ],
   "source": [
    "#Bootstrap\n",
    "prct = ut.med_diff_bootstrap(loans[loans.loan_status == 'Fully Paid'].prop_st_loans,\n",
    "                              loans[loans.loan_status == 'Charged Off'].prop_st_loans, 99.5, 0.5)\n",
    "prct\n",
    "#Reliable"
   ]
  },
  {
   "cell_type": "markdown",
   "metadata": {},
   "source": [
    "Zipcode Features:\n",
    "Reliable: avg_inc (small effect), avg_SS (very small), avg_itemized (small effect), avg_unemp (very small effect),\n",
    "avg_mort_intr (small effect), prop_SS (small effect), prop_itemized (small effect), prop_unemp (small effect), prop_mort_intr (small effect), prop_edu (small), prop_st_loans (small)\n",
    "\n",
    "\n",
    "Not Reliable: avg_edu, avg_st_loans, prop_farm, "
   ]
  },
  {
   "cell_type": "markdown",
   "metadata": {},
   "source": [
    "Work on text fields:\n",
    "desc, emp_title\n",
    "\n",
    "Half of desc are NaN, stopped being recorded 5/19/2014, makes it irrelevant\n",
    "Half of emp_titles are unique, also changes from company name to title, most common title accounts for less than 1% of the data\n",
    "\n",
    "NLP on desc and emp_titles doesn't seem like a good investment of time"
   ]
  },
  {
   "cell_type": "markdown",
   "metadata": {},
   "source": [
    "Work on dates:\n",
    "last_credit_pull_d, earliest_cr_line"
   ]
  },
  {
   "cell_type": "code",
   "execution_count": 5,
   "metadata": {
    "collapsed": false
   },
   "outputs": [
    {
     "data": {
      "text/plain": [
       "21"
      ]
     },
     "execution_count": 5,
     "metadata": {},
     "output_type": "execute_result"
    }
   ],
   "source": [
    "#Very few missing pull dates\n",
    "sum(loans.last_credit_pull_d.isnull())"
   ]
  },
  {
   "cell_type": "code",
   "execution_count": 6,
   "metadata": {
    "collapsed": false
   },
   "outputs": [
    {
     "data": {
      "text/plain": [
       "29"
      ]
     },
     "execution_count": 6,
     "metadata": {},
     "output_type": "execute_result"
    }
   ],
   "source": [
    "#Very few missing earliest credit lines\n",
    "sum(loans.earliest_cr_line.isnull())"
   ]
  },
  {
   "cell_type": "code",
   "execution_count": 9,
   "metadata": {
    "collapsed": false
   },
   "outputs": [],
   "source": [
    "import datetime as dt\n",
    "base_time = dt.datetime.now()\n",
    "\n",
    "cr_line = ut.parse_date_series(loans.earliest_cr_line)\n",
    "pl_date = ut.parse_date_series(loans.last_credit_pull_d)"
   ]
  },
  {
   "cell_type": "code",
   "execution_count": 10,
   "metadata": {
    "collapsed": false
   },
   "outputs": [],
   "source": [
    "#Fill null times with the current time\n",
    "cr_line.fillna(value = base_time, inplace = True)\n",
    "pl_date.fillna(value = base_time, inplace = True)"
   ]
  },
  {
   "cell_type": "code",
   "execution_count": 11,
   "metadata": {
    "collapsed": false
   },
   "outputs": [],
   "source": [
    "#Get the months since first credit and last credit pull\n",
    "cr_line_months = ut.months_since(base_time, cr_line)\n",
    "pl_date_months = ut.months_since(base_time, pl_date)"
   ]
  },
  {
   "cell_type": "code",
   "execution_count": 39,
   "metadata": {
    "collapsed": false,
    "scrolled": false
   },
   "outputs": [
    {
     "data": {
      "text/plain": [
       "29"
      ]
     },
     "execution_count": 39,
     "metadata": {},
     "output_type": "execute_result"
    }
   ],
   "source": [
    "#Check to see if there were zeros other than the original null values\n",
    "sum(cr_line_months == 0)"
   ]
  },
  {
   "cell_type": "code",
   "execution_count": 40,
   "metadata": {
    "collapsed": false
   },
   "outputs": [
    {
     "data": {
      "text/plain": [
       "21"
      ]
     },
     "execution_count": 40,
     "metadata": {},
     "output_type": "execute_result"
    }
   ],
   "source": [
    "sum(pl_date_months == 0)"
   ]
  },
  {
   "cell_type": "code",
   "execution_count": 12,
   "metadata": {
    "collapsed": false
   },
   "outputs": [],
   "source": [
    "#No zeros other than the values filled in\n",
    "#Change null values into the means\n",
    "cr_line_months.replace(to_replace=0, value=cr_line_months.mean(), inplace=True)\n",
    "pl_date_months.replace(to_replace=0, value=pl_date_months.mean(), inplace=True)"
   ]
  },
  {
   "cell_type": "code",
   "execution_count": 13,
   "metadata": {
    "collapsed": true
   },
   "outputs": [],
   "source": [
    "#Add the new columns to the data\n",
    "loans['erlst_cred'] = cr_line_months\n",
    "loans['last_cred_pl'] = pl_date_months"
   ]
  },
  {
   "cell_type": "code",
   "execution_count": 43,
   "metadata": {
    "collapsed": false
   },
   "outputs": [
    {
     "data": {
      "text/plain": [
       "loan_status\n",
       "Charged Off    197.148815\n",
       "Fully Paid     202.178946\n",
       "Name: erlst_cred, dtype: float64"
      ]
     },
     "execution_count": 43,
     "metadata": {},
     "output_type": "execute_result"
    }
   ],
   "source": [
    "#Number of months of credit\n",
    "earlst_cred_paid_med = loans[loans.loan_status == 'Fully Paid'].erlst_cred.median()\n",
    "earlst_cred_chrg_med = loans[loans.loan_status == 'Charged Off'].erlst_cred.median()\n",
    "\n",
    "loans.groupby('loan_status').erlst_cred.median()"
   ]
  },
  {
   "cell_type": "code",
   "execution_count": 44,
   "metadata": {
    "collapsed": false
   },
   "outputs": [
    {
     "data": {
      "text/plain": [
       "1.0255143885829572"
      ]
     },
     "execution_count": 44,
     "metadata": {},
     "output_type": "execute_result"
    }
   ],
   "source": [
    "#Effect Size\n",
    "earlst_cred_paid_med / earlst_cred_chrg_med\n",
    "#Small effect"
   ]
  },
  {
   "cell_type": "code",
   "execution_count": 46,
   "metadata": {
    "collapsed": false
   },
   "outputs": [
    {
     "data": {
      "text/plain": [
       "[4.0438311848425315, 7.0356087281000157]"
      ]
     },
     "execution_count": 46,
     "metadata": {},
     "output_type": "execute_result"
    }
   ],
   "source": [
    "#Bootstrap\n",
    "prct = ut.med_diff_bootstrap(loans[loans.loan_status == 'Fully Paid'].erlst_cred,\n",
    "                              loans[loans.loan_status == 'Charged Off'].erlst_cred, 99.5, 0.5)\n",
    "prct\n",
    "#Reliable"
   ]
  },
  {
   "cell_type": "code",
   "execution_count": 55,
   "metadata": {
    "collapsed": false
   },
   "outputs": [
    {
     "name": "stdout",
     "output_type": "stream",
     "text": [
      "ERROR! Session/line number was not unique in database. History logging moved to new session 157\n"
     ]
    },
    {
     "data": {
      "text/plain": [
       "loan_status\n",
       "Charged Off    3.505192\n",
       "Fully Paid     5.017519\n",
       "Name: last_cred_pl, dtype: float64"
      ]
     },
     "execution_count": 55,
     "metadata": {},
     "output_type": "execute_result"
    }
   ],
   "source": [
    "#Time since last credit pull\n",
    "last_cred_paid_med = loans[loans.loan_status == 'Fully Paid'].last_cred_pl.median()\n",
    "last_cred_cred_chrg_med = loans[loans.loan_status == 'Charged Off'].last_cred_pl.median()\n",
    "\n",
    "loans.groupby('loan_status').last_cred_pl.median()"
   ]
  },
  {
   "cell_type": "code",
   "execution_count": 56,
   "metadata": {
    "collapsed": false
   },
   "outputs": [
    {
     "data": {
      "text/plain": [
       "1.431453482973929"
      ]
     },
     "execution_count": 56,
     "metadata": {},
     "output_type": "execute_result"
    }
   ],
   "source": [
    "#Effect size\n",
    "last_cred_paid_med / last_cred_cred_chrg_med\n",
    "#Large Effect"
   ]
  },
  {
   "cell_type": "code",
   "execution_count": 61,
   "metadata": {
    "collapsed": false
   },
   "outputs": [
    {
     "data": {
      "text/plain": [
       "count    199885.000000\n",
       "mean         10.278077\n",
       "std          11.787821\n",
       "min           3.012041\n",
       "25%           3.012041\n",
       "50%           5.017519\n",
       "75%          12.546278\n",
       "max         106.606448\n",
       "Name: last_cred_pl, dtype: float64"
      ]
     },
     "execution_count": 61,
     "metadata": {},
     "output_type": "execute_result"
    }
   ],
   "source": [
    "loans[loans.loan_status == 'Fully Paid'].last_cred_pl.describe()"
   ]
  },
  {
   "cell_type": "code",
   "execution_count": 62,
   "metadata": {
    "collapsed": false
   },
   "outputs": [
    {
     "data": {
      "text/plain": [
       "count    45114.000000\n",
       "mean        11.385819\n",
       "std         12.632813\n",
       "min          3.012041\n",
       "25%          3.012041\n",
       "50%          3.505192\n",
       "75%         15.998329\n",
       "max        102.562617\n",
       "Name: last_cred_pl, dtype: float64"
      ]
     },
     "execution_count": 62,
     "metadata": {},
     "output_type": "execute_result"
    }
   ],
   "source": [
    "loans[loans.loan_status == 'Charged Off'].last_cred_pl.describe()"
   ]
  },
  {
   "cell_type": "code",
   "execution_count": 63,
   "metadata": {
    "collapsed": false
   },
   "outputs": [
    {
     "data": {
      "text/plain": [
       "[1.5123271097785103, 1.5123271097785103]"
      ]
     },
     "execution_count": 63,
     "metadata": {},
     "output_type": "execute_result"
    }
   ],
   "source": [
    "#Bootstrap\n",
    "prct = ut.med_diff_bootstrap(loans[loans.loan_status == 'Fully Paid'].last_cred_pl,\n",
    "                              loans[loans.loan_status == 'Charged Off'].last_cred_pl, 99.5, 0.5, reps = 100)\n",
    "prct\n",
    "#Reliable\n",
    "#Strange behavior on bootstrapping, keep an eye on this variable"
   ]
  },
  {
   "cell_type": "markdown",
   "metadata": {},
   "source": [
    "Date fields\n",
    "Reliable: erlst_cred (small effect), last_cred_pl(large effect, strange)\n",
    "\n",
    "Not reliable:"
   ]
  },
  {
   "cell_type": "markdown",
   "metadata": {},
   "source": [
    "Numeric fields that require processing:\n",
    "emp_length, mths_since_last_delinq, mths_since_last_record, revol_util, mths_since_last_major_derog, total_credit_rv"
   ]
  },
  {
   "cell_type": "code",
   "execution_count": null,
   "metadata": {
    "collapsed": true
   },
   "outputs": [],
   "source": []
  },
  {
   "cell_type": "code",
   "execution_count": 14,
   "metadata": {
    "collapsed": true
   },
   "outputs": [],
   "source": [
    "#emp_length\n",
    "#Create a dictionary to change the year strings into numbers\n",
    "year_dict = {'emp_length':{'10+ years':10, '< 1 year':0, '3 years':3, '9 years':9, '4 years':4, '5 years':5,\n",
    "       '1 year':1, '6 years':6, '2 years':2, '7 years':7, '8 years':8, 'n/a':-1}}\n",
    "#Replace the year strings with numbers\n",
    "loans.replace(year_dict, inplace = True)"
   ]
  },
  {
   "cell_type": "code",
   "execution_count": 25,
   "metadata": {
    "collapsed": false
   },
   "outputs": [
    {
     "data": {
      "text/plain": [
       "loan_status\n",
       "Charged Off    5.773641\n",
       "Fully Paid     5.806348\n",
       "Name: emp_length, dtype: float64"
      ]
     },
     "execution_count": 25,
     "metadata": {},
     "output_type": "execute_result"
    }
   ],
   "source": [
    "#employment length\n",
    "emp_paid_mn = loans[loans.loan_status == 'Fully Paid'].emp_length.mean()\n",
    "emp_chrg_mn = loans[loans.loan_status == 'Charged Off'].emp_length.mean()\n",
    "\n",
    "loans.groupby('loan_status').emp_length.mean()"
   ]
  },
  {
   "cell_type": "code",
   "execution_count": 26,
   "metadata": {
    "collapsed": false
   },
   "outputs": [
    {
     "data": {
      "text/plain": [
       "1.0056649621395004"
      ]
     },
     "execution_count": 26,
     "metadata": {},
     "output_type": "execute_result"
    }
   ],
   "source": [
    "#Effect size\n",
    "emp_paid_mn / emp_chrg_mn\n",
    "#Very small effect"
   ]
  },
  {
   "cell_type": "code",
   "execution_count": 27,
   "metadata": {
    "collapsed": false
   },
   "outputs": [
    {
     "data": {
      "text/plain": [
       "[-0.081428922288216909, 0.016252776422998692]"
      ]
     },
     "execution_count": 27,
     "metadata": {},
     "output_type": "execute_result"
    }
   ],
   "source": [
    "#Bootstrap\n",
    "prct = ut.mean_diff_bootstrap(loans[loans.loan_status == 'Charged Off'].emp_length,\n",
    "                              loans[loans.loan_status == 'Fully Paid'].emp_length, 99.5, 0.5)\n",
    "prct\n",
    "#Not reliable"
   ]
  },
  {
   "cell_type": "code",
   "execution_count": 15,
   "metadata": {
    "collapsed": false
   },
   "outputs": [],
   "source": [
    "#nans are rare, there are no zeros, pretty sure nan is either a zero or decline to report\n",
    "#replace nans with 0%\n",
    "loans.revol_util.fillna('0%', inplace = True)\n",
    "\n",
    "#Create a dictionary to convert revol_util strings to floats\n",
    "revol_ut_dict = {revol_ut: float(revol_ut[0:-1]) for revol_ut in loans.revol_util.unique()}\n",
    "\n",
    "#Replace string revol_util with floats\n",
    "loans.replace(to_replace = {'revol_util': revol_ut_dict}, inplace = True)"
   ]
  },
  {
   "cell_type": "code",
   "execution_count": 39,
   "metadata": {
    "collapsed": false
   },
   "outputs": [
    {
     "data": {
      "text/plain": [
       "loan_status\n",
       "Charged Off    61.6\n",
       "Fully Paid     54.5\n",
       "Name: revol_util, dtype: float64"
      ]
     },
     "execution_count": 39,
     "metadata": {},
     "output_type": "execute_result"
    }
   ],
   "source": [
    "#revolving credit utilization\n",
    "rv_util_paid_med = loans[loans.loan_status == 'Fully Paid'].revol_util.median()\n",
    "rv_util_chrg_med = loans[loans.loan_status == 'Charged Off'].revol_util.median()\n",
    "\n",
    "loans.groupby('loan_status').revol_util.median()"
   ]
  },
  {
   "cell_type": "code",
   "execution_count": 40,
   "metadata": {
    "collapsed": false
   },
   "outputs": [
    {
     "data": {
      "text/plain": [
       "1.1302752293577982"
      ]
     },
     "execution_count": 40,
     "metadata": {},
     "output_type": "execute_result"
    }
   ],
   "source": [
    "#effect size\n",
    "rv_util_chrg_med / rv_util_paid_med\n",
    "#Modest effect"
   ]
  },
  {
   "cell_type": "code",
   "execution_count": 41,
   "metadata": {
    "collapsed": false
   },
   "outputs": [
    {
     "data": {
      "text/plain": [
       "[6.6000000000000014, 7.6000000000000014]"
      ]
     },
     "execution_count": 41,
     "metadata": {},
     "output_type": "execute_result"
    }
   ],
   "source": [
    "#Bootstrap\n",
    "prct = ut.med_diff_bootstrap(loans[loans.loan_status == 'Charged Off'].revol_util,\n",
    "                              loans[loans.loan_status == 'Fully Paid'].revol_util, 99.5, 0.5)\n",
    "prct\n",
    "#reliable"
   ]
  },
  {
   "cell_type": "code",
   "execution_count": 64,
   "metadata": {
    "collapsed": false
   },
   "outputs": [],
   "source": [
    "#Features requiring imputation\n",
    "#mths_since_last_delinq, mths_since_last_record, mths_since_last_major_derog, total_credit_rv, acc_now_delinq,\n"
   ]
  },
  {
   "cell_type": "code",
   "execution_count": 17,
   "metadata": {
    "collapsed": false
   },
   "outputs": [
    {
     "data": {
      "text/plain": [
       "Index([u'id', u'member_id', u'loan_amnt', u'funded_amnt', u'funded_amnt_inv',\n",
       "       u'term', u'int_rate', u'installment', u'grade', u'sub_grade',\n",
       "       u'emp_title', u'emp_length', u'home_ownership', u'annual_inc',\n",
       "       u'verification_status', u'issue_d', u'loan_status', u'pymnt_plan',\n",
       "       u'url', u'desc', u'purpose', u'title', u'zip_code', u'addr_state',\n",
       "       u'dti', u'delinq_2yrs', u'earliest_cr_line', u'inq_last_6mths',\n",
       "       u'mths_since_last_delinq', u'mths_since_last_record', u'open_acc',\n",
       "       u'pub_rec', u'revol_bal', u'revol_util', u'total_acc',\n",
       "       u'initial_list_status', u'out_prncp', u'out_prncp_inv', u'total_pymnt',\n",
       "       u'total_pymnt_inv', u'total_rec_prncp', u'total_rec_int',\n",
       "       u'total_rec_late_fee', u'recoveries', u'collection_recovery_fee',\n",
       "       u'last_pymnt_d', u'last_pymnt_amnt', u'next_pymnt_d',\n",
       "       u'last_credit_pull_d', u'collections_12_mths_ex_med',\n",
       "       u'mths_since_last_major_derog', u'policy_code', u'application_type',\n",
       "       u'annual_inc_joint', u'dti_joint', u'verification_status_joint',\n",
       "       u'acc_now_delinq', u'tot_coll_amt', u'tot_cur_bal', u'open_acc_6m',\n",
       "       u'open_il_6m', u'open_il_12m', u'open_il_24m', u'mths_since_rcnt_il',\n",
       "       u'total_bal_il', u'il_util', u'open_rv_12m', u'open_rv_24m',\n",
       "       u'max_bal_bc', u'all_util', u'total_credit_rv', u'inq_fi',\n",
       "       u'total_fi_tl', u'inq_last_12m', u'avg_inc', u'avg_SS', u'avg_itemized',\n",
       "       u'avg_unemp', u'avg_mort_intr', u'avg_edu', u'avg_st_loans', u'prop_SS',\n",
       "       u'prop_itemized', u'prop_unemp', u'prop_farm', u'prop_mort_intr',\n",
       "       u'prop_edu', u'prop_st_loans', u'erlst_cred', u'last_cred_pl'],\n",
       "      dtype='object')"
      ]
     },
     "execution_count": 17,
     "metadata": {},
     "output_type": "execute_result"
    }
   ],
   "source": [
    "#Begin by selecting out the relevant features\n",
    "loans.columns"
   ]
  },
  {
   "cell_type": "code",
   "execution_count": null,
   "metadata": {
    "collapsed": false
   },
   "outputs": [],
   "source": []
  },
  {
   "cell_type": "code",
   "execution_count": 23,
   "metadata": {
    "collapsed": true
   },
   "outputs": [],
   "source": [
    "#Drop all columns not being used\n",
    "drop_list = ['id', 'member_id', 'loan_amnt', 'funded_amnt', 'funded_amnt_inv', 'term', 'int_rate',\n",
    "            'int_rate', 'installment', 'grade', 'sub_grade', 'emp_title', 'verification_status', 'issue_d',\n",
    "            'pymnt_plan', 'url', 'desc', 'title', 'zip_code', 'addr_state', 'earliest_cr_line', 'initial_list_status',\n",
    "            'out_prncp', 'out_prncp_inv', 'total_pymnt', 'total_pymnt_inv', 'total_rec_prncp', 'total_rec_int',\n",
    "            'total_rec_late_fee', 'recoveries', 'collection_recovery_fee', 'last_pymnt_d', 'last_pymnt_amnt',\n",
    "            'next_pymnt_d', 'last_credit_pull_d', 'policy_code', 'application_type', 'annual_inc_joint',\n",
    "            'dti_joint', 'verification_status_joint', 'tot_cur_bal', 'open_acc_6m', 'open_il_6m', 'open_il_12m',\n",
    "            'open_il_24m', 'mths_since_rcnt_il', 'total_bal_il', 'il_util', 'open_rv_12m', 'open_rv_24m',\n",
    "            'total_bal_il', 'il_util', 'open_rv_12m', 'open_rv_24m','max_bal_bc', 'all_util',\n",
    "            'inq_fi', 'total_fi_tl', 'inq_last_12m']\n",
    "loans.drop(drop_list, axis = 1, inplace = True)"
   ]
  },
  {
   "cell_type": "code",
   "execution_count": 24,
   "metadata": {
    "collapsed": false
   },
   "outputs": [
    {
     "data": {
      "text/html": [
       "<div>\n",
       "<table border=\"1\" class=\"dataframe\">\n",
       "  <thead>\n",
       "    <tr style=\"text-align: right;\">\n",
       "      <th></th>\n",
       "      <th>emp_length</th>\n",
       "      <th>home_ownership</th>\n",
       "      <th>annual_inc</th>\n",
       "      <th>loan_status</th>\n",
       "      <th>purpose</th>\n",
       "      <th>dti</th>\n",
       "      <th>delinq_2yrs</th>\n",
       "      <th>inq_last_6mths</th>\n",
       "      <th>mths_since_last_delinq</th>\n",
       "      <th>mths_since_last_record</th>\n",
       "      <th>...</th>\n",
       "      <th>revol_bal</th>\n",
       "      <th>revol_util</th>\n",
       "      <th>total_acc</th>\n",
       "      <th>collections_12_mths_ex_med</th>\n",
       "      <th>mths_since_last_major_derog</th>\n",
       "      <th>acc_now_delinq</th>\n",
       "      <th>tot_coll_amt</th>\n",
       "      <th>total_credit_rv</th>\n",
       "      <th>erlst_cred</th>\n",
       "      <th>last_cred_pl</th>\n",
       "    </tr>\n",
       "  </thead>\n",
       "  <tbody>\n",
       "    <tr>\n",
       "      <th>0</th>\n",
       "      <td>10</td>\n",
       "      <td>RENT</td>\n",
       "      <td>24000</td>\n",
       "      <td>Fully Paid</td>\n",
       "      <td>credit_card</td>\n",
       "      <td>27.65</td>\n",
       "      <td>0</td>\n",
       "      <td>1</td>\n",
       "      <td>NaN</td>\n",
       "      <td>NaN</td>\n",
       "      <td>...</td>\n",
       "      <td>13648</td>\n",
       "      <td>83.7</td>\n",
       "      <td>9</td>\n",
       "      <td>0</td>\n",
       "      <td>NaN</td>\n",
       "      <td>0</td>\n",
       "      <td>NaN</td>\n",
       "      <td>NaN</td>\n",
       "      <td>374.744446</td>\n",
       "      <td>3.533894</td>\n",
       "    </tr>\n",
       "    <tr>\n",
       "      <th>1</th>\n",
       "      <td>0</td>\n",
       "      <td>RENT</td>\n",
       "      <td>30000</td>\n",
       "      <td>Charged Off</td>\n",
       "      <td>car</td>\n",
       "      <td>1.00</td>\n",
       "      <td>0</td>\n",
       "      <td>5</td>\n",
       "      <td>NaN</td>\n",
       "      <td>NaN</td>\n",
       "      <td>...</td>\n",
       "      <td>1687</td>\n",
       "      <td>9.4</td>\n",
       "      <td>4</td>\n",
       "      <td>0</td>\n",
       "      <td>NaN</td>\n",
       "      <td>0</td>\n",
       "      <td>NaN</td>\n",
       "      <td>NaN</td>\n",
       "      <td>203.687099</td>\n",
       "      <td>30.525645</td>\n",
       "    </tr>\n",
       "    <tr>\n",
       "      <th>2</th>\n",
       "      <td>10</td>\n",
       "      <td>RENT</td>\n",
       "      <td>12252</td>\n",
       "      <td>Fully Paid</td>\n",
       "      <td>small_business</td>\n",
       "      <td>8.72</td>\n",
       "      <td>0</td>\n",
       "      <td>2</td>\n",
       "      <td>NaN</td>\n",
       "      <td>NaN</td>\n",
       "      <td>...</td>\n",
       "      <td>2956</td>\n",
       "      <td>98.5</td>\n",
       "      <td>10</td>\n",
       "      <td>0</td>\n",
       "      <td>NaN</td>\n",
       "      <td>0</td>\n",
       "      <td>NaN</td>\n",
       "      <td>NaN</td>\n",
       "      <td>172.618640</td>\n",
       "      <td>3.533894</td>\n",
       "    </tr>\n",
       "    <tr>\n",
       "      <th>3</th>\n",
       "      <td>10</td>\n",
       "      <td>RENT</td>\n",
       "      <td>49200</td>\n",
       "      <td>Fully Paid</td>\n",
       "      <td>other</td>\n",
       "      <td>20.00</td>\n",
       "      <td>0</td>\n",
       "      <td>1</td>\n",
       "      <td>35</td>\n",
       "      <td>NaN</td>\n",
       "      <td>...</td>\n",
       "      <td>5598</td>\n",
       "      <td>21.0</td>\n",
       "      <td>37</td>\n",
       "      <td>0</td>\n",
       "      <td>NaN</td>\n",
       "      <td>0</td>\n",
       "      <td>NaN</td>\n",
       "      <td>NaN</td>\n",
       "      <td>241.659661</td>\n",
       "      <td>14.514704</td>\n",
       "    </tr>\n",
       "    <tr>\n",
       "      <th>5</th>\n",
       "      <td>3</td>\n",
       "      <td>RENT</td>\n",
       "      <td>36000</td>\n",
       "      <td>Fully Paid</td>\n",
       "      <td>wedding</td>\n",
       "      <td>11.20</td>\n",
       "      <td>0</td>\n",
       "      <td>3</td>\n",
       "      <td>NaN</td>\n",
       "      <td>NaN</td>\n",
       "      <td>...</td>\n",
       "      <td>7963</td>\n",
       "      <td>28.3</td>\n",
       "      <td>12</td>\n",
       "      <td>0</td>\n",
       "      <td>NaN</td>\n",
       "      <td>0</td>\n",
       "      <td>NaN</td>\n",
       "      <td>NaN</td>\n",
       "      <td>136.585803</td>\n",
       "      <td>6.525672</td>\n",
       "    </tr>\n",
       "  </tbody>\n",
       "</table>\n",
       "<p>5 rows × 22 columns</p>\n",
       "</div>"
      ],
      "text/plain": [
       "   emp_length home_ownership  annual_inc  loan_status         purpose    dti  \\\n",
       "0          10           RENT       24000   Fully Paid     credit_card  27.65   \n",
       "1           0           RENT       30000  Charged Off             car   1.00   \n",
       "2          10           RENT       12252   Fully Paid  small_business   8.72   \n",
       "3          10           RENT       49200   Fully Paid           other  20.00   \n",
       "5           3           RENT       36000   Fully Paid         wedding  11.20   \n",
       "\n",
       "   delinq_2yrs  inq_last_6mths  mths_since_last_delinq  \\\n",
       "0            0               1                     NaN   \n",
       "1            0               5                     NaN   \n",
       "2            0               2                     NaN   \n",
       "3            0               1                      35   \n",
       "5            0               3                     NaN   \n",
       "\n",
       "   mths_since_last_record      ...       revol_bal  revol_util  total_acc  \\\n",
       "0                     NaN      ...           13648        83.7          9   \n",
       "1                     NaN      ...            1687         9.4          4   \n",
       "2                     NaN      ...            2956        98.5         10   \n",
       "3                     NaN      ...            5598        21.0         37   \n",
       "5                     NaN      ...            7963        28.3         12   \n",
       "\n",
       "   collections_12_mths_ex_med  mths_since_last_major_derog  acc_now_delinq  \\\n",
       "0                           0                          NaN               0   \n",
       "1                           0                          NaN               0   \n",
       "2                           0                          NaN               0   \n",
       "3                           0                          NaN               0   \n",
       "5                           0                          NaN               0   \n",
       "\n",
       "   tot_coll_amt  total_credit_rv  erlst_cred  last_cred_pl  \n",
       "0           NaN              NaN  374.744446      3.533894  \n",
       "1           NaN              NaN  203.687099     30.525645  \n",
       "2           NaN              NaN  172.618640      3.533894  \n",
       "3           NaN              NaN  241.659661     14.514704  \n",
       "5           NaN              NaN  136.585803      6.525672  \n",
       "\n",
       "[5 rows x 22 columns]"
      ]
     },
     "execution_count": 24,
     "metadata": {},
     "output_type": "execute_result"
    }
   ],
   "source": [
    "loans.head()"
   ]
  },
  {
   "cell_type": "code",
   "execution_count": 25,
   "metadata": {
    "collapsed": false
   },
   "outputs": [],
   "source": [
    "#Change categorical variables into indicator variables\n",
    "#Change loan status to a number \"charged off\" is signal, so 1, \"fully paid\" is 0\n",
    "loans.replace({'loan_status': {'Fully Paid':0, 'Charged Off':1}}, inplace = True)\n",
    "#Change home_ownership variables (leaving NONE out)\n",
    "loans['has_mortgage'] = pd.Series(data=loans.home_ownership == 'MORTGAGE', index=loans.index)\n",
    "loans['has_rent'] = pd.Series(data=loans.home_ownership == 'RENT', index=loans.index)\n",
    "loans['has_own'] = pd.Series(data=loans.home_ownership == 'OWN', index=loans.index)\n",
    "loans['has_other'] = pd.Series(data=loans.home_ownership == 'OTHER', index=loans.index)\n",
    "#Change purpose varaiables (leaving out 'educational)\n",
    "loans['for_car'] = pd.Series(data=loans.purpose == 'car', index=loans.index)\n",
    "loans['for_cc'] = pd.Series(data=loans.purpose == 'credit_card', index=loans.index)\n",
    "loans['for_debt'] = pd.Series(data=loans.purpose == 'debt_consolidation', index=loans.index)\n",
    "loans['for_home_imp'] = pd.Series(data=loans.purpose == 'home_improvement', index=loans.index)\n",
    "loans['for_house'] = pd.Series(data=loans.purpose == 'house', index=loans.index)\n",
    "loans['for_purchase'] = pd.Series(data=loans.purpose == 'major_purchase', index=loans.index)\n",
    "loans['for_med'] = pd.Series(data=loans.purpose == 'medical', index=loans.index)\n",
    "loans['for_move'] = pd.Series(data=loans.purpose == 'moving', index=loans.index)\n",
    "loans['for_other'] = pd.Series(data=loans.purpose == 'other', index=loans.index)\n",
    "loans['for_energy'] = pd.Series(data=loans.purpose == 'renewable_energy', index=loans.index)\n",
    "loans['for_business'] = pd.Series(data=loans.purpose == 'small_business', index=loans.index)\n",
    "loans['for_vacation'] = pd.Series(data=loans.purpose == 'vacation', index=loans.index)\n",
    "loans['for_wedding'] = pd.Series(data=loans.purpose == 'wedding', index=loans.index)\n",
    "#Drop purpose and home_ownership columns\n",
    "loans.drop(['purpose', 'home_ownership'], axis = 1, inplace = True)"
   ]
  },
  {
   "cell_type": "code",
   "execution_count": 26,
   "metadata": {
    "collapsed": false
   },
   "outputs": [],
   "source": [
    "#Pull out the labels and features\n",
    "labels = loans['loan_status']\n",
    "features = loans.drop('loan_status', axis = 1)"
   ]
  },
  {
   "cell_type": "code",
   "execution_count": 27,
   "metadata": {
    "collapsed": false
   },
   "outputs": [],
   "source": [
    "#Create a data frame for imputing the features\n",
    "drop_list = ['mths_since_last_delinq', 'mths_since_last_record', 'mths_since_last_major_derog',\n",
    "             'total_credit_rv']\n",
    "features_impute = features.drop(drop_list, axis = 1)\n",
    "#Get the features for imputation\n",
    "since_delinq = features['mths_since_last_delinq']\n",
    "since_record = features['mths_since_last_record']\n",
    "since_derog = features['mths_since_last_major_derog']\n",
    "total_cred = features['total_credit_rv']\n"
   ]
  },
  {
   "cell_type": "code",
   "execution_count": 36,
   "metadata": {
    "collapsed": false
   },
   "outputs": [
    {
     "data": {
      "text/plain": [
       "3         35\n",
       "16        61\n",
       "18         8\n",
       "27        20\n",
       "28        18\n",
       "33        45\n",
       "41        38\n",
       "45        45\n",
       "71        48\n",
       "72        41\n",
       "75        40\n",
       "76        74\n",
       "79        25\n",
       "80        35\n",
       "84        53\n",
       "91        39\n",
       "93        10\n",
       "94        26\n",
       "98        35\n",
       "114       77\n",
       "116       28\n",
       "117       74\n",
       "120       28\n",
       "121       56\n",
       "123       74\n",
       "126       52\n",
       "133       24\n",
       "136       16\n",
       "141       60\n",
       "146       54\n",
       "          ..\n",
       "756500     5\n",
       "756512    44\n",
       "756513    58\n",
       "756534    34\n",
       "756538    58\n",
       "756544    14\n",
       "756546    26\n",
       "756565    35\n",
       "756566    64\n",
       "756608    29\n",
       "756615    32\n",
       "756623    31\n",
       "756624    71\n",
       "756629    49\n",
       "756636    62\n",
       "756653    15\n",
       "756672     5\n",
       "756677    60\n",
       "756704    62\n",
       "756705     5\n",
       "756752    20\n",
       "756765    10\n",
       "756791    29\n",
       "756804    11\n",
       "756808    11\n",
       "756831    73\n",
       "756845    45\n",
       "756851    38\n",
       "756865    16\n",
       "756870    65\n",
       "Name: mths_since_last_delinq, dtype: float64"
      ]
     },
     "execution_count": 36,
     "metadata": {},
     "output_type": "execute_result"
    }
   ],
   "source": [
    "#Get the known and unknown components for the values and features\n",
    "since_delinq_unknown = since_delinq[since_delinq.isnull()]\n",
    "since_delinq_known = since_delinq[since_delinq.isnull() == False]\n",
    "delinq_feats_unknown = features_impute[since_delinq.isnull()]\n",
    "delinq_feats_known = features_impute[since_delinq.isnull() == False]\n",
    "\n",
    "since_record_unknown = since_record[since_record.isnull()]\n",
    "since_record_known = since_record[since_record.isnull() == False]\n",
    "record_feats_unknown = features_impute[since_record.isnull()]\n",
    "record_feats_known = features_impute[since_record.isnull() == False]\n",
    "\n",
    "since_derog_unknown = since_derog[since_derog.isnull()]\n",
    "since_derog_known = since_derog[since_derog.isnull() == False]\n",
    "derog_feats_unknown = features_impute[since_derog.isnull()]\n",
    "derog_feats_known = features_impute[since_derog.isnull() == False]\n",
    "\n",
    "total_cred_unknown = total_cred[total_cred.isnull()]\n",
    "total_cred_known = total_cred[total_cred.isnull() == False]\n",
    "cred_feats_unknown = features_impute[total_cred.isnull()]\n",
    "cred_feats_known = features_impute[total_cred.isnull() == False]"
   ]
  },
  {
   "cell_type": "code",
   "execution_count": null,
   "metadata": {
    "collapsed": true
   },
   "outputs": [],
   "source": []
  },
  {
   "cell_type": "code",
   "execution_count": null,
   "metadata": {
    "collapsed": true
   },
   "outputs": [],
   "source": []
  },
  {
   "cell_type": "code",
   "execution_count": null,
   "metadata": {
    "collapsed": true
   },
   "outputs": [],
   "source": []
  },
  {
   "cell_type": "markdown",
   "metadata": {},
   "source": [
    "Numeric fields requiring processing.\n",
    "\n",
    "Reliable: revol_util\n",
    "\n",
    "Not reliable: emp_length"
   ]
  },
  {
   "cell_type": "markdown",
   "metadata": {},
   "source": [
    "Imputation protocol: variables to use for imputation: emp_length, home_ownership, annual_inc, purpose, dti, delinq_2yrs, earliest_cr_line, inq_last_6mths, open_acc, pub_rec, revol_bal, total_acc, last_credit_pull_d, revol_util, add any zip_code based features\n",
    "Variables with missing values to impute: mths_since_last_delinq, mths_since_last_record, mths_since_last_major_derog, total_credit_rv\n"
   ]
  }
 ],
 "metadata": {
  "kernelspec": {
   "display_name": "Python 2",
   "language": "python",
   "name": "python2"
  },
  "language_info": {
   "codemirror_mode": {
    "name": "ipython",
    "version": 2
   },
   "file_extension": ".py",
   "mimetype": "text/x-python",
   "name": "python",
   "nbconvert_exporter": "python",
   "pygments_lexer": "ipython2",
   "version": "2.7.10"
  }
 },
 "nbformat": 4,
 "nbformat_minor": 0
}
