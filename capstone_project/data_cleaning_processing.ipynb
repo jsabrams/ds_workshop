{
 "cells": [
  {
   "cell_type": "code",
   "execution_count": null,
   "metadata": {
    "collapsed": true
   },
   "outputs": [],
   "source": [
    "#Import some modules\n",
    "%matplotlib inline\n",
    "import numpy as np\n",
    "import pandas as pd\n",
    "import utils as ut\n",
    "import datetime as dt\n",
    "\n",
    "\n",
    "\n",
    "#Load in the data\n",
    "df1 = pd.read_csv('LoanStats3a.csv', skiprows = 1, \n",
    "                  parse_dates = ['issue_d', 'earliest_cr_line', 'last_pymnt_d', 'last_credit_pull_d'],\n",
    "                 skipfooter = 2)\n",
    "df2 = pd.read_csv('LoanStats3b.csv', skiprows = 1, \n",
    "                  parse_dates = ['issue_d', 'earliest_cr_line', 'last_pymnt_d', 'last_credit_pull_d'],\n",
    "                 skipfooter = 2, infer_datetime_format=True)\n",
    "df3 = pd.read_csv('LoanStats3c.csv', skiprows = 1, \n",
    "                  parse_dates = ['issue_d', 'earliest_cr_line', 'last_pymnt_d', 'last_credit_pull_d'],\n",
    "                 skipfooter = 2, infer_datetime_format=True)\n",
    "df4 = pd.read_csv('LoanStats3d.csv', skiprows = 1, \n",
    "                  parse_dates = ['issue_d', 'earliest_cr_line', 'last_pymnt_d', 'last_credit_pull_d'],\n",
    "                 skipfooter = 2, infer_datetime_format=True)\n",
    "\n",
    "loans = pd.concat([df1, df2, df3, df4], ignore_index = True)\n",
    "\n",
    "del df1\n",
    "del df2\n",
    "del df3\n",
    "del df4"
   ]
  },
  {
   "cell_type": "code",
   "execution_count": null,
   "metadata": {
    "collapsed": true
   },
   "outputs": [],
   "source": [
    "#Change 'does not meet...' fields \n",
    "loans.replace(to_replace = 'Does not meet the credit policy. Status:Fully Paid', value = 'Fully Paid', inplace = True)\n",
    "loans.replace(to_replace = 'Does not meet the credit policy. Status:Charged Off', value = 'Charged Off', inplace = True)\n",
    "\n",
    "#Assign default to charged off\n",
    "loans.replace(to_replace = 'Default', value = 'Charged Off', inplace = True)"
   ]
  },
  {
   "cell_type": "code",
   "execution_count": null,
   "metadata": {
    "collapsed": true
   },
   "outputs": [],
   "source": [
    "#Filter out everything but 'fully paid' and 'charged off'\n",
    "loans = loans[(loans.loan_status == 'Fully Paid') | (loans.loan_status == 'Charged Off')]"
   ]
  },
  {
   "cell_type": "code",
   "execution_count": null,
   "metadata": {
    "collapsed": true
   },
   "outputs": [],
   "source": [
    "#Clean home_ownership\n",
    "#There is one loan with home_ownwership == 'ANY', add that to 'OTHER'\n",
    "loans.home_ownership.replace(to_replace = 'ANY', value = 'OTHER', inplace = True)"
   ]
  },
  {
   "cell_type": "code",
   "execution_count": null,
   "metadata": {
    "collapsed": true
   },
   "outputs": [],
   "source": [
    "#Clean emp_length\n",
    "#Create a dictionary to change the year strings into numbers\n",
    "year_dict = {'emp_length':{'10+ years':10, '< 1 year':0, '3 years':3, '9 years':9, '4 years':4, '5 years':5,\n",
    "       '1 year':1, '6 years':6, '2 years':2, '7 years':7, '8 years':8, 'n/a':-1}}\n",
    "#Replace the year strings with numbers\n",
    "loans.replace(year_dict, inplace = True)"
   ]
  },
  {
   "cell_type": "code",
   "execution_count": null,
   "metadata": {
    "collapsed": true
   },
   "outputs": [],
   "source": [
    "#Clean revol_util\n",
    "#nans are rare, there are no zeros, pretty sure nan is either a zero or decline to report\n",
    "#replace nans with 0%\n",
    "loans.revol_util.fillna('0%', inplace = True)\n",
    "\n",
    "#Create a dictionary to convert revol_util strings to floats\n",
    "revol_ut_dict = {revol_ut: float(revol_ut[0:-1]) for revol_ut in loans.revol_util.unique()}\n",
    "\n",
    "#Replace string revol_util with floats\n",
    "loans.replace(to_replace = {'revol_util': revol_ut_dict}, inplace = True)"
   ]
  },
  {
   "cell_type": "code",
   "execution_count": null,
   "metadata": {
    "collapsed": true
   },
   "outputs": [],
   "source": []
  },
  {
   "cell_type": "code",
   "execution_count": null,
   "metadata": {
    "collapsed": true
   },
   "outputs": [],
   "source": []
  },
  {
   "cell_type": "code",
   "execution_count": null,
   "metadata": {
    "collapsed": true
   },
   "outputs": [],
   "source": []
  },
  {
   "cell_type": "code",
   "execution_count": null,
   "metadata": {
    "collapsed": true
   },
   "outputs": [],
   "source": []
  },
  {
   "cell_type": "code",
   "execution_count": null,
   "metadata": {
    "collapsed": true
   },
   "outputs": [],
   "source": [
    "#Process the dates\n",
    "base_time = dt.datetime.now()\n",
    "#Parse the dates into datetime objects\n",
    "cr_line = ut.parse_date_series(loans.earliest_cr_line)\n",
    "pl_date = ut.parse_date_series(loans.last_credit_pull_d)"
   ]
  },
  {
   "cell_type": "code",
   "execution_count": null,
   "metadata": {
    "collapsed": true
   },
   "outputs": [],
   "source": [
    "#Fill (few) null times with the current time\n",
    "cr_line.fillna(value = base_time, inplace = True)\n",
    "pl_date.fillna(value = base_time, inplace = True)"
   ]
  },
  {
   "cell_type": "code",
   "execution_count": null,
   "metadata": {
    "collapsed": true
   },
   "outputs": [],
   "source": [
    "#Get the months since first credit and last credit pull\n",
    "cr_line_months = ut.months_since(base_time, cr_line)\n",
    "pl_date_months = ut.months_since(base_time, pl_date)"
   ]
  },
  {
   "cell_type": "code",
   "execution_count": null,
   "metadata": {
    "collapsed": true
   },
   "outputs": [],
   "source": [
    "#Change null values into the means\n",
    "cr_line_months.replace(to_replace=0, value=cr_line_months.mean(), inplace=True)\n",
    "pl_date_months.replace(to_replace=0, value=pl_date_months.mean(), inplace=True)"
   ]
  },
  {
   "cell_type": "code",
   "execution_count": null,
   "metadata": {
    "collapsed": true
   },
   "outputs": [],
   "source": [
    "#Add the new columns to the data\n",
    "loans['erlst_cred'] = cr_line_months\n",
    "loans['last_cred_pl'] = pl_date_months\n",
    "\n",
    "del cr_line_months\n",
    "del pl_date_months"
   ]
  },
  {
   "cell_type": "code",
   "execution_count": null,
   "metadata": {
    "collapsed": true
   },
   "outputs": [],
   "source": [
    "#Read in IRS zipcode data\n",
    "zip_data = pd.read_pickle('anon_avg_irs_data.pkl')"
   ]
  },
  {
   "cell_type": "code",
   "execution_count": null,
   "metadata": {
    "collapsed": true
   },
   "outputs": [],
   "source": [
    "#Create a dictionary to convert anonomized string zipcodes into integers\n",
    "code_dict = {code: int(code[0:3]) for code in loans.zip_code.unique()}\n",
    "#Replace string zipcodes with integer zipcodes\n",
    "loans.replace(to_replace = {'zip_code': code_dict}, inplace = True)"
   ]
  },
  {
   "cell_type": "code",
   "execution_count": null,
   "metadata": {
    "collapsed": true
   },
   "outputs": [],
   "source": [
    "#Drop unnecessary columns from zipcode data\n",
    "zip_data.drop(['adj_gross_inc', 'amt_SS', 'amt_edu', 'amt_itemized',\n",
    "       'amt_mort_intr', 'amt_st_loans', 'amt_unemp', 'n_SS', 'n_edu',\n",
    "       'n_farm', 'n_itemized', 'n_mort_intr', 'n_returns', 'n_st_loans',\n",
    "       'n_unemp'], axis = 1, inplace=True)\n",
    "#Rename the zipcd column so that we can do a join\n",
    "zip_data.rename(columns = {'zipcd':'zip_code'}, inplace = True)"
   ]
  },
  {
   "cell_type": "code",
   "execution_count": null,
   "metadata": {
    "collapsed": true
   },
   "outputs": [],
   "source": [
    "#Join zipcode data to loan data on zip_code\n",
    "loans = loans.join(zip_data, on = 'zip_code', rsuffix = 'r')\n",
    "loans.drop('zip_coder', axis = 1, inplace = True)\n",
    "del zip_data"
   ]
  },
  {
   "cell_type": "code",
   "execution_count": null,
   "metadata": {
    "collapsed": true
   },
   "outputs": [],
   "source": [
    "#Drop all columns not being used\n",
    "drop_list = ['id', 'member_id', 'loan_amnt', 'funded_amnt', 'funded_amnt_inv', 'term', 'int_rate',\n",
    "            'int_rate', 'installment', 'grade', 'sub_grade', 'emp_title', 'verification_status', 'issue_d',\n",
    "            'pymnt_plan', 'url', 'desc', 'title', 'zip_code', 'addr_state', 'earliest_cr_line', 'initial_list_status',\n",
    "            'out_prncp', 'out_prncp_inv', 'total_pymnt', 'total_pymnt_inv', 'total_rec_prncp', 'total_rec_int',\n",
    "            'total_rec_late_fee', 'recoveries', 'collection_recovery_fee', 'last_pymnt_d', 'last_pymnt_amnt',\n",
    "            'next_pymnt_d', 'last_credit_pull_d', 'policy_code', 'application_type', 'annual_inc_joint',\n",
    "            'dti_joint', 'verification_status_joint', 'tot_cur_bal', 'open_acc_6m', 'open_il_6m', 'open_il_12m',\n",
    "            'open_il_24m', 'mths_since_rcnt_il', 'total_bal_il', 'il_util', 'open_rv_12m', 'open_rv_24m',\n",
    "            'total_bal_il', 'il_util', 'open_rv_12m', 'open_rv_24m','max_bal_bc', 'all_util',\n",
    "            'inq_fi', 'total_fi_tl', 'inq_last_12m']\n",
    "loans.drop(drop_list, axis = 1, inplace = True)"
   ]
  },
  {
   "cell_type": "code",
   "execution_count": null,
   "metadata": {
    "collapsed": true
   },
   "outputs": [],
   "source": [
    "#Change categorical variables into indicator variables\n",
    "#Change loan status to a number \"charged off\" is signal, so 1, \"fully paid\" is 0\n",
    "loans.replace({'loan_status': {'Fully Paid':0, 'Charged Off':1}}, inplace = True)\n",
    "#Change home_ownership variables (leaving NONE out)\n",
    "loans['has_mortgage'] = pd.Series(data=loans.home_ownership == 'MORTGAGE', index=loans.index)\n",
    "loans['has_rent'] = pd.Series(data=loans.home_ownership == 'RENT', index=loans.index)\n",
    "loans['has_own'] = pd.Series(data=loans.home_ownership == 'OWN', index=loans.index)\n",
    "loans['has_other'] = pd.Series(data=loans.home_ownership == 'OTHER', index=loans.index)\n",
    "#Change purpose varaiables (leaving out 'educational)\n",
    "loans['for_car'] = pd.Series(data=loans.purpose == 'car', index=loans.index)\n",
    "loans['for_cc'] = pd.Series(data=loans.purpose == 'credit_card', index=loans.index)\n",
    "loans['for_debt'] = pd.Series(data=loans.purpose == 'debt_consolidation', index=loans.index)\n",
    "loans['for_home_imp'] = pd.Series(data=loans.purpose == 'home_improvement', index=loans.index)\n",
    "loans['for_house'] = pd.Series(data=loans.purpose == 'house', index=loans.index)\n",
    "loans['for_purchase'] = pd.Series(data=loans.purpose == 'major_purchase', index=loans.index)\n",
    "loans['for_med'] = pd.Series(data=loans.purpose == 'medical', index=loans.index)\n",
    "loans['for_move'] = pd.Series(data=loans.purpose == 'moving', index=loans.index)\n",
    "loans['for_other'] = pd.Series(data=loans.purpose == 'other', index=loans.index)\n",
    "loans['for_energy'] = pd.Series(data=loans.purpose == 'renewable_energy', index=loans.index)\n",
    "loans['for_business'] = pd.Series(data=loans.purpose == 'small_business', index=loans.index)\n",
    "loans['for_vacation'] = pd.Series(data=loans.purpose == 'vacation', index=loans.index)\n",
    "loans['for_wedding'] = pd.Series(data=loans.purpose == 'wedding', index=loans.index)\n",
    "#Drop purpose and home_ownership columns\n",
    "loans.drop(['purpose', 'home_ownership'], axis = 1, inplace = True)"
   ]
  },
  {
   "cell_type": "code",
   "execution_count": null,
   "metadata": {
    "collapsed": true
   },
   "outputs": [],
   "source": [
    "#Pull out the labels and features\n",
    "labels = loans['loan_status']\n",
    "features = loans.drop('loan_status', axis = 1)"
   ]
  },
  {
   "cell_type": "code",
   "execution_count": null,
   "metadata": {
    "collapsed": true
   },
   "outputs": [],
   "source": [
    "#Create a data frame for imputing the features\n",
    "drop_list = ['mths_since_last_delinq', 'mths_since_last_record', 'mths_since_last_major_derog',\n",
    "             'total_credit_rv']\n",
    "features_impute = features.drop(drop_list, axis = 1)\n",
    "#Get the features for imputation\n",
    "since_delinq = features['mths_since_last_delinq']\n",
    "since_record = features['mths_since_last_record']\n",
    "since_derog = features['mths_since_last_major_derog']\n",
    "total_cred = features['total_credit_rv']"
   ]
  },
  {
   "cell_type": "code",
   "execution_count": null,
   "metadata": {
    "collapsed": true
   },
   "outputs": [],
   "source": [
    "#Get the known and unknown components for the values and features\n",
    "since_delinq_unknown = since_delinq[since_delinq.isnull()]\n",
    "since_delinq_known = since_delinq[since_delinq.isnull() == False]\n",
    "delinq_feats_unknown = features_impute[since_delinq.isnull()]\n",
    "delinq_feats_known = features_impute[since_delinq.isnull() == False]\n",
    "\n",
    "since_record_unknown = since_record[since_record.isnull()]\n",
    "since_record_known = since_record[since_record.isnull() == False]\n",
    "record_feats_unknown = features_impute[since_record.isnull()]\n",
    "record_feats_known = features_impute[since_record.isnull() == False]\n",
    "\n",
    "since_derog_unknown = since_derog[since_derog.isnull()]\n",
    "since_derog_known = since_derog[since_derog.isnull() == False]\n",
    "derog_feats_unknown = features_impute[since_derog.isnull()]\n",
    "derog_feats_known = features_impute[since_derog.isnull() == False]\n",
    "\n",
    "total_cred_unknown = total_cred[total_cred.isnull()]\n",
    "total_cred_known = total_cred[total_cred.isnull() == False]\n",
    "cred_feats_unknown = features_impute[total_cred.isnull()]\n",
    "cred_feats_known = features_impute[total_cred.isnull() == False]"
   ]
  },
  {
   "cell_type": "code",
   "execution_count": null,
   "metadata": {
    "collapsed": true
   },
   "outputs": [],
   "source": [
    "#from sklearn.preprocessing import MinMaxScaler\n",
    "#test = delinq_feats_unknown.values\n",
    "#scaler = MinMaxScaler()\n",
    "#scale_test = scaler.fit_transform(test)\n",
    "#scale_test"
   ]
  },
  {
   "cell_type": "code",
   "execution_count": null,
   "metadata": {
    "collapsed": true
   },
   "outputs": [],
   "source": []
  },
  {
   "cell_type": "code",
   "execution_count": null,
   "metadata": {
    "collapsed": true
   },
   "outputs": [],
   "source": []
  }
 ],
 "metadata": {
  "kernelspec": {
   "display_name": "Python 2",
   "language": "python",
   "name": "python2"
  },
  "language_info": {
   "codemirror_mode": {
    "name": "ipython",
    "version": 2
   },
   "file_extension": ".py",
   "mimetype": "text/x-python",
   "name": "python",
   "nbconvert_exporter": "python",
   "pygments_lexer": "ipython2",
   "version": "2.7.10"
  }
 },
 "nbformat": 4,
 "nbformat_minor": 0
}
